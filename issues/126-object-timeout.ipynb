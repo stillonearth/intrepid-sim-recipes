{
 "cells": [
  {
   "cell_type": "code",
   "execution_count": 14,
   "id": "de15de98",
   "metadata": {},
   "outputs": [],
   "source": [
    "from centrifuge import Client"
   ]
  },
  {
   "cell_type": "code",
   "execution_count": 15,
   "id": "33ac7f0b",
   "metadata": {},
   "outputs": [],
   "source": [
    "client = Client(\"ws://localhost:9120/connection/websocket\")"
   ]
  },
  {
   "cell_type": "code",
   "execution_count": 16,
   "id": "03361ebb",
   "metadata": {},
   "outputs": [],
   "source": [
    "await client.connect()"
   ]
  },
  {
   "cell_type": "code",
   "execution_count": 17,
   "id": "e27e25a7",
   "metadata": {},
   "outputs": [
    {
     "data": {
      "text/plain": [
       "RpcResult(data='53v1')"
      ]
     },
     "execution_count": 17,
     "metadata": {},
     "output_type": "execute_result"
    }
   ],
   "source": [
    "await client.rpc(\"map.spawn_urdf\",\n",
    "{\n",
    "  \"robot_id\": 1,\n",
    "  \"position\": {\"x\": 0, \"y\": 0},\n",
    "  \"rotation\": {\"yz\": 0, \"zx\": 0, \"xy\": 0},\n",
    "  \"urdf_path\": \"flamingo_edu/urdf/Edu_v4.urdf\",\n",
    "  \"mesh_dir\": \"assets/flamingo_edu/urdf\",\n",
    "},)"
   ]
  },
  {
   "cell_type": "code",
   "execution_count": 11,
   "id": "b03b423b",
   "metadata": {},
   "outputs": [
    {
     "data": {
      "text/plain": [
       "RpcResult(data={'x': -1.4842625e-07, 'y': 0.05279553, 'z': 0.08503701})"
      ]
     },
     "execution_count": 11,
     "metadata": {},
     "output_type": "execute_result"
    }
   ],
   "source": [
    "await client.rpc(\"object_{object}.position\".format(object=\"53v1\"), None)\n"
   ]
  },
  {
   "cell_type": "code",
   "execution_count": 18,
   "id": "cf9fa2bf",
   "metadata": {},
   "outputs": [
    {
     "data": {
      "text/plain": [
       "RpcResult(data=None)"
      ]
     },
     "execution_count": 18,
     "metadata": {},
     "output_type": "execute_result"
    }
   ],
   "source": [
    "await client.rpc(\"object_{object}.despawn\".format(object=\"53v1\"), None)"
   ]
  },
  {
   "cell_type": "code",
   "execution_count": 19,
   "id": "0071ed1b",
   "metadata": {},
   "outputs": [
    {
     "data": {
      "text/plain": [
       "RpcResult(data='54v2')"
      ]
     },
     "execution_count": 19,
     "metadata": {},
     "output_type": "execute_result"
    }
   ],
   "source": [
    "await client.rpc(\"map.spawn_urdf\",\n",
    "{\n",
    "  \"robot_id\": 1,\n",
    "  \"position\": {\"x\": 0, \"y\": 0},\n",
    "  \"rotation\": {\"yz\": 0, \"zx\": 0, \"xy\": 0},\n",
    "  \"urdf_path\": \"flamingo_edu/urdf/Edu_v4.urdf\",\n",
    "  \"mesh_dir\": \"assets/flamingo_edu/urdf\",\n",
    "},)"
   ]
  },
  {
   "cell_type": "code",
   "execution_count": 22,
   "id": "07988e0e",
   "metadata": {},
   "outputs": [
    {
     "data": {
      "text/plain": [
       "RpcResult(data=[-7.450581e-09, 0.17007402, 3.0146805e-07, -0.70710677, -6.181724e-08, 0.0, 0.70710677, -0.0039999895, 0.090074025, -0.13599971, 4.3704944e-08, -1.0, 1.7881392e-06, -3.6637016e-06, -0.16329, 0.10515201, -0.13645093, 4.3704944e-08, -1.0, 1.7881392e-06, -3.6637016e-06, -0.033289738, 0.011877902, -0.16794965, 4.3704944e-08, -1.0, 1.7881392e-06, -3.6637016e-06, -0.004000012, 0.090074025, 0.1360003, 1.7881393e-06, -4.371131e-08, 4.3711466e-08, 1.0, -0.16329, 0.10515201, 0.13645035, 1.7881393e-06, -4.371131e-08, 4.3711466e-08, 1.0, -0.033290006, 0.011877902, 0.16795003, 1.7881393e-06, -4.371131e-08, 4.3711466e-08, 1.0, 0.052, 0.09157803, 3.0601402e-07, -0.70710677, -6.181724e-08, 0.0, 0.70710677, -0.12600002, 0.08947319, 2.9045276e-07, -0.70710677, -6.181724e-08, 0.0, 0.70710677, -3.1415927, 0.0, 0.0, -0.0, 0.0, 0.0])"
      ]
     },
     "execution_count": 22,
     "metadata": {},
     "output_type": "execute_result"
    }
   ],
   "source": [
    "await client.rpc(\"object_{object}.urdf_state\".format(object=\"54v2\"), None)\n"
   ]
  },
  {
   "cell_type": "code",
   "execution_count": 23,
   "id": "f8ddf3bf",
   "metadata": {},
   "outputs": [
    {
     "data": {
      "text/plain": [
       "RpcResult(data={'x': -1.4842625e-07, 'y': 0.05279553, 'z': 0.08503701})"
      ]
     },
     "execution_count": 23,
     "metadata": {},
     "output_type": "execute_result"
    }
   ],
   "source": [
    "await client.rpc(\"object_{object}.position\".format(object=\"54v2\"), None)\n"
   ]
  },
  {
   "cell_type": "code",
   "execution_count": 24,
   "id": "40b3c9e9",
   "metadata": {},
   "outputs": [],
   "source": [
    "# random control\n",
    "import numpy as np\n",
    "\n",
    "control = np.random.uniform(-5, 5, 8)"
   ]
  },
  {
   "cell_type": "code",
   "execution_count": 27,
   "id": "05873159",
   "metadata": {},
   "outputs": [
    {
     "data": {
      "text/plain": [
       "RpcResult(data=None)"
      ]
     },
     "execution_count": 27,
     "metadata": {},
     "output_type": "execute_result"
    }
   ],
   "source": [
    "await client.rpc(\"object_{object}.actuator_control\".format(object=\"54v2\"), control.tolist())"
   ]
  },
  {
   "cell_type": "code",
   "execution_count": 29,
   "id": "84850810",
   "metadata": {},
   "outputs": [
    {
     "data": {
      "text/plain": [
       "RpcResult(data=None)"
      ]
     },
     "execution_count": 29,
     "metadata": {},
     "output_type": "execute_result"
    }
   ],
   "source": [
    "await client.rpc(\"session.step\".format(object=\"54v2\"), None)"
   ]
  },
  {
   "cell_type": "code",
   "execution_count": 30,
   "id": "95ced78e",
   "metadata": {},
   "outputs": [
    {
     "ename": "OperationTimeoutError",
     "evalue": "",
     "output_type": "error",
     "traceback": [
      "\u001b[0;31m---------------------------------------------------------------------------\u001b[0m",
      "\u001b[0;31mOperationTimeoutError\u001b[0m                     Traceback (most recent call last)",
      "Cell \u001b[0;32mIn[30], line 1\u001b[0m\n\u001b[0;32m----> 1\u001b[0m \u001b[38;5;28;01mawait\u001b[39;00m client\u001b[38;5;241m.\u001b[39mrpc(\u001b[38;5;124m\"\u001b[39m\u001b[38;5;124mobject_\u001b[39m\u001b[38;5;132;01m{object}\u001b[39;00m\u001b[38;5;124m.urdf_state\u001b[39m\u001b[38;5;124m\"\u001b[39m\u001b[38;5;241m.\u001b[39mformat(\u001b[38;5;28mobject\u001b[39m\u001b[38;5;241m=\u001b[39m\u001b[38;5;124m\"\u001b[39m\u001b[38;5;124m54v2\u001b[39m\u001b[38;5;124m\"\u001b[39m), \u001b[38;5;28;01mNone\u001b[39;00m)\n",
      "File \u001b[0;32m~/anaconda3/envs/jax/lib/python3.11/site-packages/centrifuge/client.py:1075\u001b[0m, in \u001b[0;36mClient.rpc\u001b[0;34m(self, method, data, timeout)\u001b[0m\n\u001b[1;32m   1073\u001b[0m future \u001b[38;5;241m=\u001b[39m \u001b[38;5;28mself\u001b[39m\u001b[38;5;241m.\u001b[39m_register_future(cmd_id, timeout \u001b[38;5;129;01mor\u001b[39;00m \u001b[38;5;28mself\u001b[39m\u001b[38;5;241m.\u001b[39m_timeout)\n\u001b[1;32m   1074\u001b[0m \u001b[38;5;28;01mawait\u001b[39;00m \u001b[38;5;28mself\u001b[39m\u001b[38;5;241m.\u001b[39m_send_commands([command])\n\u001b[0;32m-> 1075\u001b[0m reply \u001b[38;5;241m=\u001b[39m \u001b[38;5;28;01mawait\u001b[39;00m future\n\u001b[1;32m   1076\u001b[0m \u001b[38;5;28mself\u001b[39m\u001b[38;5;241m.\u001b[39m_check_reply_error(reply)\n\u001b[1;32m   1077\u001b[0m \u001b[38;5;28;01mreturn\u001b[39;00m RpcResult(\n\u001b[1;32m   1078\u001b[0m     data\u001b[38;5;241m=\u001b[39m\u001b[38;5;28mself\u001b[39m\u001b[38;5;241m.\u001b[39m_decode_data(reply[\u001b[38;5;124m\"\u001b[39m\u001b[38;5;124mrpc\u001b[39m\u001b[38;5;124m\"\u001b[39m]\u001b[38;5;241m.\u001b[39mget(\u001b[38;5;124m\"\u001b[39m\u001b[38;5;124mdata\u001b[39m\u001b[38;5;124m\"\u001b[39m)),\n\u001b[1;32m   1079\u001b[0m )\n",
      "\u001b[0;31mOperationTimeoutError\u001b[0m: "
     ]
    }
   ],
   "source": [
    "await client.rpc(\"object_{object}.urdf_state\".format(object=\"54v2\"), None)\n"
   ]
  },
  {
   "cell_type": "code",
   "execution_count": 31,
   "id": "42a3710e",
   "metadata": {},
   "outputs": [
    {
     "ename": "OperationTimeoutError",
     "evalue": "",
     "output_type": "error",
     "traceback": [
      "\u001b[0;31m---------------------------------------------------------------------------\u001b[0m",
      "\u001b[0;31mOperationTimeoutError\u001b[0m                     Traceback (most recent call last)",
      "Cell \u001b[0;32mIn[31], line 1\u001b[0m\n\u001b[0;32m----> 1\u001b[0m \u001b[38;5;28;01mawait\u001b[39;00m client\u001b[38;5;241m.\u001b[39mrpc(\u001b[38;5;124m\"\u001b[39m\u001b[38;5;124mobject_\u001b[39m\u001b[38;5;132;01m{object}\u001b[39;00m\u001b[38;5;124m.position\u001b[39m\u001b[38;5;124m\"\u001b[39m\u001b[38;5;241m.\u001b[39mformat(\u001b[38;5;28mobject\u001b[39m\u001b[38;5;241m=\u001b[39m\u001b[38;5;124m\"\u001b[39m\u001b[38;5;124m54v2\u001b[39m\u001b[38;5;124m\"\u001b[39m), \u001b[38;5;28;01mNone\u001b[39;00m)\n",
      "File \u001b[0;32m~/anaconda3/envs/jax/lib/python3.11/site-packages/centrifuge/client.py:1075\u001b[0m, in \u001b[0;36mClient.rpc\u001b[0;34m(self, method, data, timeout)\u001b[0m\n\u001b[1;32m   1073\u001b[0m future \u001b[38;5;241m=\u001b[39m \u001b[38;5;28mself\u001b[39m\u001b[38;5;241m.\u001b[39m_register_future(cmd_id, timeout \u001b[38;5;129;01mor\u001b[39;00m \u001b[38;5;28mself\u001b[39m\u001b[38;5;241m.\u001b[39m_timeout)\n\u001b[1;32m   1074\u001b[0m \u001b[38;5;28;01mawait\u001b[39;00m \u001b[38;5;28mself\u001b[39m\u001b[38;5;241m.\u001b[39m_send_commands([command])\n\u001b[0;32m-> 1075\u001b[0m reply \u001b[38;5;241m=\u001b[39m \u001b[38;5;28;01mawait\u001b[39;00m future\n\u001b[1;32m   1076\u001b[0m \u001b[38;5;28mself\u001b[39m\u001b[38;5;241m.\u001b[39m_check_reply_error(reply)\n\u001b[1;32m   1077\u001b[0m \u001b[38;5;28;01mreturn\u001b[39;00m RpcResult(\n\u001b[1;32m   1078\u001b[0m     data\u001b[38;5;241m=\u001b[39m\u001b[38;5;28mself\u001b[39m\u001b[38;5;241m.\u001b[39m_decode_data(reply[\u001b[38;5;124m\"\u001b[39m\u001b[38;5;124mrpc\u001b[39m\u001b[38;5;124m\"\u001b[39m]\u001b[38;5;241m.\u001b[39mget(\u001b[38;5;124m\"\u001b[39m\u001b[38;5;124mdata\u001b[39m\u001b[38;5;124m\"\u001b[39m)),\n\u001b[1;32m   1079\u001b[0m )\n",
      "\u001b[0;31mOperationTimeoutError\u001b[0m: "
     ]
    }
   ],
   "source": [
    "await client.rpc(\"object_{object}.position\".format(object=\"54v2\"), None)"
   ]
  },
  {
   "cell_type": "code",
   "execution_count": null,
   "id": "527f6ff9",
   "metadata": {},
   "outputs": [],
   "source": []
  }
 ],
 "metadata": {
  "kernelspec": {
   "display_name": "jax",
   "language": "python",
   "name": "python3"
  },
  "language_info": {
   "codemirror_mode": {
    "name": "ipython",
    "version": 3
   },
   "file_extension": ".py",
   "mimetype": "text/x-python",
   "name": "python",
   "nbconvert_exporter": "python",
   "pygments_lexer": "ipython3",
   "version": "3.11.7"
  }
 },
 "nbformat": 4,
 "nbformat_minor": 5
}
