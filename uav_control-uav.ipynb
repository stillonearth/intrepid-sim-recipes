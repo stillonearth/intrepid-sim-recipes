{
 "cells": [
  {
   "cell_type": "code",
   "execution_count": 1,
   "id": "685c8a72",
   "metadata": {},
   "outputs": [],
   "source": [
    "import requests\n",
    "import json\n",
    "import time\n",
    "import numpy as np\n",
    "\n",
    "\n",
    "class DronePhysicsClient:\n",
    "    def __init__(self, base_url=\"http://localhost:8080\"):\n",
    "        self.base_url = base_url\n",
    "        self.session = requests.Session()\n",
    "\n",
    "    def simulate_step(self, motor_thrusts, steps=1):\n",
    "        \"\"\"\n",
    "        Simulate one or more physics steps with given motor thrusts.\n",
    "\n",
    "        Args:\n",
    "            motor_thrusts: List or array of 4 thrust values for motors\n",
    "            steps: Number of simulation steps to run\n",
    "\n",
    "        Returns:\n",
    "            Dict containing drone state or error information\n",
    "        \"\"\"\n",
    "        url = f\"{self.base_url}/simulate\"\n",
    "        payload = {\n",
    "            \"motor_thrusts\": list(motor_thrusts),\n",
    "            \"steps\": steps\n",
    "        }\n",
    "\n",
    "        try:\n",
    "            response = self.session.post(url, json=payload)\n",
    "            response.raise_for_status()\n",
    "            return response.json()\n",
    "        except requests.exceptions.RequestException as e:\n",
    "            return {\"success\": False, \"error\": str(e)}\n",
    "\n",
    "    def reset_simulation(self):\n",
    "        \"\"\"Reset the simulation to initial state.\"\"\"\n",
    "        url = f\"{self.base_url}/reset\"\n",
    "\n",
    "        try:\n",
    "            response = self.session.post(url)\n",
    "            response.raise_for_status()\n",
    "            return response.json()\n",
    "        except requests.exceptions.RequestException as e:\n",
    "            return {\"success\": False, \"error\": str(e)}\n",
    "\n",
    "    def get_state(self):\n",
    "        \"\"\"Get current state of simulation without stepping.\"\"\"\n",
    "        url = f\"{self.base_url}/state\"\n",
    "\n",
    "        try:\n",
    "            response = self.session.get(url)\n",
    "            response.raise_for_status()\n",
    "            return response.json()\n",
    "        except requests.exceptions.RequestException as e:\n",
    "            return {\"success\": False, \"error\": str(e)}"
   ]
  },
  {
   "cell_type": "code",
   "execution_count": 2,
   "id": "404af92f",
   "metadata": {},
   "outputs": [],
   "source": [
    "client = DronePhysicsClient()"
   ]
  },
  {
   "cell_type": "code",
   "execution_count": 3,
   "id": "27c4bf45",
   "metadata": {},
   "outputs": [],
   "source": [
    "import matplotlib.pyplot as plt\n",
    "import numpy as np\n",
    "\n",
    "from quadcopter_control.controller import QuadcopterController\n",
    "from scipy.spatial.transform import Rotation as R\n",
    "from tqdm import tqdm"
   ]
  },
  {
   "cell_type": "code",
   "execution_count": 4,
   "id": "6e3a9820",
   "metadata": {},
   "outputs": [],
   "source": [
    "# Sim Constants\n",
    "\n",
    "DT_S = 1./ 60.\n",
    "\n",
    "DRONE_MASS = 0.027\n",
    "NEWTON_TO_RPM = 1\n",
    "\n",
    "Ixx = 1.4e-5\n",
    "Iyy = 1.4e-5\n",
    "Izz = 2.17e-5\n",
    "\n",
    "MIN_THRUST = 0.26477955 / 4 * 0.7\n",
    "MAX_THRUST = 0.26477955 / 4 * 1.5"
   ]
  },
  {
   "cell_type": "markdown",
   "id": "d7e48eba",
   "metadata": {},
   "source": []
  },
  {
   "cell_type": "code",
   "execution_count": 5,
   "id": "838d30bb",
   "metadata": {},
   "outputs": [],
   "source": [
    "def reset():\n",
    "    client.reset_simulation()"
   ]
  },
  {
   "cell_type": "code",
   "execution_count": 6,
   "id": "02cdd5e9",
   "metadata": {},
   "outputs": [],
   "source": [
    "def sim_step(motors):\n",
    "    motors = np.array([motors[0], motors[2], motors[3], motors[1]])\n",
    "\n",
    "    # scale\n",
    "    motors = motors * NEWTON_TO_RPM\n",
    "\n",
    "    state = client.simulate_step(motors.tolist(), steps=1)['data']\n",
    "\n",
    "    position = np.array([\n",
    "        state['position'][0],\n",
    "        state['position'][1],\n",
    "        state['position'][2],\n",
    "    ])\n",
    "\n",
    "    velocity = np.array([\n",
    "        state['velocity'][0],\n",
    "        state['velocity'][1],\n",
    "        state['velocity'][2],\n",
    "    ])\n",
    "\n",
    "    attitude = R.from_euler('xyz', [\n",
    "        state['rotation'][0],\n",
    "        state['rotation'][1],\n",
    "        state['rotation'][2],\n",
    "    ])\n",
    "\n",
    "    omega = np.array([\n",
    "        -state['angular_velocity'][0],\n",
    "        -state['angular_velocity'][1],\n",
    "        state['angular_velocity'][2],\n",
    "    ])\n",
    "\n",
    "    return {\n",
    "        'position': position,\n",
    "        'velocity': velocity,\n",
    "        'attitude': attitude,\n",
    "        'omega': omega\n",
    "    }"
   ]
  },
  {
   "cell_type": "code",
   "execution_count": 7,
   "id": "cf4fb585",
   "metadata": {},
   "outputs": [],
   "source": [
    "quadcopter_controller = QuadcopterController(\n",
    "    DT_S,\n",
    "    DRONE_MASS * 0.99,\n",
    "    Ixx, Iyy, Izz,\n",
    "    max_tilt_angle=0.7,\n",
    "    max_ascent_rate=5.0,\n",
    "    max_vel_xy=12,\n",
    "    max_accel_xy=1,\n",
    "    l=0.03,\n",
    "    min_motor_thrust=MIN_THRUST, \n",
    "    max_motor_thrust=MAX_THRUST,\n",
    ")"
   ]
  },
  {
   "cell_type": "code",
   "execution_count": 8,
   "id": "7b0ef74f",
   "metadata": {},
   "outputs": [],
   "source": [
    "def tune_controller(\n",
    "        target={\n",
    "            \"position\": np.array([0, 0, 5]),\n",
    "            \"velocity\": np.zeros(3),\n",
    "            \"acceleration\": np.zeros(3),\n",
    "            \"attitude\": R.from_quat([0, 0, 0, 1]),\n",
    "        },\n",
    "        kp_pqr=np.array([95.0, 95.0, 6.0]),\n",
    "        kp_bank=0.0,\n",
    "        kp_pos_z=0.0,\n",
    "        kp_vel_z=0.0,\n",
    "        ki_pos_z=0.0,\n",
    "        kp_pos_xy=0.0,\n",
    "        kp_yaw=0.0,\n",
    "        kp_vel_xy=0.0,\n",
    "        kappa=1.0,\n",
    "        n_episodes=500,\n",
    "):\n",
    "    reset()\n",
    "\n",
    "    quadcopter_controller.integrated_altitude_error = 0.0\n",
    "    quadcopter_controller.set_gains(\n",
    "        kp_pqr=kp_pqr,\n",
    "        kp_bank=kp_bank,\n",
    "        kp_pos_z=kp_pos_z,\n",
    "        kp_vel_z=kp_vel_z,\n",
    "        ki_pos_z=ki_pos_z,\n",
    "        kp_pos_xy=kp_pos_xy,\n",
    "        kp_yaw=kp_yaw,\n",
    "        kp_vel_xy=kp_vel_xy,\n",
    "        kappa=kappa\n",
    "    )\n",
    "\n",
    "    times = []\n",
    "    positions = []\n",
    "    velocities = []\n",
    "    attitudes = []\n",
    "    motors_ = []\n",
    "    omegas = []\n",
    "\n",
    "    state = sim_step([0, 0, 0, 0])\n",
    "\n",
    "    t = 0\n",
    "    for i in tqdm(range(n_episodes)):\n",
    "\n",
    "        motors = quadcopter_controller.run_control(\n",
    "            target['position'],\n",
    "            target['velocity'],\n",
    "            target['acceleration'],\n",
    "            target['attitude'],\n",
    "            state['position'],\n",
    "            state['velocity'],\n",
    "            state['omega'],\n",
    "            state['attitude'],\n",
    "        )\n",
    "        motors_.append(motors)\n",
    "\n",
    "        # accelerations.append(state['acceleration'])\n",
    "        attitudes.append(state['attitude'].as_quat())\n",
    "        positions.append(state['position'])\n",
    "        omegas.append(state['omega'])\n",
    "        velocities.append(state['velocity'])\n",
    "        times.append(t)\n",
    "        state = sim_step(motors)\n",
    "\n",
    "        t += DT_S\n",
    "\n",
    "    return (\n",
    "        np.array(times),\n",
    "        np.array(positions),\n",
    "        np.array(velocities),\n",
    "        np.array(attitudes),\n",
    "        np.array(omegas),\n",
    "        np.array(motors_)\n",
    "    )"
   ]
  },
  {
   "cell_type": "code",
   "execution_count": 9,
   "id": "da04593f",
   "metadata": {},
   "outputs": [],
   "source": [
    "reset()\n",
    "target = {\n",
    "    \"position\": np.array([-5, 3, 10]),\n",
    "    \"velocity\": np.zeros(3),\n",
    "    \"acceleration\": np.zeros(3),\n",
    "    \"attitude\": R.from_quat([0, 0, 0, 1]),\n",
    "}"
   ]
  },
  {
   "cell_type": "code",
   "execution_count": 10,
   "id": "3eaab12a",
   "metadata": {},
   "outputs": [
    {
     "name": "stderr",
     "output_type": "stream",
     "text": [
      "100%|██████████| 3000/3000 [00:02<00:00, 1111.74it/s]\n"
     ]
    }
   ],
   "source": [
    "(times, positions, velocities, attitudes, omegas, motors) =  tune_controller(\n",
    "    kp_pqr=np.array([25, 25, 5]),\n",
    "    ki_pos_z=2,\n",
    "    kp_pos_z=6,\n",
    "    kp_vel_z=12,\n",
    "    kp_pos_xy=8.0,\n",
    "    kp_vel_xy=8.0,\n",
    "    kp_yaw=1.0,\n",
    "    kp_bank=2.0,\n",
    "    n_episodes=3000,\n",
    "    target=target\n",
    ")"
   ]
  },
  {
   "cell_type": "code",
   "execution_count": 11,
   "id": "b915d516",
   "metadata": {},
   "outputs": [
    {
     "data": {
      "image/png": "[encoded data removed]",
      "text/plain": [
       "<Figure size 640x480 with 1 Axes>"
      ]
     },
     "metadata": {},
     "output_type": "display_data"
    },
    {
     "data": {
      "image/png": "[encoded data removed]",
      "text/plain": [
       "<Figure size 640x480 with 1 Axes>"
      ]
     },
     "metadata": {},
     "output_type": "display_data"
    },
    {
     "data": {
      "image/png": "[encoded data removed]",
      "text/plain": [
       "<Figure size 640x480 with 1 Axes>"
      ]
     },
     "metadata": {},
     "output_type": "display_data"
    }
   ],
   "source": [
    "plt.title(\"z\")\n",
    "plt.plot(positions[:, 2])\n",
    "plt.show()\n",
    "\n",
    "plt.title(\"x\")\n",
    "plt.plot(positions[:, 0])\n",
    "plt.show()\n",
    "\n",
    "plt.title(\"y\")\n",
    "plt.plot(positions[:, 1])\n",
    "plt.show()"
   ]
  }
 ],
 "metadata": {
  "kernelspec": {
   "display_name": "jax",
   "language": "python",
   "name": "python3"
  },
  "language_info": {
   "codemirror_mode": {
    "name": "ipython",
    "version": 3
   },
   "file_extension": ".py",
   "mimetype": "text/x-python",
   "name": "python",
   "nbconvert_exporter": "python",
   "pygments_lexer": "ipython3",
   "version": "3.11.7"
  }
 },
 "nbformat": 4,
 "nbformat_minor": 5
}
