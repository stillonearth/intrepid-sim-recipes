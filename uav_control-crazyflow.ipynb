{
 "cells": [
  {
   "cell_type": "code",
   "execution_count": null,
   "id": "151b1c34",
   "metadata": {},
   "outputs": [],
   "source": [
    "import matplotlib.pyplot as plt\n",
    "import numpy as np\n",
    "\n",
    "from crazyflow.constants import GRAVITY, MASS\n",
    "from crazyflow.control import Control\n",
    "from crazyflow.sim import Sim\n",
    "from quadcopter_control.controller import QuadcopterController\n",
    "from scipy.spatial.transform import Rotation as R\n",
    "from tqdm import tqdm"
   ]
  },
  {
   "cell_type": "code",
   "execution_count": null,
   "id": "3d901a42",
   "metadata": {},
   "outputs": [],
   "source": [
    "# Sim Constants\n",
    "\n",
    "DT_S = 1./60\n",
    "\n",
    "DRONE_MASS = 0.027\n",
    "NEWTON_TO_RPM = 1\n",
    "FPS = 60\n",
    "\n",
    "Ixx = 1.4e-5\n",
    "Iyy = 1.4e-5\n",
    "Izz = 2.17e-5\n",
    "\n",
    "MIN_THRUST = 0.26477955 / 4 * 0.8\n",
    "MAX_THRUST = 0.26477955 / 4 * 1.5"
   ]
  },
  {
   "cell_type": "code",
   "execution_count": null,
   "id": "19ad90c0",
   "metadata": {},
   "outputs": [],
   "source": [
    "sim = Sim(control=Control.thrust, thrust_freq=100, freq=100)"
   ]
  },
  {
   "cell_type": "code",
   "execution_count": null,
   "id": "ad3c0546",
   "metadata": {},
   "outputs": [],
   "source": [
    "def reset():\n",
    "    sim.reset()"
   ]
  },
  {
   "cell_type": "code",
   "execution_count": null,
   "id": "61328f80",
   "metadata": {},
   "outputs": [],
   "source": [
    "def sim_step(motors):\n",
    "    # change motor order\n",
    "    motors = np.array([motors[0], motors[2], motors[3], motors[1]])\n",
    "\n",
    "    # scale\n",
    "    motors = motors * NEWTON_TO_RPM\n",
    "\n",
    "    sim.thrust_control(motors.reshape(1, 1, 4))\n",
    "    sim.step(sim.freq // sim.control_freq)\n",
    "\n",
    "    position = np.array(sim.data.states.pos.reshape(3))\n",
    "    velocity = np.array(sim.data.states.vel.reshape(3))\n",
    "    attitude = R.from_quat(sim.data.states.quat.reshape(4), scalar_first=False)\n",
    "    omega    = np.array(sim.data.states.ang_vel.reshape(3))\n",
    "\n",
    "\n",
    "    omega[0], omega[1], omega[2] = -omega[0], -omega[1], omega[2]\n",
    "\n",
    "    return {\n",
    "        'position': position,\n",
    "        'velocity': velocity,\n",
    "        'attitude': attitude,\n",
    "        'omega': omega\n",
    "    }"
   ]
  },
  {
   "cell_type": "code",
   "execution_count": null,
   "id": "28aed621",
   "metadata": {},
   "outputs": [],
   "source": [
    "quadcopter_controller = QuadcopterController(\n",
    "    DT_S,\n",
    "    DRONE_MASS * 0.99,\n",
    "    Ixx, Iyy, Izz,\n",
    "    0.7, \n",
    "    5, 5, 5, \n",
    "    0.03,\n",
    "    MIN_THRUST, MAX_THRUST,\n",
    ")"
   ]
  },
  {
   "cell_type": "code",
   "execution_count": null,
   "id": "2bf6e759",
   "metadata": {},
   "outputs": [],
   "source": [
    "def tune_controller(\n",
    "        target={\n",
    "            \"position\": np.array([0, 0, 5]),\n",
    "            \"velocity\": np.zeros(3),\n",
    "            \"acceleration\": np.zeros(3),\n",
    "            \"attitude\": R.from_quat([0, 0, 0, 1]),\n",
    "        },\n",
    "        kp_pqr=np.array([95.0, 95.0, 6.0]),\n",
    "        kp_bank=0.0,\n",
    "        kp_pos_z=0.0,\n",
    "        kp_vel_z=0.0,\n",
    "        ki_pos_z=0.0,\n",
    "        kp_pos_xy=0.0,\n",
    "        kp_yaw=0.0,\n",
    "        kp_vel_xy=0.0,\n",
    "        kappa=1.0,\n",
    "        n_episodes=500,\n",
    "):\n",
    "    reset()\n",
    "\n",
    "    quadcopter_controller.integrated_altitude_error = 0.0\n",
    "    quadcopter_controller.set_gains(\n",
    "        kp_pqr=kp_pqr,\n",
    "        kp_bank=kp_bank,\n",
    "        kp_pos_z=kp_pos_z,\n",
    "        kp_vel_z=kp_vel_z,\n",
    "        ki_pos_z=ki_pos_z,\n",
    "        kp_pos_xy=kp_pos_xy,\n",
    "        kp_yaw=kp_yaw,\n",
    "        kp_vel_xy=kp_vel_xy,\n",
    "        kappa=kappa\n",
    "    )\n",
    "\n",
    "    times = []\n",
    "    positions = []\n",
    "    attitudes = []\n",
    "    motors_ = []\n",
    "\n",
    "    state = sim_step([0, 0, 0, 0])\n",
    "\n",
    "    t = 0\n",
    "    for i in tqdm(range(n_episodes)):\n",
    "\n",
    "        motors = quadcopter_controller.run_control(\n",
    "            target['position'],\n",
    "            target['velocity'],\n",
    "            target['acceleration'],\n",
    "            target['attitude'],\n",
    "            state['position'],\n",
    "            state['velocity'],\n",
    "            state['omega'],\n",
    "            state['attitude'],\n",
    "        )\n",
    "        motors_.append(motors)\n",
    "\n",
    "        # accelerations.append(state['acceleration'])\n",
    "        attitudes.append(state['attitude'])\n",
    "        positions.append(state['position'])\n",
    "        times.append(t)\n",
    "        state = sim_step(motors)\n",
    "\n",
    "        if ((i * FPS) % sim.control_freq) < FPS:\n",
    "            sim.render()\n",
    "\n",
    "        t += DT_S\n",
    "\n",
    "    return (\n",
    "        np.array(times),\n",
    "        np.array(positions),\n",
    "        np.array(attitudes),\n",
    "        np.array(motors_)\n",
    "    )"
   ]
  },
  {
   "cell_type": "code",
   "execution_count": null,
   "id": "eff7fb72",
   "metadata": {},
   "outputs": [],
   "source": [
    "reset()\n",
    "target = {\n",
    "    \"position\": np.array([-10, 10, 15]),\n",
    "    \"velocity\": np.zeros(3),\n",
    "    \"acceleration\": np.zeros(3),\n",
    "    \"attitude\": R.from_quat([0, 0, 0, 1]),\n",
    "}"
   ]
  },
  {
   "cell_type": "code",
   "execution_count": null,
   "id": "06292c55",
   "metadata": {},
   "outputs": [],
   "source": [
    "(times, positions, attitudes, motors) = tune_controller(\n",
    "    kp_pqr=np.array([25, 25, 5]),\n",
    "    ki_pos_z=2,\n",
    "    kp_pos_z=6,\n",
    "    kp_vel_z=12,\n",
    "    kp_pos_xy=8.0,\n",
    "    kp_vel_xy=8.0,\n",
    "    kp_yaw=1.0,\n",
    "    kp_bank=0.5,\n",
    "    n_episodes=2500,\n",
    "    target=target\n",
    ")"
   ]
  },
  {
   "cell_type": "code",
   "execution_count": null,
   "id": "4522dbcb",
   "metadata": {},
   "outputs": [],
   "source": [
    "plt.title(\"z\")\n",
    "plt.plot(positions[:, 2])\n",
    "plt.show()\n",
    "\n",
    "plt.title(\"x\")\n",
    "plt.plot(positions[:, 0])\n",
    "plt.show()\n",
    "\n",
    "plt.title(\"y\")\n",
    "plt.plot(positions[:, 1])\n",
    "plt.show()"
   ]
  },
  {
   "cell_type": "code",
   "execution_count": null,
   "id": "dd17756c",
   "metadata": {},
   "outputs": [],
   "source": [
    "np.savetxt(\"motors.csv\", motors)"
   ]
  },
  {
   "cell_type": "code",
   "execution_count": null,
   "id": "3d909e55",
   "metadata": {},
   "outputs": [],
   "source": []
  }
 ],
 "metadata": {
  "kernelspec": {
   "display_name": "jax",
   "language": "python",
   "name": "python3"
  },
  "language_info": {
   "codemirror_mode": {
    "name": "ipython",
    "version": 3
   },
   "file_extension": ".py",
   "mimetype": "text/x-python",
   "name": "python",
   "nbconvert_exporter": "python",
   "pygments_lexer": "ipython3",
   "version": "3.11.7"
  }
 },
 "nbformat": 4,
 "nbformat_minor": 5
}
