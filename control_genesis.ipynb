{
 "cells": [
  {
   "cell_type": "code",
   "execution_count": 69,
   "id": "151b1c34",
   "metadata": {},
   "outputs": [],
   "source": [
    "import asyncio\n",
    "import numpy as np\n",
    "from scipy.spatial.transform import Rotation as R\n",
    "\n",
    "import time\n",
    "\n",
    "from intrepid_environment.simulator import Simulator"
   ]
  },
  {
   "cell_type": "code",
   "execution_count": 70,
   "id": "3d901a42",
   "metadata": {},
   "outputs": [],
   "source": [
    "import genesis as gs"
   ]
  },
  {
   "cell_type": "code",
   "execution_count": 71,
   "id": "d3fa1bc8",
   "metadata": {},
   "outputs": [],
   "source": [
    "import logging"
   ]
  },
  {
   "cell_type": "code",
   "execution_count": 72,
   "id": "19ad90c0",
   "metadata": {},
   "outputs": [
    {
     "ename": "GenesisException",
     "evalue": "Genesis already initialized.",
     "output_type": "error",
     "traceback": [
      "\u001b[0;31m---------------------------------------------------------------------------\u001b[0m",
      "\u001b[0;31mGenesisException\u001b[0m                          Traceback (most recent call last)",
      "Cell \u001b[0;32mIn[72], line 1\u001b[0m\n\u001b[0;32m----> 1\u001b[0m gs\u001b[38;5;241m.\u001b[39minit(backend\u001b[38;5;241m=\u001b[39mgs\u001b[38;5;241m.\u001b[39mgpu, logging_level\u001b[38;5;241m=\u001b[39mlogging\u001b[38;5;241m.\u001b[39mERROR)\n",
      "File \u001b[0;32m~/anaconda3/envs/jax/lib/python3.11/site-packages/genesis/__init__.py:57\u001b[0m, in \u001b[0;36minit\u001b[0;34m(seed, precision, debug, eps, logging_level, backend, theme, logger_verbose_time)\u001b[0m\n\u001b[1;32m     55\u001b[0m \u001b[38;5;28;01mglobal\u001b[39;00m _initialized\n\u001b[1;32m     56\u001b[0m \u001b[38;5;28;01mif\u001b[39;00m _initialized:\n\u001b[0;32m---> 57\u001b[0m     raise_exception(\u001b[38;5;124m\"\u001b[39m\u001b[38;5;124mGenesis already initialized.\u001b[39m\u001b[38;5;124m\"\u001b[39m)\n\u001b[1;32m     58\u001b[0m _initialized \u001b[38;5;241m=\u001b[39m \u001b[38;5;28;01mTrue\u001b[39;00m\n\u001b[1;32m     60\u001b[0m \u001b[38;5;66;03m# genesis._theme\u001b[39;00m\n",
      "File \u001b[0;32m~/anaconda3/envs/jax/lib/python3.11/site-packages/genesis/utils/misc.py:38\u001b[0m, in \u001b[0;36mraise_exception\u001b[0;34m(msg)\u001b[0m\n\u001b[1;32m     37\u001b[0m \u001b[38;5;28;01mdef\u001b[39;00m \u001b[38;5;21mraise_exception\u001b[39m(msg\u001b[38;5;241m=\u001b[39m\u001b[38;5;124m\"\u001b[39m\u001b[38;5;124mSomething went wrong.\u001b[39m\u001b[38;5;124m\"\u001b[39m):\n\u001b[0;32m---> 38\u001b[0m     \u001b[38;5;28;01mraise\u001b[39;00m gs\u001b[38;5;241m.\u001b[39mGenesisException(msg)\n",
      "\u001b[0;31mGenesisException\u001b[0m: Genesis already initialized."
     ]
    }
   ],
   "source": [
    "gs.init(backend=gs.gpu, logging_level=logging.ERROR)"
   ]
  },
  {
   "cell_type": "code",
   "execution_count": null,
   "id": "800d687e",
   "metadata": {},
   "outputs": [],
   "source": [
    "viewer_options = gs.options.ViewerOptions(\n",
    "    camera_pos=(2.5, 0.0, 1.5),\n",
    "    camera_lookat=(0.0, 0.0, 0.5),\n",
    "    camera_fov=30,\n",
    "    max_FPS=600,\n",
    ")"
   ]
  },
  {
   "cell_type": "code",
   "execution_count": null,
   "id": "fe0a129d",
   "metadata": {},
   "outputs": [],
   "source": [
    "DT_S = 0.001"
   ]
  },
  {
   "cell_type": "code",
   "execution_count": null,
   "id": "1096ca4e",
   "metadata": {},
   "outputs": [],
   "source": [
    "scene = gs.Scene(\n",
    "    sim_options=gs.options.SimOptions(\n",
    "        dt=DT_S,\n",
    "    ),\n",
    "    viewer_options=viewer_options,\n",
    "    show_viewer=True,\n",
    ")"
   ]
  },
  {
   "cell_type": "code",
   "execution_count": null,
   "id": "eba1fccb",
   "metadata": {},
   "outputs": [],
   "source": [
    "plane = scene.add_entity(\n",
    "    gs.morphs.Plane(),\n",
    ")"
   ]
  },
  {
   "cell_type": "code",
   "execution_count": null,
   "id": "e954e187",
   "metadata": {},
   "outputs": [],
   "source": [
    "drone = scene.add_entity(\n",
    "    morph=gs.morphs.Drone(\n",
    "        file=\"urdf/drones/cf2x.urdf\",\n",
    "        pos=(0.0, 0, 0.02),\n",
    "    ),\n",
    ")"
   ]
  },
  {
   "cell_type": "code",
   "execution_count": null,
   "id": "a319708f",
   "metadata": {},
   "outputs": [],
   "source": [
    "scene.build()"
   ]
  },
  {
   "cell_type": "code",
   "execution_count": null,
   "id": "ad3c0546",
   "metadata": {},
   "outputs": [],
   "source": [
    "def reset():\n",
    "    drone.set_pos(np.array([0, 0, 0.02]), zero_velocity=True)\n",
    "    drone.set_quat(np.array([1, 0, 0, 0]), zero_velocity=True)\n",
    "    drone.zero_all_dofs_velocity()\n",
    "    scene.step(update_visualizer=False)"
   ]
  },
  {
   "cell_type": "code",
   "execution_count": null,
   "id": "50ada099",
   "metadata": {},
   "outputs": [],
   "source": [
    "reset()"
   ]
  },
  {
   "cell_type": "markdown",
   "id": "6a5b739b",
   "metadata": {},
   "source": [
    "Setup trajectory for drone to follow."
   ]
  },
  {
   "cell_type": "code",
   "execution_count": null,
   "id": "964e93a4",
   "metadata": {},
   "outputs": [],
   "source": [
    "from quadcopter_control.trajectory import Trajectory, TrajectoryPoint"
   ]
  },
  {
   "cell_type": "code",
   "execution_count": null,
   "id": "ee82be07",
   "metadata": {},
   "outputs": [
    {
     "data": {
      "text/plain": [
       "218498.57188055574"
      ]
     },
     "execution_count": 19,
     "metadata": {},
     "output_type": "execute_result"
    }
   ],
   "source": [
    "newton_to_rpm = 14468.429183500699 / (9.81 * 0.027 / 4); newton_to_rpm"
   ]
  },
  {
   "cell_type": "code",
   "execution_count": null,
   "id": "61328f80",
   "metadata": {},
   "outputs": [],
   "source": [
    "# R_enu_to_ned = R.from_euler('z', -90, degrees=True) * R.from_euler('x', 180, degrees=True)\n",
    "R_flip = np.array([\n",
    "    [-1, 0 , 0],\n",
    "    [0, 1 ,0],\n",
    "    [0, 0, -1]\n",
    "])\n",
    "\n",
    "def sim_step(motors):\n",
    "\n",
    "    # newton to rpm\n",
    "    drone.set_propellels_rpm(np.array(motors))\n",
    "    scene.step()\n",
    "\n",
    "    position = R_flip @ drone.get_pos().cpu().numpy()\n",
    "    velocity = R_flip @ drone.get_vel().cpu().numpy()\n",
    "    attitude = R.from_quat(drone.get_quat().cpu().numpy(), scalar_first=True)\n",
    "    # attitude = R.from_matrix((R_flip @ attitude.as_matrix()))\n",
    "    omega    = R_flip @ drone.get_ang().cpu().numpy()\n",
    "\n",
    "    return {\n",
    "        'position': position,\n",
    "        'velocity': velocity,\n",
    "        'attitude': attitude,\n",
    "        'omega': omega\n",
    "    }"
   ]
  },
  {
   "cell_type": "code",
   "execution_count": null,
   "id": "67cc357e",
   "metadata": {},
   "outputs": [],
   "source": [
    "def get_trajectory_with_initial_position():\n",
    "    state = sim_step([0, 0, 0, 0])\n",
    "\n",
    "    starting_point = TrajectoryPoint(\n",
    "        time=0,\n",
    "        acceleration=np.zeros(3),\n",
    "        attitude=state['attitude'],\n",
    "        omega=state['omega'],\n",
    "        position=state['position'],\n",
    "        velocity=state['velocity'],\n",
    "    )\n",
    "\n",
    "    trajectory = Trajectory()\n",
    "    trajectory.add_point(starting_point)\n",
    "\n",
    "    return trajectory"
   ]
  },
  {
   "cell_type": "code",
   "execution_count": null,
   "id": "312968e9",
   "metadata": {},
   "outputs": [],
   "source": [
    "trajectory_time_offset = 0\n",
    "dp = np.zeros(3)\n",
    "\n",
    "def get_next_trajectory_point(trajectory, sim_time, dt, dp):\n",
    "    pt = trajectory.next_trajectory_point((sim_time + dt) / 1000.0)\n",
    "    pt.position += dp\n",
    "    return pt"
   ]
  },
  {
   "cell_type": "code",
   "execution_count": null,
   "id": "28aed621",
   "metadata": {},
   "outputs": [],
   "source": [
    "Ixx = 1.4e-5\n",
    "Iyy = 1.4e-5\n",
    "Izz = 2.17e-5"
   ]
  },
  {
   "cell_type": "code",
   "execution_count": null,
   "id": "ccb7f9f7",
   "metadata": {},
   "outputs": [],
   "source": [
    "## Scenario 1: Altitude Control\n",
    "\n",
    "# Tune gains until drone stays in place. on a desired height."
   ]
  },
  {
   "cell_type": "code",
   "execution_count": null,
   "id": "99a15775",
   "metadata": {},
   "outputs": [],
   "source": [
    "reset()\n",
    "state = sim_step([0, 0, 0, 0])\n",
    "trajectory = get_trajectory_with_initial_position()"
   ]
  },
  {
   "cell_type": "code",
   "execution_count": null,
   "id": "20110900",
   "metadata": {},
   "outputs": [],
   "source": [
    "sim_time = 0.0\n",
    "n_episodes = 200\n",
    "\n",
    "for i in range(0, n_episodes):\n",
    "    trajectory.add_point(TrajectoryPoint(\n",
    "        time=(sim_time + DT_S),\n",
    "        position=np.array([7.0, -3.0, 5.0]),\n",
    "        velocity=np.zeros(3),\n",
    "        acceleration=np.zeros(3),\n",
    "        attitude=R.from_quat([0.0, 0.0, 0.0, 1.0]),\n",
    "        omega=np.array([0.1, 0.1, 0.1])\n",
    "    ))"
   ]
  },
  {
   "cell_type": "code",
   "execution_count": null,
   "id": "82261645",
   "metadata": {},
   "outputs": [],
   "source": [
    "import matplotlib.pyplot as plt"
   ]
  },
  {
   "cell_type": "code",
   "execution_count": null,
   "id": "fcb33773",
   "metadata": {},
   "outputs": [],
   "source": [
    "DRONE_MASS = 0.027"
   ]
  },
  {
   "cell_type": "code",
   "execution_count": null,
   "id": "8aa66610",
   "metadata": {},
   "outputs": [],
   "source": [
    "from tqdm import tqdm"
   ]
  },
  {
   "cell_type": "code",
   "execution_count": null,
   "id": "2bf6e759",
   "metadata": {},
   "outputs": [],
   "source": [
    "def tune_controller(\n",
    "        kp_pqr=np.array([95.0, 95.0, 6.0]),\n",
    "        kp_bank=0.0,\n",
    "        kp_pos_z=0.0,\n",
    "        kp_vel_z=0.0,\n",
    "        ki_pos_z=0.0,\n",
    "        kp_pos_xy=0.0,\n",
    "        kp_yaw=0.0,\n",
    "        kp_vel_xy=0.0,\n",
    "        kappa=1.0,\n",
    "        n_episodes=n_episodes,\n",
    "):\n",
    "    reset()\n",
    "    scene.step()\n",
    "\n",
    "    quadcopter_controller.integrated_altitude_error = 0.0\n",
    "    quadcopter_controller.set_gains(\n",
    "        kp_pqr=kp_pqr,\n",
    "        kp_bank=kp_bank,\n",
    "        kp_pos_z=kp_pos_z,\n",
    "        kp_vel_z=kp_vel_z,\n",
    "        ki_pos_z=ki_pos_z,\n",
    "        kp_pos_xy=kp_pos_xy,\n",
    "        kp_yaw=kp_yaw,\n",
    "        kp_vel_xy=kp_vel_xy,\n",
    "        kappa=kappa\n",
    "    )\n",
    "\n",
    "    times = []\n",
    "    positions = []\n",
    "    accelerations = []\n",
    "    attitudes = []\n",
    "    bx_cmds = []\n",
    "    by_cmds = []\n",
    "    bx_errs = []\n",
    "    by_errs = []\n",
    "    des_accs = []\n",
    "    des_omegas = []\n",
    "    est_omegas = []\n",
    "    thrusts = []\n",
    "\n",
    "    state = sim_step([0, 0, 0, 0])\n",
    "\n",
    "    t = 0\n",
    "    for _ in tqdm(range(n_episodes)):\n",
    "        traj_pt = trajectory.next_trajectory_point(t)\n",
    "\n",
    "        motors, (thrust, bx_cmd, by_cmd, bx_err, by_err, des_acc, des_omega) = quadcopter_controller.run_control(\n",
    "            traj_pt,\n",
    "            state['position'],\n",
    "            state['velocity'],\n",
    "            state['omega'],\n",
    "            state['attitude'],\n",
    "        )\n",
    "\n",
    "        # accelerations.append(state['acceleration'])\n",
    "        attitudes.append(state['attitude'])\n",
    "        bx_cmds.append(bx_cmd)\n",
    "        by_cmds.append(by_cmd)\n",
    "        bx_errs.append(bx_err)\n",
    "        by_errs.append(by_err)\n",
    "        des_accs.append(des_acc)\n",
    "        des_omegas.append(des_omega)\n",
    "        est_omegas.append(state['omega'])\n",
    "        thrusts.append(thrust)\n",
    "\n",
    "        # motors = np.clip(motors, 40, 500) * ne\n",
    "        positions.append(state['position'])\n",
    "        times.append(t)\n",
    "        try:\n",
    "            state = sim_step(motors * newton_to_rpm)\n",
    "        except:\n",
    "            break\n",
    "\n",
    "        t += DT_S\n",
    "\n",
    "    return (\n",
    "        np.array(times), \n",
    "        np.array(positions), \n",
    "        # np.array(accelerations),\n",
    "        np.array(attitudes),\n",
    "        np.array(bx_cmds), \n",
    "        np.array(by_cmds), \n",
    "        np.array(bx_errs), \n",
    "        np.array(by_errs), \n",
    "        np.array(des_accs), \n",
    "        np.array(des_omegas),\n",
    "        np.array(est_omegas),\n",
    "        np.array(thrusts),\n",
    "    )"
   ]
  },
  {
   "cell_type": "markdown",
   "id": "a1eecfb8",
   "metadata": {},
   "source": [
    "## Scenario 2: Position Control\n"
   ]
  },
  {
   "cell_type": "code",
   "execution_count": 73,
   "id": "326b9a3c",
   "metadata": {},
   "outputs": [],
   "source": [
    "class QuadcopterController:\n",
    "    \"\"\"\n",
    "    coordinate system: bevy: right-handed, y-top\n",
    "    \"\"\"\n",
    "\n",
    "    def __init__(self, dt, mass, Ixx, Iyy, Izz, max_tilt_angle, max_accel_xy, max_vel_xy, max_ascent_rate, l=np.sqrt(2)):\n",
    "\n",
    "        self.dt = dt\n",
    "\n",
    "        # drone physical parameters\n",
    "        self.max_tilt_angle = max_tilt_angle\n",
    "        self.max_ascent_rate = max_ascent_rate\n",
    "\n",
    "        self.mass = mass\n",
    "        self.Ixx = Ixx\n",
    "        self.Iyy = Iyy\n",
    "        self.Izz = Izz\n",
    "\n",
    "        self.kappa = 1.0  # velociy/thrust ratio\n",
    "        self.max_motor_thrust = 0.26477955 / 4 * 1.5\n",
    "        self.min_motor_thrust = 0.26477955 / 4 * 0.9\n",
    "        self.max_accel_xy = max_accel_xy\n",
    "        self.max_vel_xy = max_vel_xy\n",
    "        self.l = l\n",
    "\n",
    "        # controller errors\n",
    "        self.integrated_altitude_error = 0.0\n",
    "        self.set_gains()\n",
    "\n",
    "    def set_gains(self, kp_pqr=0.0, kp_bank=0.0, kp_pos_z=0.0, kp_vel_z=0.0,\n",
    "                  ki_pos_z=0.0, kp_pos_xy=0.0, kp_yaw=0.0, kp_vel_xy=0.0,\n",
    "                  kappa=1.0):\n",
    "        self.kp_pqr = kp_pqr\n",
    "        self.kp_bank = kp_bank\n",
    "        self.kp_pos_z = kp_pos_z\n",
    "        self.kp_vel_z = kp_vel_z\n",
    "        self.ki_pos_z = ki_pos_z\n",
    "        self.kp_pos_xy = kp_pos_xy\n",
    "        self.kp_yaw = kp_yaw\n",
    "        self.kp_vel_xy = kp_vel_xy\n",
    "        self.kappa = kappa\n",
    "\n",
    "    def body_rate_control(self, pqr_cmd, pqr):\n",
    "        \"\"\"\n",
    "        Calculate a desired 3-axis moment given a desired and current body rate\n",
    "\n",
    "        Args:\n",
    "          pqr_cmd: desired body rates [rad/s]\n",
    "          pqr: current or estimated body rates [rad/s]\n",
    "\n",
    "        Returns:\n",
    "          A 3x1 numpy array containing the desired moments for each of the 3 axes.\n",
    "        \"\"\"\n",
    "\n",
    "        I = np.diag([self.Ixx, self.Iyy, self.Izz])\n",
    "        pqr_err = (pqr_cmd - pqr)\n",
    "        moment_cmd = self.kp_pqr * (I @ pqr_err)\n",
    "\n",
    "        return moment_cmd\n",
    "\n",
    "    def altitude_control(self, pos_z_cmd, vel_z_cmd, pos_z, vel_z, attitude, accel_z_cmd, dt):\n",
    "        \"\"\"\n",
    "        Calculate desired quad thrust based on altitude setpoint, actual altitude,\n",
    "          vertical velocity setpoint, actual vertical velocity, and a vertical\n",
    "          acceleration feed-forward command\n",
    "\n",
    "        Args:\n",
    "          pos_z_cmd, vel_z_cmd: desired vertical position and velocity in NED [m]\n",
    "          pos_z, vel_z: current vertical position and velocity in NED [m]\n",
    "          accel_z_cmd: feed-forward vertical acceleration in NED [m/s2]\n",
    "          dt: the time step of the measurements [seconds]\n",
    "\n",
    "        Returns:\n",
    "          A collective thrust command in [N]\n",
    "        \"\"\"\n",
    "\n",
    "        R = attitude.as_matrix()\n",
    "\n",
    "        pos_z_err = pos_z_cmd - pos_z\n",
    "        vel_z_err = vel_z_cmd - vel_z\n",
    "        self.integrated_altitude_error += pos_z_err * dt\n",
    "\n",
    "        b_z = R[2, 2]\n",
    "\n",
    "        p_term = self.kp_pos_z * pos_z_err\n",
    "        d_term = self.kp_vel_z * vel_z_err\n",
    "        i_term = self.ki_pos_z * self.integrated_altitude_error\n",
    "\n",
    "        u1_bar = p_term + i_term + d_term + accel_z_cmd\n",
    "\n",
    "        acc = (u1_bar - 9.81) / b_z\n",
    "\n",
    "        # print(\"thust\", -self.mass * acc)\n",
    "\n",
    "        # clipped_acc = np.clip(\n",
    "        #     acc,\n",
    "        #     -self.max_ascent_rate / dt,\n",
    "        #     +self.max_ascent_rate / dt\n",
    "        # )\n",
    "\n",
    "        return -self.mass * acc\n",
    "\n",
    "    def roll_pitch_control(self, accel_cmd, attitude, thrust):\n",
    "        pqr_cmd = np.zeros(3)\n",
    "        R = attitude.as_matrix()\n",
    "        if thrust == 0:\n",
    "            return pqr_cmd\n",
    "\n",
    "        coll_accel = -thrust / self.mass\n",
    "\n",
    "        bx_cmd = np.clip(\n",
    "            accel_cmd[0] / coll_accel,\n",
    "            -self.max_tilt_angle,\n",
    "            +self.max_tilt_angle\n",
    "        )\n",
    "        by_cmd = np.clip(\n",
    "            accel_cmd[1] / coll_accel,\n",
    "            -self.max_tilt_angle,\n",
    "            +self.max_tilt_angle\n",
    "        )\n",
    "\n",
    "        bx_err = (bx_cmd - R[0, 2])\n",
    "        by_err = (by_cmd - R[1, 2])\n",
    "\n",
    "        bx_p_term = self.kp_bank * bx_err\n",
    "        by_p_term = self.kp_bank * by_err\n",
    "\n",
    "        r11 = +R[1, 0] / R[2, 2]\n",
    "        r12 = -R[0, 0] / R[2, 2]\n",
    "        r21 = +R[1, 1] / R[2, 2]\n",
    "        r22 = -R[0, 1] / R[2, 2]\n",
    "\n",
    "        pqr_cmd[0] = r11 * bx_p_term + r12 * by_p_term\n",
    "        pqr_cmd[1] = r21 * bx_p_term + r22 * by_p_term\n",
    "\n",
    "        return pqr_cmd, (bx_cmd, by_cmd, bx_err, by_err)\n",
    "\n",
    "    def lateral_position_control(self, pos_cmd, vel_cmd, pos, vel, accel_cmd_ff):\n",
    "        \"\"\"\n",
    "        Calculate a desired horizontal acceleration based on\n",
    "          desired lateral position/velocity/acceleration and current pose\n",
    "\n",
    "        Args:\n",
    "          pos_cmd: desired position, in NED [m]\n",
    "          vel_cmd: desired velocity, in NED [m/s]\n",
    "          pos: current position, NED [m]\n",
    "          vel: current velocity, NED [m/s]\n",
    "          accel_cmd_ff: feed-forward acceleration, NED [m/s2]\n",
    "\n",
    "        Returns:\n",
    "          A 3x1 numpy array with desired horizontal accelerations.\n",
    "            the Z component should be 0\n",
    "        \"\"\"\n",
    "\n",
    "        accel_cmd_ff[2] = 0\n",
    "        vel_cmd[2] = 0\n",
    "        pos_cmd[2] = pos[2]\n",
    "\n",
    "        accel_cmd = accel_cmd_ff\n",
    "\n",
    "        pos_err = pos_cmd - pos\n",
    "        vel_err = vel_cmd - vel\n",
    "\n",
    "        accel = self.kp_pos_xy * pos_err + self.kp_vel_xy * vel_err + accel_cmd_ff\n",
    "        accel_cmd[0] = accel[0]\n",
    "        accel_cmd[1] = accel[1]\n",
    "\n",
    "        return accel_cmd\n",
    "\n",
    "    def yaw_control(self, yaw_cmd, yaw):\n",
    "        \"\"\"\n",
    "        Calculate a desired yaw rate to control yaw to yawCmd\n",
    "\n",
    "        Args:\n",
    "          yaw_cmd: commanded yaw [rad]\n",
    "          yaw: current yaw [rad]\n",
    "\n",
    "        Returns:\n",
    "          a desired yaw rate [rad/s]\n",
    "        \"\"\"\n",
    "\n",
    "        yaw_rate_cmd = self.kp_yaw * (yaw_cmd - yaw)\n",
    "        return yaw_rate_cmd\n",
    "\n",
    "    def generate_motor_commands(self, coll_thrust_cmd, moment_cmd):\n",
    "        \"\"\"\n",
    "        Convert a desired 3-axis moment and collective thrust command to\n",
    "          individual motor thrust commands\n",
    "\n",
    "        Args:\n",
    "          coll_thrust_cmd: desired collective thrust [N]\n",
    "          moment_cmd: desired rotation moment about each axis [N m]\n",
    "\n",
    "        Returns:\n",
    "          a 4-vec with motor commands\n",
    "        \"\"\"\n",
    "\n",
    "        l = self.l / np.sqrt(2.0)\n",
    "\n",
    "        t1 = moment_cmd[0] / l\n",
    "        t2 = moment_cmd[1] / l\n",
    "        t3 = -moment_cmd[2] / self.kappa\n",
    "        t4 = coll_thrust_cmd\n",
    "\n",
    "        thrust = np.array([\n",
    "            (+t1 + t2 + t3 + t4) / 4.0,  # front left  - f1\n",
    "            (-t1 + t2 - t3 + t4) / 4.0,  # front right - f2\n",
    "            (+t1 - t2 - t3 + t4) / 4.0,  # rear left   - f4\n",
    "            (-t1 - t2 + t3 + t4) / 4.0,  # rear right  - f3\n",
    "        ])\n",
    "\n",
    "        return thrust\n",
    "\n",
    "    def run_control(self, traj_pt, est_pos, est_vel, est_omega, est_att):\n",
    "        (\n",
    "            t_pos,\n",
    "            t_vel,\n",
    "            t_acc,\n",
    "            t_att,\n",
    "        ) = traj_pt.position, traj_pt.velocity, traj_pt.acceleration, traj_pt.attitude\n",
    "\n",
    "        thrust = self.altitude_control(\n",
    "            t_pos[2],\n",
    "            t_vel[2],\n",
    "            est_pos[2],\n",
    "            est_vel[2],\n",
    "            est_att,\n",
    "            t_acc[2],\n",
    "            self.dt\n",
    "        )\n",
    "\n",
    "        thrust_margin = 0.1 * (self.max_motor_thrust - self.min_motor_thrust)\n",
    "        thrust = np.clip(\n",
    "            thrust,\n",
    "            (self.min_motor_thrust + thrust_margin) * 4.0,\n",
    "            (self.max_motor_thrust - thrust_margin) * 4.0\n",
    "        )\n",
    "\n",
    "        des_acc = self.lateral_position_control(\n",
    "            np.copy(t_pos),\n",
    "            np.copy(t_vel),\n",
    "            np.copy(est_pos),\n",
    "            np.copy(est_vel),\n",
    "            np.copy(t_acc)\n",
    "        )\n",
    "\n",
    "        # des_acc = np.clip(\n",
    "        #     des_acc,\n",
    "        #     -self.max_accel_xy,\n",
    "        #     +self.max_accel_xy,\n",
    "        # )\n",
    "\n",
    "        des_omega, (bx_cmd, by_cmd, bx_err, by_err) = self.roll_pitch_control(\n",
    "            des_acc, est_att, thrust)\n",
    "\n",
    "        traj_euler_angles = t_att.as_euler('zyx', degrees=False)\n",
    "        traj_yaw = traj_euler_angles[0]\n",
    "        est_yaw = est_att.as_euler('zyx', degrees=False)[0]\n",
    "        des_omega[2] = self.yaw_control(traj_yaw, est_yaw)\n",
    "\n",
    "        des_moment = self.body_rate_control(des_omega, est_omega)\n",
    "\n",
    "        return (\n",
    "            self.generate_motor_commands(thrust, des_moment),\n",
    "            (thrust, bx_cmd, by_cmd, bx_err, by_err, des_acc, des_omega),\n",
    "        )"
   ]
  },
  {
   "cell_type": "code",
   "execution_count": 74,
   "id": "56140361",
   "metadata": {},
   "outputs": [],
   "source": [
    "quadcopter_controller = QuadcopterController(\n",
    "    DT_S,\n",
    "    0.027 * 0.99,\n",
    "    Ixx, Iyy, Izz,\n",
    "    l=0.030,\n",
    "    max_tilt_angle=0.7,\n",
    "    max_ascent_rate=5.0,\n",
    "    max_vel_xy=5,\n",
    "    max_accel_xy=12,\n",
    ")"
   ]
  },
  {
   "cell_type": "code",
   "execution_count": 122,
   "id": "962b332c",
   "metadata": {},
   "outputs": [],
   "source": [
    "reset()"
   ]
  },
  {
   "cell_type": "code",
   "execution_count": 130,
   "id": "eff7fb72",
   "metadata": {},
   "outputs": [],
   "source": [
    "# entity = await restart_drone()\n",
    "state = sim_step([0, 0, 0, 0])\n",
    "trajectory = get_trajectory_with_initial_position()\n",
    "\n",
    "sim_time = 0\n",
    "n_episodes = 200\n",
    "\n",
    "for i in range(0, n_episodes):\n",
    "    trajectory.add_point(TrajectoryPoint(\n",
    "        time=sim_time + i*DT_S,\n",
    "        position=np.array([-0.001, 0.0, -5.0]),\n",
    "        velocity=np.zeros(3),\n",
    "        acceleration=np.zeros(3),\n",
    "        attitude=R.from_quat([0.0, 0.0, 0.0, 1.0]),\n",
    "        omega=np.array([0.0, 0.0, 0.0])\n",
    "    ))"
   ]
  },
  {
   "cell_type": "code",
   "execution_count": 131,
   "id": "2e704652",
   "metadata": {},
   "outputs": [],
   "source": [
    "def sim_step(motors):\n",
    "\n",
    "    # newton to rpm\n",
    "    drone.set_propellels_rpm(np.array(motors))\n",
    "    scene.step()\n",
    "\n",
    "    position = drone.get_pos().cpu().numpy()\n",
    "    velocity = drone.get_vel().cpu().numpy()\n",
    "    attitude = R.from_quat(drone.get_quat().cpu().numpy(), scalar_first=True)\n",
    "    omega    = drone.get_ang().cpu().numpy()\n",
    "\n",
    "    position[2] *= -1\n",
    "    velocity[2] *= -1\n",
    "\n",
    "    return {\n",
    "        'position': position,\n",
    "        'velocity': velocity,\n",
    "        'attitude': attitude,\n",
    "        'omega': omega\n",
    "    }"
   ]
  },
  {
   "cell_type": "code",
   "execution_count": null,
   "id": "06292c55",
   "metadata": {},
   "outputs": [
    {
     "name": "stderr",
     "output_type": "stream",
     "text": [
      "100%|██████████| 5000/5000 [00:23<00:00, 214.62it/s]\n"
     ]
    }
   ],
   "source": [
    "(times,\n",
    " positions,\n",
    " attitudes,\n",
    " bx_cmds, by_cmds,\n",
    " bx_errs, by_errs,\n",
    " des_accs, des_omegas, est_omegas,\n",
    " thrusts) = tune_controller(\n",
    "    kp_pqr=np.array([0.9, 0.91, 0.9]),\n",
    "    ki_pos_z=.01,\n",
    "    kp_pos_z=0.8,\n",
    "    kp_vel_z=0.8,\n",
    "    kp_pos_xy=0.2,\n",
    "    kp_vel_xy=0.2,\n",
    "    kp_yaw=1.0,\n",
    "    kp_bank=0.02,\n",
    "    n_episodes=5000,\n",
    ")"
   ]
  },
  {
   "cell_type": "code",
   "execution_count": 134,
   "id": "3f6f2b80",
   "metadata": {},
   "outputs": [
    {
     "data": {
      "image/png": "[encoded data removed]",
      "text/plain": [
       "<Figure size 640x480 with 1 Axes>"
      ]
     },
     "metadata": {},
     "output_type": "display_data"
    },
    {
     "data": {
      "image/png": "[encoded data removed]",
      "text/plain": [
       "<Figure size 640x480 with 1 Axes>"
      ]
     },
     "metadata": {},
     "output_type": "display_data"
    },
    {
     "data": {
      "image/png": "[encoded data removed]",
      "text/plain": [
       "<Figure size 640x480 with 1 Axes>"
      ]
     },
     "metadata": {},
     "output_type": "display_data"
    }
   ],
   "source": [
    "plt.title(\"z\")\n",
    "plt.plot(-positions[:, 2])\n",
    "plt.show()\n",
    "\n",
    "plt.title(\"x\")\n",
    "plt.plot(positions[:, 0])\n",
    "plt.show()\n",
    "\n",
    "plt.title(\"y\")\n",
    "plt.plot(positions[:, 1])\n",
    "plt.show()"
   ]
  },
  {
   "cell_type": "code",
   "execution_count": null,
   "id": "075134dd",
   "metadata": {},
   "outputs": [],
   "source": []
  }
 ],
 "metadata": {
  "kernelspec": {
   "display_name": "jax",
   "language": "python",
   "name": "python3"
  },
  "language_info": {
   "codemirror_mode": {
    "name": "ipython",
    "version": 3
   },
   "file_extension": ".py",
   "mimetype": "text/x-python",
   "name": "python",
   "nbconvert_exporter": "python",
   "pygments_lexer": "ipython3",
   "version": "3.11.7"
  }
 },
 "nbformat": 4,
 "nbformat_minor": 5
}
