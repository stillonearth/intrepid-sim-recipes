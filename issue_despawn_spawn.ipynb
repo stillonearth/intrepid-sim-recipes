{
 "cells": [
  {
   "cell_type": "code",
   "execution_count": 8,
   "id": "5bc905ed",
   "metadata": {},
   "outputs": [],
   "source": [
    "from centrifuge import Client, SubscriptionEventHandler, PublicationContext"
   ]
  },
  {
   "cell_type": "markdown",
   "id": "cd1af50e",
   "metadata": {},
   "source": [
    "Start intrepid sim \n",
    "\n",
    "```\n",
    "intrepid-sim  --no-script\n",
    "````"
   ]
  },
  {
   "cell_type": "code",
   "execution_count": 9,
   "id": "5dac348b",
   "metadata": {},
   "outputs": [],
   "source": [
    "client = Client(\"ws://localhost:9120/connection/websocket\")"
   ]
  },
  {
   "cell_type": "code",
   "execution_count": 11,
   "id": "7f41d686",
   "metadata": {},
   "outputs": [],
   "source": [
    "await client.connect()"
   ]
  },
  {
   "cell_type": "code",
   "execution_count": 12,
   "id": "b35a3a85",
   "metadata": {},
   "outputs": [
    {
     "data": {
      "text/plain": [
       "RpcResult(data=None)"
      ]
     },
     "execution_count": 12,
     "metadata": {},
     "output_type": "execute_result"
    }
   ],
   "source": [
    "await client.rpc(\"session.restart\", None)"
   ]
  },
  {
   "cell_type": "code",
   "execution_count": 13,
   "id": "b704b0a5",
   "metadata": {},
   "outputs": [
    {
     "data": {
      "text/plain": [
       "RpcResult(data='27v1')"
      ]
     },
     "execution_count": 13,
     "metadata": {},
     "output_type": "execute_result"
    }
   ],
   "source": [
    "await client.rpc(\"map.spawn_urdf\",\n",
    "{\n",
    "  \"robot_id\": 1,\n",
    "  \"position\": {\"x\": 0, \"y\": 0},\n",
    "  \"rotation\": {\"yz\": 0, \"zx\": 0, \"xy\": 0},\n",
    "  \"urdf_path\": \"flamingo_edu/urdf/Edu_v4.urdf\",\n",
    "  \"mesh_dir\": \"assets/flamingo_edu/urdf\",\n",
    "},)"
   ]
  },
  {
   "cell_type": "code",
   "execution_count": 14,
   "id": "538bd8d4",
   "metadata": {},
   "outputs": [
    {
     "data": {
      "text/plain": [
       "RpcResult(data={'time_us': 0, 'state': [-0.0039999895, 0.090074025, -0.13599971, 4.3704944e-08, -1.0, 1.7881392e-06, -3.6637016e-06, -0.033289738, 0.011877902, -0.16794965, 4.3704944e-08, -1.0, 1.7881392e-06, -3.6637016e-06, -0.004000012, 0.090074025, 0.1360003, 1.7881393e-06, -4.371131e-08, 4.3711466e-08, 1.0, -0.16329001, 0.10515201, 0.13645035, 1.7881393e-06, -4.371131e-08, 4.3711466e-08, 1.0, -0.033290006, 0.011877902, 0.16795003, 1.7881393e-06, -4.371131e-08, 4.3711466e-08, 1.0, 0.052000005, 0.09157803, 3.1119916e-07, -0.70710677, -6.181724e-08, 0.0, 0.70710677, -0.12600002, 0.08947319, 2.956379e-07, -0.70710677, -6.181724e-08, 0.0, 0.70710677, -7.450581e-09, 0.17007402, 3.066532e-07, -0.70710677, -6.181724e-08, 0.0, 0.70710677, -0.16329001, 0.10515201, -0.13645093, 4.3704944e-08, -1.0, 1.7881392e-06, -3.6637016e-06, -3.1415927, 0.0, 0.0, -0.0, 0.0, 0.0]})"
      ]
     },
     "execution_count": 14,
     "metadata": {},
     "output_type": "execute_result"
    }
   ],
   "source": [
    "await client.rpc(\"object_{object}.state_urdf\".format(object=\"27v1\"), None)"
   ]
  },
  {
   "cell_type": "code",
   "execution_count": 15,
   "id": "0831b48f",
   "metadata": {},
   "outputs": [
    {
     "data": {
      "text/plain": [
       "RpcResult(data=None)"
      ]
     },
     "execution_count": 15,
     "metadata": {},
     "output_type": "execute_result"
    }
   ],
   "source": [
    "await client.rpc(\"object_{object}.despawn\".format(object=\"27v1\"), None)"
   ]
  },
  {
   "cell_type": "code",
   "execution_count": 16,
   "id": "a636680c",
   "metadata": {},
   "outputs": [
    {
     "data": {
      "text/plain": [
       "RpcResult(data='28v2')"
      ]
     },
     "execution_count": 16,
     "metadata": {},
     "output_type": "execute_result"
    }
   ],
   "source": [
    "await client.rpc(\"map.spawn_urdf\",\n",
    "{\n",
    "  \"robot_id\": 1,\n",
    "  \"position\": {\"x\": 0, \"y\": 0},\n",
    "  \"rotation\": {\"yz\": 0, \"zx\": 0, \"xy\": 0},\n",
    "  \"urdf_path\": \"flamingo_edu/urdf/Edu_v4.urdf\",\n",
    "  \"mesh_dir\": \"assets/flamingo_edu/urdf\",\n",
    "},)"
   ]
  },
  {
   "cell_type": "code",
   "execution_count": 17,
   "id": "0a7ea9db",
   "metadata": {},
   "outputs": [
    {
     "ename": "ReplyError",
     "evalue": "Error 100: entity not found (temporary: True)",
     "output_type": "error",
     "traceback": [
      "\u001b[0;31m---------------------------------------------------------------------------\u001b[0m",
      "\u001b[0;31mReplyError\u001b[0m                                Traceback (most recent call last)",
      "Cell \u001b[0;32mIn[17], line 1\u001b[0m\n\u001b[0;32m----> 1\u001b[0m \u001b[38;5;28;01mawait\u001b[39;00m client\u001b[38;5;241m.\u001b[39mrpc(\u001b[38;5;124m\"\u001b[39m\u001b[38;5;124mobject_\u001b[39m\u001b[38;5;132;01m{object}\u001b[39;00m\u001b[38;5;124m.state_urdf\u001b[39m\u001b[38;5;124m\"\u001b[39m\u001b[38;5;241m.\u001b[39mformat(\u001b[38;5;28mobject\u001b[39m\u001b[38;5;241m=\u001b[39m\u001b[38;5;124m\"\u001b[39m\u001b[38;5;124m28v1\u001b[39m\u001b[38;5;124m\"\u001b[39m), \u001b[38;5;28;01mNone\u001b[39;00m)\n",
      "File \u001b[0;32m~/anaconda3/envs/jax/lib/python3.11/site-packages/centrifuge/client.py:1076\u001b[0m, in \u001b[0;36mClient.rpc\u001b[0;34m(self, method, data, timeout)\u001b[0m\n\u001b[1;32m   1074\u001b[0m \u001b[38;5;28;01mawait\u001b[39;00m \u001b[38;5;28mself\u001b[39m\u001b[38;5;241m.\u001b[39m_send_commands([command])\n\u001b[1;32m   1075\u001b[0m reply \u001b[38;5;241m=\u001b[39m \u001b[38;5;28;01mawait\u001b[39;00m future\n\u001b[0;32m-> 1076\u001b[0m \u001b[38;5;28mself\u001b[39m\u001b[38;5;241m.\u001b[39m_check_reply_error(reply)\n\u001b[1;32m   1077\u001b[0m \u001b[38;5;28;01mreturn\u001b[39;00m RpcResult(\n\u001b[1;32m   1078\u001b[0m     data\u001b[38;5;241m=\u001b[39m\u001b[38;5;28mself\u001b[39m\u001b[38;5;241m.\u001b[39m_decode_data(reply[\u001b[38;5;124m\"\u001b[39m\u001b[38;5;124mrpc\u001b[39m\u001b[38;5;124m\"\u001b[39m]\u001b[38;5;241m.\u001b[39mget(\u001b[38;5;124m\"\u001b[39m\u001b[38;5;124mdata\u001b[39m\u001b[38;5;124m\"\u001b[39m)),\n\u001b[1;32m   1079\u001b[0m )\n",
      "File \u001b[0;32m~/anaconda3/envs/jax/lib/python3.11/site-packages/centrifuge/client.py:932\u001b[0m, in \u001b[0;36mClient._check_reply_error\u001b[0;34m(reply)\u001b[0m\n\u001b[1;32m    930\u001b[0m \u001b[38;5;28;01mif\u001b[39;00m reply\u001b[38;5;241m.\u001b[39mget(\u001b[38;5;124m\"\u001b[39m\u001b[38;5;124merror\u001b[39m\u001b[38;5;124m\"\u001b[39m):\n\u001b[1;32m    931\u001b[0m     error \u001b[38;5;241m=\u001b[39m reply[\u001b[38;5;124m\"\u001b[39m\u001b[38;5;124merror\u001b[39m\u001b[38;5;124m\"\u001b[39m]\n\u001b[0;32m--> 932\u001b[0m     \u001b[38;5;28;01mraise\u001b[39;00m ReplyError(error[\u001b[38;5;124m\"\u001b[39m\u001b[38;5;124mcode\u001b[39m\u001b[38;5;124m\"\u001b[39m], error[\u001b[38;5;124m\"\u001b[39m\u001b[38;5;124mmessage\u001b[39m\u001b[38;5;124m\"\u001b[39m], error\u001b[38;5;241m.\u001b[39mget(\u001b[38;5;124m\"\u001b[39m\u001b[38;5;124mtemporary\u001b[39m\u001b[38;5;124m\"\u001b[39m, \u001b[38;5;28;01mFalse\u001b[39;00m))\n",
      "\u001b[0;31mReplyError\u001b[0m: Error 100: entity not found (temporary: True)"
     ]
    }
   ],
   "source": [
    "await client.rpc(\"object_{object}.state_urdf\".format(object=\"28v1\"), None)"
   ]
  },
  {
   "cell_type": "code",
   "execution_count": null,
   "id": "58abcb58",
   "metadata": {},
   "outputs": [],
   "source": []
  }
 ],
 "metadata": {
  "kernelspec": {
   "display_name": "jax",
   "language": "python",
   "name": "python3"
  },
  "language_info": {
   "codemirror_mode": {
    "name": "ipython",
    "version": 3
   },
   "file_extension": ".py",
   "mimetype": "text/x-python",
   "name": "python",
   "nbconvert_exporter": "python",
   "pygments_lexer": "ipython3",
   "version": "3.11.7"
  }
 },
 "nbformat": 4,
 "nbformat_minor": 5
}
