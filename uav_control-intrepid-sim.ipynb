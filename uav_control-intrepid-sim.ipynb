{
 "cells": [
  {
   "cell_type": "code",
   "execution_count": 1,
   "id": "151b1c34",
   "metadata": {},
   "outputs": [],
   "source": [
    "import matplotlib.pyplot as plt\n",
    "import nest_asyncio\n",
    "import numpy as np\n",
    "import time\n",
    "import asyncio\n",
    "\n",
    "from intrepid_environment.simulator import Simulator\n",
    "from quadcopter_control.controller import QuadcopterController\n",
    "from scipy.spatial.transform import Rotation as R\n",
    "from tqdm import tqdm\n",
    "\n",
    "nest_asyncio.apply()"
   ]
  },
  {
   "cell_type": "code",
   "execution_count": 2,
   "id": "a5d25522",
   "metadata": {},
   "outputs": [
    {
     "data": {
      "text/plain": [
       "1020000"
      ]
     },
     "execution_count": 2,
     "metadata": {},
     "output_type": "execute_result"
    }
   ],
   "source": [
    "sim = Simulator()\n",
    "await sim.connect()"
   ]
  },
  {
   "cell_type": "code",
   "execution_count": 3,
   "id": "3d901a42",
   "metadata": {},
   "outputs": [],
   "source": [
    "# Sim Constants\n",
    "\n",
    "DT_S = 0.01\n",
    "\n",
    "DRONE_MASS = 0.041\n",
    "NEWTON_TO_RPM = 1 / 0.0020030378486055778\n",
    "\n",
    "Ixx = 1.4e-5\n",
    "Iyy = 1.4e-5\n",
    "Izz = 2.17e-5\n",
    "\n",
    "MIN_THRUST = DRONE_MASS * 9.1 / 4 * 0.8\n",
    "MAX_THRUST = DRONE_MASS * 9.1  / 4 * 1.5"
   ]
  },
  {
   "cell_type": "code",
   "execution_count": 4,
   "id": "19ad90c0",
   "metadata": {},
   "outputs": [],
   "source": [
    "async def reset():\n",
    "    await sim.rpc(\"session.restart\")\n",
    "    entity = await sim.rpc(\"map.spawn_uav\", {\n",
    "        \"robot_id\": 0,\n",
    "        \"position\": {\n",
    "            \"x\": 0,\n",
    "            \"y\": 0,\n",
    "            \"z\": 0,\n",
    "        },\n",
    "    })\n",
    "    time.sleep(1.0)\n",
    "    await sim.rpc(\"session.run\")\n",
    "    return entity"
   ]
  },
  {
   "cell_type": "code",
   "execution_count": 5,
   "id": "ad3c0546",
   "metadata": {},
   "outputs": [],
   "source": [
    "entity = await reset()"
   ]
  },
  {
   "cell_type": "code",
   "execution_count": null,
   "id": "61328f80",
   "metadata": {},
   "outputs": [],
   "source": [
    "async def sim_step(motors):\n",
    "\n",
    "    motors = np.array(motors) * NEWTON_TO_RPM\n",
    "    motors = np.array([motors[1], motors[0], motors[3], motors[2]])\n",
    "\n",
    "    (sim_time, _, drone_state) = await asyncio.gather(\n",
    "        sim.step(),\n",
    "        sim.rpc(f\"object_{entity}.actuator_control\", list(motors)),\n",
    "        sim.rpc(\"script.eval\", {\n",
    "                \"code\": \"\"\"{\n",
    "                    position = sim.object.position(ARGS),\n",
    "                    attitude = sim.object.rotation_quat(ARGS),\n",
    "                    attitude_euler = sim.object.rotation_angles(ARGS),\n",
    "                    velocity = sim.object.linear_velocity(ARGS),\n",
    "                    omega = sim.object.angular_velocity(ARGS),\n",
    "                    acceleration = sim.object.acceleration(ARGS),\n",
    "                }\"\"\",\n",
    "                \"args\": entity,\n",
    "                }),\n",
    "    )\n",
    "\n",
    "    position = np.array([drone_state['position']['x'],\n",
    "                        drone_state['position']['y'],\n",
    "                        drone_state['position']['z']], dtype=np.float64)\n",
    "\n",
    "    velocity = np.array([drone_state['velocity']['x'],\n",
    "                        drone_state['velocity']['y'],\n",
    "                        drone_state['velocity']['z']], dtype=np.float64)\n",
    "\n",
    "    attitude = R.from_quat([\n",
    "        drone_state['attitude'][0],\n",
    "        drone_state['attitude'][1],\n",
    "        drone_state['attitude'][2],\n",
    "        drone_state['attitude'][3],\n",
    "    ])\n",
    "\n",
    "    omega = np.array([-drone_state['omega']['yz'],\n",
    "                      -drone_state['omega']['zx'],\n",
    "                       drone_state['omega']['xy']], dtype=np.float64)\n",
    "\n",
    "    return {\n",
    "        'time': sim_time,\n",
    "        'position': position,\n",
    "        'velocity': velocity,\n",
    "        'attitude': attitude,\n",
    "        'omega': omega\n",
    "    }"
   ]
  },
  {
   "cell_type": "code",
   "execution_count": 7,
   "id": "29ec3853",
   "metadata": {},
   "outputs": [
    {
     "data": {
      "text/plain": [
       "{'time': 10000,\n",
       " 'acceleration': array([0.        , 0.        , 9.81000042]),\n",
       " 'position': array([ 3.20140536e-09,  2.81206347e-08, -4.71407438e-05]),\n",
       " 'velocity': array([1.85257595e-05, 8.43860762e-05, 3.12395860e-05]),\n",
       " 'attitude': <scipy.spatial.transform._rotation.Rotation at 0x7fbadb250d50>,\n",
       " 'omega': array([ 0.00677011, -0.0012864 ,  0.00021446])}"
      ]
     },
     "execution_count": 7,
     "metadata": {},
     "output_type": "execute_result"
    }
   ],
   "source": [
    "# initial state\n",
    "state = await sim_step([0, 0, 0 ,0])\n",
    "state"
   ]
  },
  {
   "cell_type": "code",
   "execution_count": 8,
   "id": "28aed621",
   "metadata": {},
   "outputs": [],
   "source": [
    "quadcopter_controller = QuadcopterController(\n",
    "    DT_S,\n",
    "    DRONE_MASS * 0.99,\n",
    "    Ixx, Iyy, Izz,\n",
    "    0.2, \n",
    "    12, 5, 5, \n",
    "    0.03,\n",
    "    MIN_THRUST, MAX_THRUST,\n",
    ")"
   ]
  },
  {
   "cell_type": "code",
   "execution_count": 9,
   "id": "2bf6e759",
   "metadata": {},
   "outputs": [],
   "source": [
    "async def tune_controller(\n",
    "        target={\n",
    "            \"position\": np.array([0, 0, 5]),\n",
    "            \"velocity\": np.zeros(3),\n",
    "            \"acceleration\": np.zeros(3),\n",
    "            \"attitude\": R.from_quat([0, 0, 0, 1]),\n",
    "        },\n",
    "        kp_pqr=np.array([95.0, 95.0, 6.0]),\n",
    "        kp_bank=0.0,\n",
    "        kp_pos_z=0.0,\n",
    "        kp_vel_z=0.0,\n",
    "        ki_pos_z=0.0,\n",
    "        kp_pos_xy=0.0,\n",
    "        kp_yaw=0.0,\n",
    "        kp_vel_xy=0.0,\n",
    "        kappa=1.0,\n",
    "        n_episodes=500,\n",
    "):\n",
    "    global entity\n",
    "\n",
    "    entity = await reset()\n",
    "\n",
    "    quadcopter_controller.integrated_altitude_error = 0.0\n",
    "    quadcopter_controller.set_gains(\n",
    "        kp_pqr=kp_pqr,\n",
    "        kp_bank=kp_bank,\n",
    "        kp_pos_z=kp_pos_z,\n",
    "        kp_vel_z=kp_vel_z,\n",
    "        ki_pos_z=ki_pos_z,\n",
    "        kp_pos_xy=kp_pos_xy,\n",
    "        kp_yaw=kp_yaw,\n",
    "        kp_vel_xy=kp_vel_xy,\n",
    "        kappa=kappa\n",
    "    )\n",
    "\n",
    "    times = []\n",
    "    positions = []\n",
    "    attitudes = []\n",
    "\n",
    "    state = await sim_step([0, 0, 0, 0])\n",
    "\n",
    "    t = 0\n",
    "    for _ in tqdm(range(n_episodes)):\n",
    "\n",
    "        motors = quadcopter_controller.run_control(\n",
    "            target['position'],\n",
    "            target['velocity'],\n",
    "            target['acceleration'],\n",
    "            target['attitude'],\n",
    "            state['position'],\n",
    "            state['velocity'],\n",
    "            state['omega'],\n",
    "            state['attitude'],\n",
    "        )\n",
    "\n",
    "        # accelerations.append(state['acceleration'])\n",
    "        attitudes.append(state['attitude'])\n",
    "        positions.append(state['position'])\n",
    "        times.append(t)\n",
    "        state = await sim_step(motors)\n",
    "\n",
    "        t += DT_S\n",
    "\n",
    "    return (\n",
    "        np.array(times),\n",
    "        np.array(positions),\n",
    "        np.array(attitudes),\n",
    "    )"
   ]
  },
  {
   "cell_type": "code",
   "execution_count": 10,
   "id": "eff7fb72",
   "metadata": {},
   "outputs": [],
   "source": [
    "target = {\n",
    "    \"position\": np.array([0, 0, 5]),\n",
    "    \"velocity\": np.zeros(3),\n",
    "    \"acceleration\": np.zeros(3),\n",
    "    \"attitude\": R.from_quat([0, 0, 0, 1]),\n",
    "}"
   ]
  },
  {
   "cell_type": "code",
   "execution_count": 11,
   "id": "06292c55",
   "metadata": {},
   "outputs": [
    {
     "name": "stderr",
     "output_type": "stream",
     "text": [
      "  1%|          | 46/5000 [00:02<03:50, 21.51it/s]\n"
     ]
    },
    {
     "ename": "CancelledError",
     "evalue": "",
     "output_type": "error",
     "traceback": [
      "\u001b[0;31m---------------------------------------------------------------------------\u001b[0m",
      "\u001b[0;31mCancelledError\u001b[0m                            Traceback (most recent call last)",
      "Cell \u001b[0;32mIn[11], line 1\u001b[0m\n\u001b[0;32m----> 1\u001b[0m (times, positions, attitudes) \u001b[38;5;241m=\u001b[39m \u001b[38;5;28;01mawait\u001b[39;00m tune_controller(\n\u001b[1;32m      2\u001b[0m     kp_pqr\u001b[38;5;241m=\u001b[39mnp\u001b[38;5;241m.\u001b[39marray([\u001b[38;5;241m20\u001b[39m, \u001b[38;5;241m20\u001b[39m, \u001b[38;5;241m0.0\u001b[39m]),\n\u001b[1;32m      3\u001b[0m     ki_pos_z\u001b[38;5;241m=\u001b[39m\u001b[38;5;241m2\u001b[39m,\n\u001b[1;32m      4\u001b[0m     kp_pos_z\u001b[38;5;241m=\u001b[39m\u001b[38;5;241m6\u001b[39m,\n\u001b[1;32m      5\u001b[0m     kp_vel_z\u001b[38;5;241m=\u001b[39m\u001b[38;5;241m15\u001b[39m,\n\u001b[1;32m      6\u001b[0m     kp_pos_xy\u001b[38;5;241m=\u001b[39m\u001b[38;5;241m8.0\u001b[39m,\n\u001b[1;32m      7\u001b[0m     kp_vel_xy\u001b[38;5;241m=\u001b[39m\u001b[38;5;241m8.0\u001b[39m,\n\u001b[1;32m      8\u001b[0m     kp_yaw\u001b[38;5;241m=\u001b[39m\u001b[38;5;241m0.0\u001b[39m,\n\u001b[1;32m      9\u001b[0m     kp_bank\u001b[38;5;241m=\u001b[39m\u001b[38;5;241m2.0\u001b[39m,\n\u001b[1;32m     10\u001b[0m     n_episodes\u001b[38;5;241m=\u001b[39m\u001b[38;5;241m5000\u001b[39m,\n\u001b[1;32m     11\u001b[0m     target\u001b[38;5;241m=\u001b[39mtarget\n\u001b[1;32m     12\u001b[0m )\n",
      "Cell \u001b[0;32mIn[9], line 60\u001b[0m, in \u001b[0;36mtune_controller\u001b[0;34m(target, kp_pqr, kp_bank, kp_pos_z, kp_vel_z, ki_pos_z, kp_pos_xy, kp_yaw, kp_vel_xy, kappa, n_episodes)\u001b[0m\n\u001b[1;32m     58\u001b[0m     positions\u001b[38;5;241m.\u001b[39mappend(state[\u001b[38;5;124m'\u001b[39m\u001b[38;5;124mposition\u001b[39m\u001b[38;5;124m'\u001b[39m])\n\u001b[1;32m     59\u001b[0m     times\u001b[38;5;241m.\u001b[39mappend(t)\n\u001b[0;32m---> 60\u001b[0m     state \u001b[38;5;241m=\u001b[39m \u001b[38;5;28;01mawait\u001b[39;00m sim_step(motors)\n\u001b[1;32m     62\u001b[0m     t \u001b[38;5;241m+\u001b[39m\u001b[38;5;241m=\u001b[39m DT_S\n\u001b[1;32m     64\u001b[0m \u001b[38;5;28;01mreturn\u001b[39;00m (\n\u001b[1;32m     65\u001b[0m     np\u001b[38;5;241m.\u001b[39marray(times),\n\u001b[1;32m     66\u001b[0m     np\u001b[38;5;241m.\u001b[39marray(positions),\n\u001b[1;32m     67\u001b[0m     np\u001b[38;5;241m.\u001b[39marray(attitudes),\n\u001b[1;32m     68\u001b[0m )\n",
      "Cell \u001b[0;32mIn[6], line 6\u001b[0m, in \u001b[0;36msim_step\u001b[0;34m(motors)\u001b[0m\n\u001b[1;32m      3\u001b[0m motors \u001b[38;5;241m=\u001b[39m np\u001b[38;5;241m.\u001b[39marray(motors) \u001b[38;5;241m*\u001b[39m NEWTON_TO_RPM\n\u001b[1;32m      4\u001b[0m motors \u001b[38;5;241m=\u001b[39m np\u001b[38;5;241m.\u001b[39marray([motors[\u001b[38;5;241m1\u001b[39m], motors[\u001b[38;5;241m0\u001b[39m], motors[\u001b[38;5;241m3\u001b[39m], motors[\u001b[38;5;241m2\u001b[39m]])\n\u001b[0;32m----> 6\u001b[0m (sim_time, _, drone_state) \u001b[38;5;241m=\u001b[39m \u001b[38;5;28;01mawait\u001b[39;00m asyncio\u001b[38;5;241m.\u001b[39mgather(\n\u001b[1;32m      7\u001b[0m     sim\u001b[38;5;241m.\u001b[39mstep(),\n\u001b[1;32m      8\u001b[0m     sim\u001b[38;5;241m.\u001b[39mrpc(\u001b[38;5;124mf\u001b[39m\u001b[38;5;124m\"\u001b[39m\u001b[38;5;124mobject_\u001b[39m\u001b[38;5;132;01m{\u001b[39;00mentity\u001b[38;5;132;01m}\u001b[39;00m\u001b[38;5;124m.actuator_control\u001b[39m\u001b[38;5;124m\"\u001b[39m, \u001b[38;5;28mlist\u001b[39m(motors)),\n\u001b[1;32m      9\u001b[0m     sim\u001b[38;5;241m.\u001b[39mrpc(\u001b[38;5;124m\"\u001b[39m\u001b[38;5;124mscript.eval\u001b[39m\u001b[38;5;124m\"\u001b[39m, {\n\u001b[1;32m     10\u001b[0m             \u001b[38;5;124m\"\u001b[39m\u001b[38;5;124mcode\u001b[39m\u001b[38;5;124m\"\u001b[39m: \u001b[38;5;124m\"\"\"\u001b[39m\u001b[38;5;124m{\u001b[39m\n\u001b[1;32m     11\u001b[0m \u001b[38;5;124m                position = sim.object.position(ARGS),\u001b[39m\n\u001b[1;32m     12\u001b[0m \u001b[38;5;124m                attitude = sim.object.rotation_quat(ARGS),\u001b[39m\n\u001b[1;32m     13\u001b[0m \u001b[38;5;124m                attitude_euler = sim.object.rotation_angles(ARGS),\u001b[39m\n\u001b[1;32m     14\u001b[0m \u001b[38;5;124m                velocity = sim.object.linear_velocity(ARGS),\u001b[39m\n\u001b[1;32m     15\u001b[0m \u001b[38;5;124m                omega = sim.object.angular_velocity(ARGS),\u001b[39m\n\u001b[1;32m     16\u001b[0m \u001b[38;5;124m                acceleration = sim.object.acceleration(ARGS),\u001b[39m\n\u001b[1;32m     17\u001b[0m \u001b[38;5;124m            }\u001b[39m\u001b[38;5;124m\"\"\"\u001b[39m,\n\u001b[1;32m     18\u001b[0m             \u001b[38;5;124m\"\u001b[39m\u001b[38;5;124margs\u001b[39m\u001b[38;5;124m\"\u001b[39m: entity,\n\u001b[1;32m     19\u001b[0m             }),\n\u001b[1;32m     20\u001b[0m )\n\u001b[1;32m     22\u001b[0m acceleration \u001b[38;5;241m=\u001b[39m np\u001b[38;5;241m.\u001b[39marray([drone_state[\u001b[38;5;124m'\u001b[39m\u001b[38;5;124macceleration\u001b[39m\u001b[38;5;124m'\u001b[39m][\u001b[38;5;124m'\u001b[39m\u001b[38;5;124mx\u001b[39m\u001b[38;5;124m'\u001b[39m],\n\u001b[1;32m     23\u001b[0m                          drone_state[\u001b[38;5;124m'\u001b[39m\u001b[38;5;124macceleration\u001b[39m\u001b[38;5;124m'\u001b[39m][\u001b[38;5;124m'\u001b[39m\u001b[38;5;124my\u001b[39m\u001b[38;5;124m'\u001b[39m],\n\u001b[1;32m     24\u001b[0m                          drone_state[\u001b[38;5;124m'\u001b[39m\u001b[38;5;124macceleration\u001b[39m\u001b[38;5;124m'\u001b[39m][\u001b[38;5;124m'\u001b[39m\u001b[38;5;124mz\u001b[39m\u001b[38;5;124m'\u001b[39m]], dtype\u001b[38;5;241m=\u001b[39mnp\u001b[38;5;241m.\u001b[39mfloat64)\n\u001b[1;32m     26\u001b[0m position \u001b[38;5;241m=\u001b[39m np\u001b[38;5;241m.\u001b[39marray([drone_state[\u001b[38;5;124m'\u001b[39m\u001b[38;5;124mposition\u001b[39m\u001b[38;5;124m'\u001b[39m][\u001b[38;5;124m'\u001b[39m\u001b[38;5;124mx\u001b[39m\u001b[38;5;124m'\u001b[39m],\n\u001b[1;32m     27\u001b[0m                     drone_state[\u001b[38;5;124m'\u001b[39m\u001b[38;5;124mposition\u001b[39m\u001b[38;5;124m'\u001b[39m][\u001b[38;5;124m'\u001b[39m\u001b[38;5;124my\u001b[39m\u001b[38;5;124m'\u001b[39m],\n\u001b[1;32m     28\u001b[0m                     drone_state[\u001b[38;5;124m'\u001b[39m\u001b[38;5;124mposition\u001b[39m\u001b[38;5;124m'\u001b[39m][\u001b[38;5;124m'\u001b[39m\u001b[38;5;124mz\u001b[39m\u001b[38;5;124m'\u001b[39m]], dtype\u001b[38;5;241m=\u001b[39mnp\u001b[38;5;241m.\u001b[39mfloat64)\n",
      "File \u001b[0;32m~/anaconda3/envs/jax/lib/python3.11/asyncio/tasks.py:349\u001b[0m, in \u001b[0;36mTask.__wakeup\u001b[0;34m(self, future)\u001b[0m\n\u001b[1;32m    347\u001b[0m \u001b[38;5;28;01mdef\u001b[39;00m \u001b[38;5;21m__wakeup\u001b[39m(\u001b[38;5;28mself\u001b[39m, future):\n\u001b[1;32m    348\u001b[0m     \u001b[38;5;28;01mtry\u001b[39;00m:\n\u001b[0;32m--> 349\u001b[0m         future\u001b[38;5;241m.\u001b[39mresult()\n\u001b[1;32m    350\u001b[0m     \u001b[38;5;28;01mexcept\u001b[39;00m \u001b[38;5;167;01mBaseException\u001b[39;00m \u001b[38;5;28;01mas\u001b[39;00m exc:\n\u001b[1;32m    351\u001b[0m         \u001b[38;5;66;03m# This may also be a cancellation.\u001b[39;00m\n\u001b[1;32m    352\u001b[0m         \u001b[38;5;28mself\u001b[39m\u001b[38;5;241m.\u001b[39m__step(exc)\n",
      "File \u001b[0;32m~/anaconda3/envs/jax/lib/python3.11/asyncio/tasks.py:279\u001b[0m, in \u001b[0;36mTask.__step\u001b[0;34m(***failed resolving arguments***)\u001b[0m\n\u001b[1;32m    277\u001b[0m         result \u001b[38;5;241m=\u001b[39m coro\u001b[38;5;241m.\u001b[39msend(\u001b[38;5;28;01mNone\u001b[39;00m)\n\u001b[1;32m    278\u001b[0m     \u001b[38;5;28;01melse\u001b[39;00m:\n\u001b[0;32m--> 279\u001b[0m         result \u001b[38;5;241m=\u001b[39m coro\u001b[38;5;241m.\u001b[39mthrow(exc)\n\u001b[1;32m    280\u001b[0m \u001b[38;5;28;01mexcept\u001b[39;00m \u001b[38;5;167;01mStopIteration\u001b[39;00m \u001b[38;5;28;01mas\u001b[39;00m exc:\n\u001b[1;32m    281\u001b[0m     \u001b[38;5;28;01mif\u001b[39;00m \u001b[38;5;28mself\u001b[39m\u001b[38;5;241m.\u001b[39m_must_cancel:\n\u001b[1;32m    282\u001b[0m         \u001b[38;5;66;03m# Task is cancelled right before coro stops.\u001b[39;00m\n",
      "File \u001b[0;32m~/code/robotics/intrepid-sim-recipes/intrepid_environment/simulator.py:38\u001b[0m, in \u001b[0;36mSimulator.step\u001b[0;34m(self)\u001b[0m\n\u001b[1;32m     36\u001b[0m sync \u001b[38;5;241m=\u001b[39m \u001b[38;5;28mself\u001b[39m\u001b[38;5;241m.\u001b[39mclient\u001b[38;5;241m.\u001b[39mget_subscription(\u001b[38;5;124m\"\u001b[39m\u001b[38;5;124msync\u001b[39m\u001b[38;5;124m\"\u001b[39m)\n\u001b[1;32m     37\u001b[0m \u001b[38;5;28;01mawait\u001b[39;00m sync\u001b[38;5;241m.\u001b[39mpublish(\u001b[38;5;28mself\u001b[39m\u001b[38;5;241m.\u001b[39mlast_tick \u001b[38;5;241m+\u001b[39m \u001b[38;5;241m1\u001b[39m)\n\u001b[0;32m---> 38\u001b[0m \u001b[38;5;28;01mreturn\u001b[39;00m \u001b[38;5;28;01mawait\u001b[39;00m next_step\n",
      "File \u001b[0;32m~/anaconda3/envs/jax/lib/python3.11/asyncio/futures.py:287\u001b[0m, in \u001b[0;36mFuture.__await__\u001b[0;34m(self)\u001b[0m\n\u001b[1;32m    285\u001b[0m \u001b[38;5;28;01mif\u001b[39;00m \u001b[38;5;129;01mnot\u001b[39;00m \u001b[38;5;28mself\u001b[39m\u001b[38;5;241m.\u001b[39mdone():\n\u001b[1;32m    286\u001b[0m     \u001b[38;5;28mself\u001b[39m\u001b[38;5;241m.\u001b[39m_asyncio_future_blocking \u001b[38;5;241m=\u001b[39m \u001b[38;5;28;01mTrue\u001b[39;00m\n\u001b[0;32m--> 287\u001b[0m     \u001b[38;5;28;01myield\u001b[39;00m \u001b[38;5;28mself\u001b[39m  \u001b[38;5;66;03m# This tells Task to wait for completion.\u001b[39;00m\n\u001b[1;32m    288\u001b[0m \u001b[38;5;28;01mif\u001b[39;00m \u001b[38;5;129;01mnot\u001b[39;00m \u001b[38;5;28mself\u001b[39m\u001b[38;5;241m.\u001b[39mdone():\n\u001b[1;32m    289\u001b[0m     \u001b[38;5;28;01mraise\u001b[39;00m \u001b[38;5;167;01mRuntimeError\u001b[39;00m(\u001b[38;5;124m\"\u001b[39m\u001b[38;5;124mawait wasn\u001b[39m\u001b[38;5;124m'\u001b[39m\u001b[38;5;124mt used with future\u001b[39m\u001b[38;5;124m\"\u001b[39m)\n",
      "File \u001b[0;32m~/anaconda3/envs/jax/lib/python3.11/asyncio/tasks.py:349\u001b[0m, in \u001b[0;36mTask.__wakeup\u001b[0;34m(self, future)\u001b[0m\n\u001b[1;32m    347\u001b[0m \u001b[38;5;28;01mdef\u001b[39;00m \u001b[38;5;21m__wakeup\u001b[39m(\u001b[38;5;28mself\u001b[39m, future):\n\u001b[1;32m    348\u001b[0m     \u001b[38;5;28;01mtry\u001b[39;00m:\n\u001b[0;32m--> 349\u001b[0m         future\u001b[38;5;241m.\u001b[39mresult()\n\u001b[1;32m    350\u001b[0m     \u001b[38;5;28;01mexcept\u001b[39;00m \u001b[38;5;167;01mBaseException\u001b[39;00m \u001b[38;5;28;01mas\u001b[39;00m exc:\n\u001b[1;32m    351\u001b[0m         \u001b[38;5;66;03m# This may also be a cancellation.\u001b[39;00m\n\u001b[1;32m    352\u001b[0m         \u001b[38;5;28mself\u001b[39m\u001b[38;5;241m.\u001b[39m__step(exc)\n",
      "File \u001b[0;32m~/anaconda3/envs/jax/lib/python3.11/asyncio/futures.py:198\u001b[0m, in \u001b[0;36mFuture.result\u001b[0;34m(self)\u001b[0m\n\u001b[1;32m    196\u001b[0m \u001b[38;5;28;01mif\u001b[39;00m \u001b[38;5;28mself\u001b[39m\u001b[38;5;241m.\u001b[39m_state \u001b[38;5;241m==\u001b[39m _CANCELLED:\n\u001b[1;32m    197\u001b[0m     exc \u001b[38;5;241m=\u001b[39m \u001b[38;5;28mself\u001b[39m\u001b[38;5;241m.\u001b[39m_make_cancelled_error()\n\u001b[0;32m--> 198\u001b[0m     \u001b[38;5;28;01mraise\u001b[39;00m exc\n\u001b[1;32m    199\u001b[0m \u001b[38;5;28;01mif\u001b[39;00m \u001b[38;5;28mself\u001b[39m\u001b[38;5;241m.\u001b[39m_state \u001b[38;5;241m!=\u001b[39m _FINISHED:\n\u001b[1;32m    200\u001b[0m     \u001b[38;5;28;01mraise\u001b[39;00m exceptions\u001b[38;5;241m.\u001b[39mInvalidStateError(\u001b[38;5;124m'\u001b[39m\u001b[38;5;124mResult is not ready.\u001b[39m\u001b[38;5;124m'\u001b[39m)\n",
      "\u001b[0;31mCancelledError\u001b[0m: "
     ]
    }
   ],
   "source": [
    "(times, positions, attitudes) = await tune_controller(\n",
    "    kp_pqr=np.array([20, 20, 0.0]),\n",
    "    ki_pos_z=2,\n",
    "    kp_pos_z=6,\n",
    "    kp_vel_z=15,\n",
    "    kp_pos_xy=8.0,\n",
    "    kp_vel_xy=8.0,\n",
    "    kp_yaw=0.0,\n",
    "    kp_bank=2.0,\n",
    "    n_episodes=5000,\n",
    "    target=target\n",
    ")"
   ]
  },
  {
   "cell_type": "code",
   "execution_count": null,
   "id": "4522dbcb",
   "metadata": {},
   "outputs": [],
   "source": [
    "plt.title(\"z\")\n",
    "plt.plot(positions[:, 2])\n",
    "plt.show()\n",
    "\n",
    "plt.title(\"x\")\n",
    "plt.plot(positions[:, 0])\n",
    "plt.show()\n",
    "\n",
    "plt.title(\"y\")\n",
    "plt.plot(positions[:, 1])\n",
    "plt.show()"
   ]
  },
  {
   "cell_type": "code",
   "execution_count": null,
   "id": "6818e5c2",
   "metadata": {},
   "outputs": [],
   "source": []
  }
 ],
 "metadata": {
  "kernelspec": {
   "display_name": "jax",
   "language": "python",
   "name": "python3"
  },
  "language_info": {
   "codemirror_mode": {
    "name": "ipython",
    "version": 3
   },
   "file_extension": ".py",
   "mimetype": "text/x-python",
   "name": "python",
   "nbconvert_exporter": "python",
   "pygments_lexer": "ipython3",
   "version": "3.11.7"
  }
 },
 "nbformat": 4,
 "nbformat_minor": 5
}
