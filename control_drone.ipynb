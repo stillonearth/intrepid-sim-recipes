{
 "cells": [
  {
   "cell_type": "code",
   "execution_count": 1,
   "id": "151b1c34",
   "metadata": {},
   "outputs": [],
   "source": [
    "import numpy as np\n",
    "import quaternion\n",
    "\n",
    "from intrepid_environment.quadcopter_environment import QuadcopterController"
   ]
  },
  {
   "cell_type": "code",
   "execution_count": 2,
   "id": "6357f1d7",
   "metadata": {},
   "outputs": [],
   "source": [
    "import nest_asyncio\n",
    "nest_asyncio.apply()"
   ]
  },
  {
   "cell_type": "code",
   "execution_count": 3,
   "id": "a5bc6fb1",
   "metadata": {},
   "outputs": [],
   "source": [
    "# initialize RPC Drone Controller\n",
    "DT_MS = 100\n",
    "\n",
    "quadcopter_rpc_controller = QuadcopterController(DT_MS)"
   ]
  },
  {
   "cell_type": "markdown",
   "id": "6a5b739b",
   "metadata": {},
   "source": [
    "Setup trajectory for drone to follow."
   ]
  },
  {
   "cell_type": "code",
   "execution_count": 4,
   "id": "964e93a4",
   "metadata": {},
   "outputs": [],
   "source": [
    "from quadcopter_control.trajectory import Trajectory, TrajectoryPoint"
   ]
  },
  {
   "cell_type": "code",
   "execution_count": 5,
   "id": "67cc357e",
   "metadata": {},
   "outputs": [],
   "source": [
    "async def get_trajectory_with_initial_position():\n",
    "    sim_time = await quadcopter_rpc_controller.simulation_time()\n",
    "    initial_orientation = quadcopter_rpc_controller.rotation_angles()\n",
    "    initial_attitude = quaternion.from_euler_angles(*initial_orientation)\n",
    "    initial_omega = quadcopter_rpc_controller.angular_velocity()\n",
    "    initial_position = quadcopter_rpc_controller.position()\n",
    "    initial_linear_velocity = quadcopter_rpc_controller.linear_velocity()\n",
    "    initial_acceleration = quadcopter_rpc_controller.acceleration()\n",
    "\n",
    "    starting_point = TrajectoryPoint(\n",
    "        time=sim_time,\n",
    "        position=initial_position,\n",
    "        velocity=initial_linear_velocity,\n",
    "        accel=initial_acceleration,\n",
    "        attitude=initial_attitude,\n",
    "        omega=initial_omega,\n",
    "    )\n",
    "\n",
    "    trajectory = Trajectory()\n",
    "    trajectory.add_point(starting_point)\n",
    "\n",
    "    return trajectory"
   ]
  },
  {
   "cell_type": "code",
   "execution_count": 6,
   "id": "312968e9",
   "metadata": {},
   "outputs": [],
   "source": [
    "def get_next_trajectory_point(trajectory, sim_time, dt, dp):\n",
    "    pt = trajectory.next_trajectory_point(sim_time + dt)\n",
    "    pt.position += dp\n",
    "    return pt"
   ]
  },
  {
   "cell_type": "code",
   "execution_count": 7,
   "id": "c7ef8802",
   "metadata": {},
   "outputs": [],
   "source": [
    "trajectory_time_offset = 0\n",
    "dp = np.zeros(3)"
   ]
  },
  {
   "cell_type": "code",
   "execution_count": 8,
   "id": "5ebd4b96",
   "metadata": {},
   "outputs": [],
   "source": [
    "from quadcopter_control.controller import QuadcopterController, calculate_drone_moment_of_inertia"
   ]
  },
  {
   "cell_type": "code",
   "execution_count": 9,
   "id": "fac945f7",
   "metadata": {},
   "outputs": [],
   "source": [
    "DRONE_HEIGHT = 0.028\n",
    "DRONE_RADIUS = 0.05\n",
    "DRONE_MASS = 0.041"
   ]
  },
  {
   "cell_type": "code",
   "execution_count": 10,
   "id": "e8bb6a02",
   "metadata": {},
   "outputs": [
    {
     "data": {
      "text/plain": [
       "(2.830366666666667e-05, 2.830366666666667e-05, 5.125000000000001e-05)"
      ]
     },
     "execution_count": 10,
     "metadata": {},
     "output_type": "execute_result"
    }
   ],
   "source": [
    "(Ixx, Iyy, Izz) = calculate_drone_moment_of_inertia(DRONE_HEIGHT, DRONE_RADIUS, DRONE_MASS)\n",
    "(Ixx, Iyy, Izz)"
   ]
  },
  {
   "cell_type": "markdown",
   "id": "fe3135cd",
   "metadata": {},
   "source": [
    "## Scenario 0: Zero Gains\n",
    "\n",
    "Test whether controller runs without controller gains set."
   ]
  },
  {
   "cell_type": "code",
   "execution_count": 11,
   "id": "0816a8eb",
   "metadata": {},
   "outputs": [],
   "source": [
    "trajectory = await get_trajectory_with_initial_position()"
   ]
  },
  {
   "cell_type": "code",
   "execution_count": 12,
   "id": "d0e36ca8",
   "metadata": {},
   "outputs": [],
   "source": [
    "quadcopter_controller = QuadcopterController(\n",
    "    DT_MS / 1000.0,\n",
    "    DRONE_MASS,\n",
    "    Ixx, Iyy, Izz,\n",
    "    max_tilt_angle=0.52,\n",
    "    max_ascent_rate=10.0\n",
    ")"
   ]
  },
  {
   "cell_type": "code",
   "execution_count": null,
   "id": "11449622",
   "metadata": {},
   "outputs": [],
   "source": [
    "trajectory = await get_trajectory_with_initial_position()\n",
    "\n",
    "async def control_step():\n",
    "    sim_time = await quadcopter_rpc_controller.simulation_time()\n",
    "    quadcopter_controller.run_control(\n",
    "        traj_pt=trajectory.next_trajectory_point(sim_time+DT_MS),\n",
    "        est_pos=quadcopter_rpc_controller.position(),\n",
    "        est_vel=quadcopter_rpc_controller.linear_velocity(),\n",
    "        est_omega=quadcopter_rpc_controller.angular_velocity(),\n",
    "        est_att=quaternion.from_euler_angles(\n",
    "            *quadcopter_rpc_controller.rotation_angles()\n",
    "        ),\n",
    "    )"
   ]
  },
  {
   "cell_type": "code",
   "execution_count": 14,
   "id": "598e09b0",
   "metadata": {},
   "outputs": [],
   "source": [
    "await control_step()"
   ]
  },
  {
   "cell_type": "markdown",
   "id": "ccb7f9f7",
   "metadata": {},
   "source": [
    "## Scenario 1: Altitude Control\n",
    "\n",
    "Tune m parameter until drone stays in place. This scenario using very basic Motor Thrust Controller that equaly distributes thrust to 4 motors."
   ]
  },
  {
   "cell_type": "code",
   "execution_count": null,
   "id": "20110900",
   "metadata": {},
   "outputs": [],
   "source": [
    "# trajectory = Trajectory()\n",
    "\n",
    "# trajectory.add_point(TrajectoryPoint(\n",
    "#     time=sim_time,\n",
    "#     position=np.array([0.0, 0.0, 0.0]),\n",
    "#     velocity=np.zeros(3),\n",
    "#     accel=np.zeros(3),\n",
    "#     attitude=np.quaternion(1.0, 0.0, 0.0, 0.0),\n",
    "#     omega=np.array([0.0, 0.0, 0.0])\n",
    "# ))\n",
    "\n",
    "# # add 500 datapoints so drone stays in place\n",
    "\n",
    "# for i in range(0, 5000):\n",
    "#     trajectory.add_point(TrajectoryPoint(\n",
    "#         time=(sim_time + i*DT_MS),\n",
    "#         position=np.array([0.0, 5.0, 0.0]),\n",
    "#         velocity=np.zeros(3),\n",
    "#         accel=np.zeros(3),\n",
    "#         attitude=np.quaternion(1.0, 0.0, 0.0, 0.0),\n",
    "#         omega=np.array([0.0, 0.0, 0.0])\n",
    "#     ))"
   ]
  },
  {
   "cell_type": "code",
   "execution_count": null,
   "id": "432409a5",
   "metadata": {},
   "outputs": [],
   "source": [
    "# # position controller is turned off\n",
    "# kp_pos_xy = 0\n",
    "# kp_pos_z = 0\n",
    "# kp_vel_xy = 0\n",
    "# kp_vel_z = 0\n",
    "\n",
    "# kappa = 2.0\n",
    "\n",
    "# # tune these\n",
    "# ki_pos_z = 50\n",
    "# kp_yaw = 2\n",
    "# kp_bank = 10\n",
    "# kp_pqr = np.array([95.0, 95.0, 6.0])\n",
    "\n",
    "# # trajectory dt\n",
    "# dp = np.zeros(3)"
   ]
  },
  {
   "cell_type": "code",
   "execution_count": null,
   "id": "e4530ee4",
   "metadata": {},
   "outputs": [],
   "source": [
    "# await run_simulation(n_episodes=200)"
   ]
  }
 ],
 "metadata": {
  "kernelspec": {
   "display_name": "jax",
   "language": "python",
   "name": "python3"
  },
  "language_info": {
   "codemirror_mode": {
    "name": "ipython",
    "version": 3
   },
   "file_extension": ".py",
   "mimetype": "text/x-python",
   "name": "python",
   "nbconvert_exporter": "python",
   "pygments_lexer": "ipython3",
   "version": "3.11.7"
  }
 },
 "nbformat": 4,
 "nbformat_minor": 5
}
