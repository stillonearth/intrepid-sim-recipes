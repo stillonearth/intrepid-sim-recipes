{
 "cells": [
  {
   "cell_type": "code",
   "execution_count": 1,
   "id": "151b1c34",
   "metadata": {},
   "outputs": [],
   "source": [
    "import numpy as np\n",
    "import quaternion\n",
    "\n",
    "from intrepid_environment.drone_environment import DroneController"
   ]
  },
  {
   "cell_type": "code",
   "execution_count": 2,
   "id": "6357f1d7",
   "metadata": {},
   "outputs": [],
   "source": [
    "import nest_asyncio\n",
    "nest_asyncio.apply()"
   ]
  },
  {
   "cell_type": "code",
   "execution_count": 3,
   "id": "a5bc6fb1",
   "metadata": {},
   "outputs": [],
   "source": [
    "# Simulation frequency\n",
    "\n",
    "DT_MS = 50"
   ]
  },
  {
   "cell_type": "code",
   "execution_count": 4,
   "id": "683db215",
   "metadata": {},
   "outputs": [],
   "source": [
    "controller = DroneController(DT_MS)"
   ]
  },
  {
   "cell_type": "markdown",
   "id": "a4a88321",
   "metadata": {},
   "source": [
    "Read sensors:"
   ]
  },
  {
   "cell_type": "code",
   "execution_count": 5,
   "id": "3c2cae26",
   "metadata": {},
   "outputs": [],
   "source": [
    "# API Methods\n",
    "\n",
    "## Read Sensors\n",
    "\n",
    "# controller.acceleration()\n",
    "# controller.linear_velocity()\n",
    "# controller.angular_velocity()\n",
    "# controller.rotation_angles()\n",
    "\n",
    "## Control Motors\n",
    "\n",
    "# controller.control_motors(0.4, 0.7, 0.1, 0.33)"
   ]
  },
  {
   "cell_type": "markdown",
   "id": "b7061739",
   "metadata": {},
   "source": [
    "Control drone with a random signal"
   ]
  },
  {
   "cell_type": "code",
   "execution_count": 6,
   "id": "0e20d776",
   "metadata": {},
   "outputs": [],
   "source": [
    "# for _ in range(0, 5000):\n",
    "#   thrust = np.random.uniform(0, 200, 4).tolist()\n",
    "#   try:\n",
    "#     controller.control_motors(*thrust)\n",
    "#     await controller.simulation_step()\n",
    "#   except Exception as e:\n",
    "#     print(\"drone crashed\")\n",
    "#     break"
   ]
  },
  {
   "cell_type": "markdown",
   "id": "7f47eef2",
   "metadata": {},
   "source": [
    "# Math Helpers"
   ]
  },
  {
   "cell_type": "code",
   "execution_count": 7,
   "id": "d4ea879b",
   "metadata": {},
   "outputs": [],
   "source": [
    "def skew_symmetric(v):\n",
    "    \"\"\"Compute the skew-symmetric matrix of a 3D vector.\"\"\"\n",
    "    return np.array([\n",
    "        [0, -v[2], v[1]],\n",
    "        [v[2], 0, -v[0]],\n",
    "        [-v[1], v[0], 0]\n",
    "    ])\n",
    "\n",
    "def rotation_matrix_i_wrt_b(q):\n",
    "    \"\"\"\n",
    "    Compute the rotation matrix from body frame to inertial frame.\n",
    "    \n",
    "    Args:\n",
    "      q: A numpy auaternion in [w, x, y, z] order.\n",
    "\n",
    "    Returns:\n",
    "      A 3x3 numpy array representing the rotation matrix.\n",
    "    \"\"\"\n",
    "\n",
    "    arr = quaternion.as_float_array(q)\n",
    "\n",
    "    w = arr[0]\n",
    "    v = arr[1:4]\n",
    "    Sk = skew_symmetric(v)\n",
    "    term1 = np.eye(3) * (w**2 - np.dot(v, v))\n",
    "    term2 = 2 * np.outer(v, v)\n",
    "    term3 = 2 * w * Sk\n",
    "\n",
    "    return term1 + term2 + term3\n",
    "\n",
    "def constrain(value, lower_bound, upper_bound):\n",
    "    return max(lower_bound, min(upper_bound, value))"
   ]
  },
  {
   "cell_type": "markdown",
   "id": "9af4a12e",
   "metadata": {},
   "source": [
    "## Controllers"
   ]
  },
  {
   "cell_type": "code",
   "execution_count": 8,
   "id": "aec441c8",
   "metadata": {},
   "outputs": [],
   "source": [
    "# Drone Parameters\n",
    "\n",
    "## Moment of Inertia\n",
    "\n",
    "Ixx = 1.0\n",
    "Iyy = 1.0\n",
    "Izz = 1.0\n",
    "\n",
    "mass = 1.0\n",
    "\n",
    "max_tilt_angle = 1.0\n",
    "max_ascent_rate = 1.0\n"
   ]
  },
  {
   "cell_type": "code",
   "execution_count": 9,
   "id": "dac456db",
   "metadata": {},
   "outputs": [],
   "source": [
    "# control gain for body_rate_control\n",
    "kp_pqr = 0.1\n",
    "\n",
    "def body_rate_control(pqr_cmd, pqr):\n",
    "    \"\"\"\n",
    "    Calculate a desired 3-axis moment given a desired and current body rate\n",
    "\n",
    "    Args:\n",
    "      pqr_cmd: desired body rates [rad/s]\n",
    "      pqr: current or estimated body rates [rad/s]\n",
    "    Returns:\n",
    "      A 3x1 numpy array containing the desired moments for each of the 3 axes.\n",
    "    \"\"\"\n",
    "\n",
    "    global Ixx, Iyy, Izz, kp_pqr\n",
    "\n",
    "    I = np.array([Ixx, Iyy, Izz])\n",
    "    moment_cmd = I * kp_pqr * (pqr_cmd - pqr)\n",
    "    return moment_cmd"
   ]
  },
  {
   "cell_type": "code",
   "execution_count": 10,
   "id": "532c32ba",
   "metadata": {},
   "outputs": [],
   "source": [
    "kp_bank = 1.0\n",
    "\n",
    "\n",
    "def roll_pitch_yaw_control(accel_cmd, attitude, coll_thrust_cmd):\n",
    "    \"\"\"\n",
    "    Calculate a desired pitch and roll angle rates based on a desired global\n",
    "            lateral acceleration, the current attitude of the quad, and desired\n",
    "            collective thrust command\n",
    "\n",
    "    Args:\n",
    "        accel_cmd: desired acceleration in global XY coordinates [m/s2]\n",
    "        attitude: current or estimated attitude of the vehicle\n",
    "        coll_thrust_cmd: desired collective thrust of the quad [N]\n",
    "    Returns:\n",
    "        A 3x1 numpy array containing the desired pitch and roll rates. The Z\n",
    "                element of the V3F should be left at its default value (0)\n",
    "    \"\"\"\n",
    "\n",
    "    global mass, kp_bank\n",
    "\n",
    "    pqr_cmd = np.zeros(3)\n",
    "    R = rotation_matrix_i_wrt_b(attitude)\n",
    "    if coll_thrust_cmd == 0:\n",
    "        return pqr_cmd\n",
    "\n",
    "    coll_accel = -coll_thrust_cmd / mass\n",
    "\n",
    "    bx_cmd = constrain(accel_cmd[0] / coll_accel, -\n",
    "                       max_tilt_angle, max_tilt_angle)\n",
    "    bx_err = bx_cmd - R[0, 2]\n",
    "\n",
    "    by_cmd = constrain(accel_cmd[1] / coll_accel, -\n",
    "                       max_tilt_angle, max_tilt_angle)\n",
    "    by_err = by_cmd - R[1, 2]\n",
    "\n",
    "    bx_p_term = kp_bank * bx_err\n",
    "    by_p_term = kp_bank * by_err\n",
    "\n",
    "    R1 = np.array([\n",
    "        [\n",
    "            R[1, 0], -R[0, 0],\n",
    "        ], [\n",
    "            R[1, 1], -R[0, 1]\n",
    "        ]\n",
    "    ]) / R[2, 2]\n",
    "\n",
    "    pqr_cmd[0] = R1[0, 0] * bx_p_term + R1[0, 1] * by_p_term\n",
    "    pqr_cmd[1] = R1[1, 0] * bx_p_term + R1[1, 1] * by_p_term\n",
    "\n",
    "    return pqr_cmd"
   ]
  },
  {
   "cell_type": "code",
   "execution_count": 11,
   "id": "bbbdd006",
   "metadata": {},
   "outputs": [],
   "source": [
    "integrated_altitude_error = 0.0\n",
    "\n",
    "kp_pos_z = 1.0\n",
    "kp_vel_z = 1.0\n",
    "ki_pos_z = 1.0\n",
    "\n",
    "max_ascent_rate = 1.0\n",
    "\n",
    "def altitude_control(pos_z_cmd, vel_z_cmd, pos_z, vel_z, attitude, accel_z_cmd, dt):\n",
    "    \"\"\"\n",
    "\t  Calculate desired quad thrust based on altitude setpoint, actual altitude,\n",
    "\t    vertical velocity setpoint, actual vertical velocity, and a vertical \n",
    "\t    acceleration feed-forward command\n",
    "\n",
    "    Args:\n",
    "\t    pos_z_cmd, vel_z_cmd: desired vertical position and velocity in NED [m]\n",
    "\t    pos_z, vel_z: current vertical position and velocity in NED [m]\n",
    "\t    accel_z_cmd: feed-forward vertical acceleration in NED [m/s2]\n",
    "\t    dt: the time step of the measurements [seconds]\n",
    "    Returns:\n",
    "      A collective thrust command in [N]\n",
    "    \"\"\"\n",
    "\n",
    "    global integrated_altitude_error, kp_pos_z, kp_vel_z, ki_pos_z, max_ascent_rate\n",
    "\n",
    "    R = rotation_matrix_i_wrt_b(attitude)\n",
    "\n",
    "    pos_z_err = pos_z_cmd - pos_z\n",
    "    vel_z_err = vel_z_cmd - vel_z\n",
    "    integrated_altitude_error += pos_z_err * dt\n",
    "\n",
    "    b_z = R[2, 2]\n",
    "\n",
    "    p_term = kp_pos_z * pos_z_err\n",
    "    d_term = kp_vel_z * vel_z_err\n",
    "    i_term = ki_pos_z * integrated_altitude_error\n",
    "\n",
    "    u1_bar = p_term + i_term + d_term + accel_z_cmd\n",
    "\n",
    "    acc = (u1_bar - 9.81) / b_z\n",
    "    thrust = -mass * constrain(acc, -max_ascent_rate / dt, max_ascent_rate / dt)\n",
    "\n",
    "    return thrust"
   ]
  },
  {
   "cell_type": "code",
   "execution_count": 12,
   "id": "b239748b",
   "metadata": {},
   "outputs": [],
   "source": [
    "kp_pos_xy = 1.0\n",
    "kp_vel_xy = 1.0\n",
    "\n",
    "def lateral_position_control(pos_cmd, vel_cmd, pos, vel, accel_cmd_ff):\n",
    "    \"\"\"\n",
    "\t  Calculate a desired horizontal acceleration based on \n",
    "\t   desired lateral position/velocity/acceleration and current pose\n",
    "\n",
    "    Args:\n",
    "\t    pos_cmd: desired position, in NED [m]\n",
    "\t    vel_cmd: desired velocity, in NED [m/s]\n",
    "\t    pos: current position, NED [m]\n",
    "\t    vel: current velocity, NED [m/s]\n",
    "\t    accel_cmd_ff: feed-forward acceleration, NED [m/s2]\n",
    "    Returns:\n",
    "      A 3x1 numpy array with desired horizontal accelerations. \n",
    "        the Z component should be 0\n",
    "    \"\"\"\n",
    "\n",
    "    global kp_pos_xy, kp_vel_xy\n",
    "\n",
    "    accel_cmd_ff[2] = 0\n",
    "    vel_cmd[2] = 0\n",
    "    pos_cmd[2] = pos[2]\n",
    "\n",
    "    accel_cmd = accel_cmd_ff\n",
    "\n",
    "    pos_err = pos_cmd - pos\n",
    "    vel_err = vel_cmd - vel\n",
    "\n",
    "    accel = kp_pos_xy * pos_err + kp_vel_xy * vel_err + accel_cmd_ff\n",
    "    accel_cmd[0] = accel[0]\n",
    "    accel_cmd[1] = accel[1]\n",
    "\n",
    "\n",
    "    return accel_cmd"
   ]
  },
  {
   "cell_type": "code",
   "execution_count": 13,
   "id": "98e30715",
   "metadata": {},
   "outputs": [],
   "source": [
    "kp_yaw = 1.0\n",
    "\n",
    "def yaw_control(yaw_cmd, yaw):\n",
    "    \"\"\"\n",
    "\t  Calculate a desired yaw rate to control yaw to yawCmd\n",
    "\n",
    "    Args:\n",
    "\t    yaw_cmd: commanded yaw [rad]\n",
    "\t    yaw: current yaw [rad]\n",
    "    Returns:\n",
    "      a desired yaw rate [rad/s]\n",
    "    \"\"\"\n",
    "\n",
    "    yaw_rate_cmd = kp_yaw * (yaw_cmd - yaw)\n",
    "\n",
    "    return yaw_rate_cmd"
   ]
  },
  {
   "cell_type": "markdown",
   "id": "a30207f5",
   "metadata": {},
   "source": [
    "## Calculating Motor Commands"
   ]
  },
  {
   "cell_type": "code",
   "execution_count": 14,
   "id": "74393f48",
   "metadata": {},
   "outputs": [],
   "source": [
    "kappa = 1.0\n",
    "max_motor_thrust = 100.0\n",
    "min_motor_thrust = 0.0\n",
    "\n",
    "\n",
    "def generate_motor_commands(coll_thrust_cmd, moment_cmd):\n",
    "    \"\"\"\n",
    "      Convert a desired 3-axis moment and collective thrust command to \n",
    "        individual motor thrust commands\n",
    "    Args:\n",
    "      coll_thrust_cmd: desired collective thrust [N]\n",
    "      moment_cmd: desired rotation moment about each axis [N m]\n",
    "    Returns:\n",
    "      a 4-vec with motor commands\n",
    "    \"\"\"\n",
    "\n",
    "    l = np.sqrt(2.0)\n",
    "\n",
    "    t1 = moment_cmd[0] / l\n",
    "    t2 = moment_cmd[1] / l\n",
    "    t3 = -moment_cmd[2] / kappa\n",
    "    t4 = coll_thrust_cmd\n",
    "\n",
    "    thrust = np.array([\n",
    "        ( t1 + t2 + t3 + t4) / 4.0,  # front left  - f1\n",
    "        (-t1 + t2 - t3 + t4) / 4.0,  # front right - f2\n",
    "        ( t1 - t2 - t3 + t4) / 4.0,  # rear left   - f4\n",
    "        (-t1 - t2 + t3 + t4) / 4.0,  # rear right  - f3\n",
    "    ])\n",
    "\n",
    "    return thrust"
   ]
  },
  {
   "cell_type": "markdown",
   "id": "1d679d10",
   "metadata": {},
   "source": [
    "# Test Controllers"
   ]
  },
  {
   "cell_type": "markdown",
   "id": "e61676ad",
   "metadata": {},
   "source": [
    "## Crazyflie Parameters"
   ]
  },
  {
   "cell_type": "code",
   "execution_count": 15,
   "id": "af6b53fc",
   "metadata": {},
   "outputs": [],
   "source": [
    "# Crazyflie 2.0 physical parameters\n",
    "\n",
    "mass = 0.03  # kg (typical mass of a Crazyflie 2.0)\n",
    "\n",
    "length_x = 0.15  # m (dimension along x-axis)\n",
    "length_y = 0.15  # m (dimension along y-axis)\n",
    "length_z = 0.05  # m (dimension along z-axis)\n",
    "\n",
    "# Estimating moments of inertia\n",
    "Ixx = mass * (length_y**2 + length_z**2) / 12\n",
    "Iyy = mass * (length_x**2 + length_z**2) / 12\n",
    "Izz = mass * (length_x**2 + length_y**2) / 12"
   ]
  },
  {
   "cell_type": "markdown",
   "id": "4b7b761c",
   "metadata": {},
   "source": [
    "# Scenario 0: Intro\n",
    "\n",
    "Just make it work."
   ]
  },
  {
   "cell_type": "code",
   "execution_count": 16,
   "id": "d7db2d23",
   "metadata": {},
   "outputs": [],
   "source": [
    "# set all control gains to zero\n",
    "\n",
    "kp_pos_z = 0\n",
    "kp_vel_z = 0\n",
    "ki_pos_z = 0\n",
    "kp_pos_xy = 0\n",
    "kp_vel_xy = 0\n",
    "kp_yaw = 0\n",
    "kp_bank = 0\n",
    "kp_pqr = np.zeros(3)\n"
   ]
  },
  {
   "cell_type": "code",
   "execution_count": 17,
   "id": "964e93a4",
   "metadata": {},
   "outputs": [],
   "source": [
    "from intrepid_environment.trajectory import Trajectory, TrajectoryPoint"
   ]
  },
  {
   "cell_type": "code",
   "execution_count": 18,
   "id": "8f0643af",
   "metadata": {},
   "outputs": [],
   "source": [
    "sim_time = await controller.simulation_time()\n",
    "start_time = sim_time\n",
    "end_time = start_time + 1000"
   ]
  },
  {
   "cell_type": "code",
   "execution_count": 19,
   "id": "e4fc369a",
   "metadata": {},
   "outputs": [],
   "source": [
    "trajectory = Trajectory()\n",
    "\n",
    "trajectory.add_point(TrajectoryPoint(\n",
    "    time=sim_time,\n",
    "    position=np.array([0.0, 0.0, -1.0]),\n",
    "    velocity=np.zeros(3),\n",
    "    accel=np.zeros(3),\n",
    "    attitude=np.quaternion(1.0, 0.0, 0.0, 0.0),\n",
    "    omega=np.zeros(3)\n",
    "))"
   ]
  },
  {
   "cell_type": "code",
   "execution_count": 20,
   "id": "4361fdd8",
   "metadata": {},
   "outputs": [],
   "source": [
    "trajectory_time_offset = 0\n",
    "trajectory_offset = np.zeros(3)"
   ]
  },
  {
   "cell_type": "code",
   "execution_count": 21,
   "id": "312968e9",
   "metadata": {},
   "outputs": [],
   "source": [
    "def get_next_trajectory_point(trajectory, sim_time):\n",
    "    pt = trajectory.next_trajectory_point(sim_time + trajectory_time_offset)\n",
    "    pt.position += trajectory_offset\n",
    "    return pt"
   ]
  },
  {
   "cell_type": "code",
   "execution_count": 22,
   "id": "cac14d8a",
   "metadata": {},
   "outputs": [],
   "source": [
    "est_att = np.quaternion(1,0,0,0)\n",
    "est_omega = np.zeros(3)\n",
    "est_pos = np.zeros(3)\n",
    "est_vel = np.zeros(3)\n",
    "\n",
    "\n",
    "def run_control(dt, sim_time):\n",
    "\n",
    "    global min_motor_thrust, max_motor_thrust, est_pos, est_vel, est_att, est_omega\n",
    "\n",
    "    traj_pt = get_next_trajectory_point(trajectory, sim_time)\n",
    "\n",
    "    (\n",
    "        cur_trajectory_point_position,\n",
    "        cur_trajectory_point_velocity,\n",
    "        cur_trajectory_point_acceleration,\n",
    "        cur_trajectory_point_attitude,\n",
    "    ) = traj_pt.position, traj_pt.velocity, traj_pt.accel, traj_pt.attitude\n",
    "\n",
    "    coll_thrust_cmd = altitude_control(\n",
    "        cur_trajectory_point_position[2],\n",
    "        cur_trajectory_point_velocity[2],\n",
    "        est_pos[2],\n",
    "        est_vel[2],\n",
    "        est_att,\n",
    "        cur_trajectory_point_acceleration[2],\n",
    "        dt\n",
    "    )\n",
    "\n",
    "    # reserve some thrust margin for angle control\n",
    "\n",
    "    thrust_margin = 0.1 * (max_motor_thrust - min_motor_thrust)\n",
    "    coll_thrust_cmd = constrain(\n",
    "        coll_thrust_cmd,\n",
    "        (min_motor_thrust - thrust_margin) * 4.0,\n",
    "        (max_motor_thrust + thrust_margin) * 4.0\n",
    "    )\n",
    "\n",
    "    des_acc = lateral_position_control(\n",
    "        cur_trajectory_point_position,\n",
    "        cur_trajectory_point_velocity,\n",
    "        est_pos,\n",
    "        est_vel,\n",
    "        cur_trajectory_point_acceleration\n",
    "    )\n",
    "\n",
    "    cur_trajectory_point_attitude_yaw = quaternion.as_euler_angles(cur_trajectory_point_attitude)[0]\n",
    "    est_att_yaw = quaternion.as_euler_angles(est_att)[0]\n",
    "    \n",
    "    des_omega = roll_pitch_yaw_control(des_acc, est_att, coll_thrust_cmd)\n",
    "    des_omega[2] = yaw_control(\n",
    "        cur_trajectory_point_attitude_yaw, est_att_yaw)\n",
    "\n",
    "    des_moment = body_rate_control(des_omega, est_omega)\n",
    "\n",
    "    return generate_motor_commands(coll_thrust_cmd, des_moment)"
   ]
  },
  {
   "cell_type": "code",
   "execution_count": 23,
   "id": "6259a705",
   "metadata": {},
   "outputs": [],
   "source": [
    "# Drone Parameters\n",
    "max_ascent_rate = 5"
   ]
  },
  {
   "cell_type": "code",
   "execution_count": 24,
   "id": "a41a2d16",
   "metadata": {},
   "outputs": [],
   "source": [
    "async def run_simulation(n_episodes=1000):\n",
    "    global est_acc, est_vel, est_omega\n",
    "\n",
    "    sim_time = (await controller.simulation_time()) * 1000\n",
    "\n",
    "    for i in range(0, n_episodes):\n",
    "        motor_commands = run_control(DT_MS, sim_time) \n",
    "        controller.control_motors(*motor_commands)\n",
    "\n",
    "        est_acc = controller.acceleration()\n",
    "        est_vel = controller.linear_velocity()\n",
    "\n",
    "        rotation_angles = controller.rotation_angles()\n",
    "        est_acc = quaternion.from_euler_angles(\n",
    "            rotation_angles[0],\n",
    "            rotation_angles[1],\n",
    "            rotation_angles[2],\n",
    "        )\n",
    "        est_omega = controller.angular_velocity()\n",
    "\n",
    "        await controller.simulation_step()\n",
    "        sim_time = (await controller.simulation_time()) * 1000"
   ]
  },
  {
   "cell_type": "code",
   "execution_count": 25,
   "id": "5038c4e7",
   "metadata": {},
   "outputs": [],
   "source": [
    "await run_simulation(n_episodes=200)"
   ]
  },
  {
   "cell_type": "markdown",
   "id": "ccb7f9f7",
   "metadata": {},
   "source": [
    "## Scenario 1: Altitude Control\n",
    "\n",
    "Tune m parameter until drone stays in place. This scenario using very basic Motor Thrust Controller that equaly distributes thrust to 4 motors."
   ]
  },
  {
   "cell_type": "code",
   "execution_count": 26,
   "id": "20110900",
   "metadata": {},
   "outputs": [],
   "source": [
    "trajectory = Trajectory()\n",
    "\n",
    "trajectory.add_point(TrajectoryPoint(\n",
    "    time=sim_time,\n",
    "    position=np.array([0.0, 0.0, -1.0]),\n",
    "    velocity=np.zeros(3),\n",
    "    accel=np.zeros(3),\n",
    "    attitude=np.quaternion(1.0, 0.0, 0.0, 0.0),\n",
    "    omega=np.array([30.0, 0.0, 0.0])\n",
    "))"
   ]
  },
  {
   "cell_type": "code",
   "execution_count": 27,
   "id": "432409a5",
   "metadata": {},
   "outputs": [],
   "source": [
    "# position controller is turned off\n",
    "kp_pos_xy = 0\n",
    "kp_pos_z = 0\n",
    "kp_vel_xy = 0\n",
    "kp_vel_z = 0\n",
    "\n",
    "# tune these\n",
    "ki_pos_z = 50\n",
    "kp_yaw = 2\n",
    "kp_bank = 10\n",
    "kp_pqr = np.array([95.0, 95.0, 6.0])"
   ]
  }
 ],
 "metadata": {
  "kernelspec": {
   "display_name": "jax",
   "language": "python",
   "name": "python3"
  },
  "language_info": {
   "codemirror_mode": {
    "name": "ipython",
    "version": 3
   },
   "file_extension": ".py",
   "mimetype": "text/x-python",
   "name": "python",
   "nbconvert_exporter": "python",
   "pygments_lexer": "ipython3",
   "version": "3.11.7"
  }
 },
 "nbformat": 4,
 "nbformat_minor": 5
}
