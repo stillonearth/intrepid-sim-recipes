{
 "cells": [
  {
   "cell_type": "code",
   "execution_count": 1,
   "id": "151b1c34",
   "metadata": {},
   "outputs": [],
   "source": [
    "import asyncio\n",
    "import numpy as np\n",
    "import quaternion\n",
    "\n",
    "from intrepid_environment.simulator import Simulator"
   ]
  },
  {
   "cell_type": "code",
   "execution_count": 2,
   "id": "71ed3962",
   "metadata": {},
   "outputs": [],
   "source": [
    "import matplotlib.pyplot as plt"
   ]
  },
  {
   "cell_type": "code",
   "execution_count": 3,
   "id": "5198c3dd",
   "metadata": {},
   "outputs": [],
   "source": [
    "import nest_asyncio\n",
    "nest_asyncio.apply()"
   ]
  },
  {
   "cell_type": "code",
   "execution_count": 4,
   "id": "1bcf8f83",
   "metadata": {},
   "outputs": [],
   "source": [
    "sim = Simulator()\n",
    "await sim.connect()\n",
    "\n",
    "await sim.rpc(\"session.restart\")\n",
    "entity = await sim.rpc(\"map.spawn_uav\", {\n",
    "    \"robot_id\": 0,\n",
    "    \"position\": {\n",
    "        \"x\": 0,\n",
    "        \"y\": 0,\n",
    "        \"z\": 0,\n",
    "    },\n",
    "})\n",
    "await sim.rpc(\"session.run\")"
   ]
  },
  {
   "cell_type": "markdown",
   "id": "6a5b739b",
   "metadata": {},
   "source": [
    "Setup trajectory for drone to follow."
   ]
  },
  {
   "cell_type": "code",
   "execution_count": 5,
   "id": "964e93a4",
   "metadata": {},
   "outputs": [],
   "source": [
    "from quadcopter_control.trajectory import Trajectory, TrajectoryPoint"
   ]
  },
  {
   "cell_type": "code",
   "execution_count": 6,
   "id": "61328f80",
   "metadata": {},
   "outputs": [],
   "source": [
    "async def sim_step(motors):\n",
    "\n",
    "    (sim_time, _, drone_state) = await asyncio.gather(\n",
    "            sim.step(),\n",
    "            sim.rpc(f\"object_{entity}.actuator_control\", motors),\n",
    "            sim.rpc(\"script.eval\", {\n",
    "                \"code\": \"\"\"{\n",
    "                    position = sim.object.position(ARGS),\n",
    "                    attitude = sim.object.rotation_quat(ARGS),\n",
    "                    velocity = sim.object.linear_velocity(ARGS),\n",
    "                    omega = sim.object.angular_velocity(ARGS),\n",
    "                    acceleration = sim.object.acceleration(ARGS),\n",
    "                }\"\"\",\n",
    "                \"args\": entity,\n",
    "            }),\n",
    "        )\n",
    "\n",
    "    acceleration = np.array([drone_state['acceleration']['y'],\n",
    "                             drone_state['acceleration']['x'],\n",
    "                             drone_state['acceleration']['z']], dtype=np.float64)\n",
    "\n",
    "    position = np.array([drone_state['position']['y'],\n",
    "                        drone_state['position']['x'],\n",
    "                        drone_state['position']['z']], dtype=np.float64)\n",
    "\n",
    "    velocity = np.array([drone_state['velocity']['y'],\n",
    "                        drone_state['velocity']['x'],\n",
    "                        drone_state['velocity']['z']], dtype=np.float64)\n",
    "\n",
    "    attitude = np.quaternion(drone_state['attitude'][3],\n",
    "                             drone_state['attitude'][0],\n",
    "                             drone_state['attitude'][1],\n",
    "                             drone_state['attitude'][2])\n",
    "\n",
    "    omega = np.array([drone_state['omega']['xy'],\n",
    "                     drone_state['omega']['zx'],\n",
    "                     drone_state['omega']['yz']], dtype=np.float64)\n",
    "\n",
    "    return {\n",
    "        'time': sim_time,\n",
    "        'acceleration': acceleration,\n",
    "        'position': position,\n",
    "        'velocity': velocity,\n",
    "        'attitude': attitude,\n",
    "        'omega': omega\n",
    "    }"
   ]
  },
  {
   "cell_type": "code",
   "execution_count": 7,
   "id": "67cc357e",
   "metadata": {},
   "outputs": [],
   "source": [
    "async def get_trajectory_with_initial_position():\n",
    "    state = await sim_step([0, 0, 0, 0])\n",
    "\n",
    "    starting_point = TrajectoryPoint(\n",
    "        time=state['time'],\n",
    "        acceleration=state['acceleration'],\n",
    "        attitude=state['attitude'],\n",
    "        omega=state['omega'],\n",
    "        position=state['position'],\n",
    "        velocity=state['velocity'],\n",
    "    )\n",
    "\n",
    "    trajectory = Trajectory()\n",
    "    trajectory.add_point(starting_point)\n",
    "\n",
    "    return trajectory"
   ]
  },
  {
   "cell_type": "code",
   "execution_count": 8,
   "id": "312968e9",
   "metadata": {},
   "outputs": [],
   "source": [
    "trajectory_time_offset = 0\n",
    "dp = np.zeros(3)\n",
    "\n",
    "def get_next_trajectory_point(trajectory, sim_time, dt, dp):\n",
    "    pt = trajectory.next_trajectory_point((sim_time + dt) / 1000.0)\n",
    "    pt.position += dp\n",
    "    return pt"
   ]
  },
  {
   "cell_type": "code",
   "execution_count": 9,
   "id": "5ebd4b96",
   "metadata": {},
   "outputs": [],
   "source": [
    "from quadcopter_control.controller import QuadcopterController, calculate_drone_moment_of_inertia"
   ]
  },
  {
   "cell_type": "code",
   "execution_count": 10,
   "id": "fac945f7",
   "metadata": {},
   "outputs": [],
   "source": [
    "DRONE_HEIGHT = 0.028\n",
    "DRONE_RADIUS = 0.05\n",
    "DRONE_MASS = 0.041"
   ]
  },
  {
   "cell_type": "code",
   "execution_count": 11,
   "id": "e8bb6a02",
   "metadata": {},
   "outputs": [
    {
     "data": {
      "text/plain": [
       "(2.830366666666667e-05, 2.830366666666667e-05, 5.125000000000001e-05)"
      ]
     },
     "execution_count": 11,
     "metadata": {},
     "output_type": "execute_result"
    }
   ],
   "source": [
    "(Ixx, Iyy, Izz) = calculate_drone_moment_of_inertia(DRONE_HEIGHT, DRONE_RADIUS, DRONE_MASS)\n",
    "(Ixx, Iyy, Izz)"
   ]
  },
  {
   "cell_type": "markdown",
   "id": "dc033043",
   "metadata": {},
   "source": [
    "## Scenario -1: Determine Drone Motor / to Newton Rate"
   ]
  },
  {
   "cell_type": "code",
   "execution_count": 12,
   "id": "6c85f6f4",
   "metadata": {},
   "outputs": [],
   "source": [
    "# drone_force = 9.81 * DRONE_MASS; drone_force"
   ]
  },
  {
   "cell_type": "code",
   "execution_count": 13,
   "id": "3eca78e3",
   "metadata": {},
   "outputs": [],
   "source": [
    "# positions = []\n",
    "# forces = []"
   ]
  },
  {
   "cell_type": "code",
   "execution_count": 14,
   "id": "746d5f58",
   "metadata": {},
   "outputs": [],
   "source": [
    "# for force in np.arange(50, 51, 0.01):\n",
    "#     print(\"trying force\", force)\n",
    "#     for _ in range(50):\n",
    "#         state = await sim_step([force, force, force, force])\n",
    "#         forces.append(force)\n",
    "#         positions.append(state['position'][2])"
   ]
  },
  {
   "cell_type": "code",
   "execution_count": 15,
   "id": "83520ab1",
   "metadata": {},
   "outputs": [],
   "source": [
    "# plt.plot(positions[:1250])\n",
    "# plt.plot(forces[:1250])\n",
    "# plt.title(\"z\", fontsize=20)\n",
    "# plt.show()"
   ]
  },
  {
   "cell_type": "code",
   "execution_count": 16,
   "id": "268e8d54",
   "metadata": {},
   "outputs": [
    {
     "data": {
      "text/plain": [
       "0.0020030378486055778"
      ]
     },
     "execution_count": 16,
     "metadata": {},
     "output_type": "execute_result"
    }
   ],
   "source": [
    "scale = 0.40221 / (50.2*4); scale"
   ]
  },
  {
   "cell_type": "markdown",
   "id": "14141abb",
   "metadata": {},
   "source": [
    "500 = 1 newton"
   ]
  },
  {
   "cell_type": "markdown",
   "id": "fe3135cd",
   "metadata": {},
   "source": [
    "## Scenario 0: Zero Gains\n",
    "\n",
    "Test whether controller runs without controller gains set."
   ]
  },
  {
   "cell_type": "code",
   "execution_count": 17,
   "id": "0816a8eb",
   "metadata": {},
   "outputs": [],
   "source": [
    "trajectory = await get_trajectory_with_initial_position()"
   ]
  },
  {
   "cell_type": "code",
   "execution_count": 18,
   "id": "4d9543e1",
   "metadata": {},
   "outputs": [],
   "source": [
    "DT_MS = 15.625 # 64 hz"
   ]
  },
  {
   "cell_type": "code",
   "execution_count": 19,
   "id": "d0e36ca8",
   "metadata": {},
   "outputs": [],
   "source": [
    "quadcopter_controller = QuadcopterController(\n",
    "    DT_MS / 1e3,\n",
    "    DRONE_MASS,\n",
    "    Ixx, Iyy, Izz,\n",
    "    l=0.05,\n",
    "    max_tilt_angle=0.22,\n",
    "    max_ascent_rate=20.0\n",
    ")"
   ]
  },
  {
   "cell_type": "code",
   "execution_count": 20,
   "id": "11449622",
   "metadata": {},
   "outputs": [],
   "source": [
    "trajectory = await get_trajectory_with_initial_position()\n",
    "\n",
    "\n",
    "async def control_step(state):\n",
    "    motors = quadcopter_controller.run_control(\n",
    "        traj_pt=trajectory.next_trajectory_point((state['time'] + DT_MS*1e3)/1e6),\n",
    "        est_pos=state['position'],\n",
    "        est_vel=state['velocity'],\n",
    "        est_omega=state['omega'],\n",
    "        est_att=state['attitude'],\n",
    "    ) \n",
    "\n",
    "    print(motors)\n",
    "\n",
    "    return await sim_step(motors.tolist())"
   ]
  },
  {
   "cell_type": "markdown",
   "id": "ccb7f9f7",
   "metadata": {},
   "source": [
    "## Scenario 1: Altitude Control\n",
    "\n",
    "Tune gains until drone stays in place. on a desired height."
   ]
  },
  {
   "cell_type": "code",
   "execution_count": 21,
   "id": "99a15775",
   "metadata": {},
   "outputs": [],
   "source": [
    "state = await sim_step([0, 0, 0, 0])\n",
    "trajectory = await get_trajectory_with_initial_position()"
   ]
  },
  {
   "cell_type": "code",
   "execution_count": 22,
   "id": "20110900",
   "metadata": {},
   "outputs": [],
   "source": [
    "sim_time = (await sim_step([0, 0, 0, 0]))['time']\n",
    "n_episodes = 800\n",
    "\n",
    "for i in range(0, n_episodes):\n",
    "    trajectory.add_point(TrajectoryPoint(\n",
    "        time=(sim_time + (i*DT_MS*1e3) / 1e6),\n",
    "        position=np.array([0.0, 0.0, 5.0]),\n",
    "        velocity=np.zeros(3),\n",
    "        acceleration=np.zeros(3),\n",
    "        attitude=np.quaternion(1.0, 0.0, 0.0, 0.0),\n",
    "        omega=np.array([0.1, 0.1, 0.1])\n",
    "    ))"
   ]
  },
  {
   "cell_type": "code",
   "execution_count": null,
   "id": "82261645",
   "metadata": {},
   "outputs": [],
   "source": [
    "import time"
   ]
  },
  {
   "cell_type": "code",
   "execution_count": null,
   "id": "2bf6e759",
   "metadata": {},
   "outputs": [],
   "source": [
    "async def tune_controller(\n",
    "        kp_pqr=np.array([95.0, 95.0, 6.0]),\n",
    "        kp_bank=0.0,\n",
    "        kp_pos_z=0.0,\n",
    "        kp_vel_z=0.0,\n",
    "        ki_pos_z=0.0,\n",
    "        kp_pos_xy=0.0,\n",
    "        kp_yaw=0.0,\n",
    "        kp_vel_xy=0.0,\n",
    "        kappa=1.0\n",
    "):\n",
    "    global entity\n",
    "    await sim.rpc(\"session.restart\")\n",
    "    entity = await sim.rpc(\"map.spawn_uav\", {\n",
    "        \"robot_id\": 0,\n",
    "        \"position\": {\n",
    "            \"x\": 0,\n",
    "            \"y\": 0,\n",
    "            \"z\": 0,\n",
    "        },\n",
    "    })\n",
    "    time.sleep(1)\n",
    "    await sim.rpc(\"session.run\")\n",
    "\n",
    "    quadcopter_controller.set_gains(\n",
    "        kp_pqr=kp_pqr,\n",
    "        kp_bank=kp_bank,\n",
    "        kp_pos_z=kp_pos_z,\n",
    "        kp_vel_z=kp_vel_z,\n",
    "        ki_pos_z=ki_pos_z,\n",
    "        kp_pos_xy=kp_pos_xy,\n",
    "        kp_yaw=kp_yaw,\n",
    "        kp_vel_xy=kp_vel_xy,\n",
    "        kappa=kappa\n",
    "    )\n",
    "\n",
    "    positions = []\n",
    "\n",
    "    state = await sim_step([0, 0, 0, 0])\n",
    "\n",
    "    for _ in range(n_episodes):\n",
    "        traj_pt = trajectory.next_trajectory_point(\n",
    "            (state['time'] + DT_MS * 1e3) / 1e6)\n",
    "\n",
    "        motors = quadcopter_controller.run_control(\n",
    "            traj_pt,\n",
    "            state['position'],\n",
    "            state['velocity'],\n",
    "            state['omega'],\n",
    "            state['attitude'],\n",
    "        ) / 0.02\n",
    "\n",
    "        motors = np.clip(motors, 30, 100)\n",
    "\n",
    "\n",
    "        positions.append(state['position'])\n",
    "\n",
    "        state = await sim_step(motors.tolist())\n",
    "\n",
    "    return np.array(positions)"
   ]
  },
  {
   "cell_type": "code",
   "execution_count": 24,
   "id": "9666571b",
   "metadata": {},
   "outputs": [
    {
     "ename": "ReplyError",
     "evalue": "Error 100: entity 85v2 doesn't support actuator control (temporary: True)",
     "output_type": "error",
     "traceback": [
      "\u001b[0;31m---------------------------------------------------------------------------\u001b[0m",
      "\u001b[0;31mReplyError\u001b[0m                                Traceback (most recent call last)",
      "Cell \u001b[0;32mIn[24], line 1\u001b[0m\n\u001b[0;32m----> 1\u001b[0m (positions) \u001b[38;5;241m=\u001b[39m \u001b[38;5;28;01mawait\u001b[39;00m tune_controller(\n\u001b[1;32m      2\u001b[0m     kp_pqr\u001b[38;5;241m=\u001b[39mnp\u001b[38;5;241m.\u001b[39marray([\u001b[38;5;241m95.0\u001b[39m, \u001b[38;5;241m95.0\u001b[39m, \u001b[38;5;241m6.0\u001b[39m]),\n\u001b[1;32m      3\u001b[0m     ki_pos_z\u001b[38;5;241m=\u001b[39m\u001b[38;5;241m55.0\u001b[39m,\n\u001b[1;32m      4\u001b[0m     kp_pos_z\u001b[38;5;241m=\u001b[39m\u001b[38;5;241m0.0\u001b[39m,\n\u001b[1;32m      5\u001b[0m     kp_vel_z\u001b[38;5;241m=\u001b[39m\u001b[38;5;241m0.00\u001b[39m,\n\u001b[1;32m      6\u001b[0m     kp_pos_xy\u001b[38;5;241m=\u001b[39m\u001b[38;5;241m0.0\u001b[39m,\n\u001b[1;32m      7\u001b[0m     kp_vel_xy\u001b[38;5;241m=\u001b[39m\u001b[38;5;241m0.0\u001b[39m,\n\u001b[1;32m      8\u001b[0m     kp_yaw\u001b[38;5;241m=\u001b[39m\u001b[38;5;241m0.0\u001b[39m,\n\u001b[1;32m      9\u001b[0m     kp_bank\u001b[38;5;241m=\u001b[39m\u001b[38;5;241m0.0\u001b[39m\n\u001b[1;32m     10\u001b[0m )\n",
      "Cell \u001b[0;32mIn[23], line 38\u001b[0m, in \u001b[0;36mtune_controller\u001b[0;34m(kp_pqr, kp_bank, kp_pos_z, kp_vel_z, ki_pos_z, kp_pos_xy, kp_yaw, kp_vel_xy, kappa)\u001b[0m\n\u001b[1;32m     24\u001b[0m quadcopter_controller\u001b[38;5;241m.\u001b[39mset_gains(\n\u001b[1;32m     25\u001b[0m     kp_pqr\u001b[38;5;241m=\u001b[39mkp_pqr,\n\u001b[1;32m     26\u001b[0m     kp_bank\u001b[38;5;241m=\u001b[39mkp_bank,\n\u001b[0;32m   (...)\u001b[0m\n\u001b[1;32m     33\u001b[0m     kappa\u001b[38;5;241m=\u001b[39mkappa\n\u001b[1;32m     34\u001b[0m )\n\u001b[1;32m     36\u001b[0m positions \u001b[38;5;241m=\u001b[39m []\n\u001b[0;32m---> 38\u001b[0m state \u001b[38;5;241m=\u001b[39m \u001b[38;5;28;01mawait\u001b[39;00m sim_step([\u001b[38;5;241m0\u001b[39m, \u001b[38;5;241m0\u001b[39m, \u001b[38;5;241m0\u001b[39m, \u001b[38;5;241m0\u001b[39m])\n\u001b[1;32m     40\u001b[0m \u001b[38;5;28;01mfor\u001b[39;00m _ \u001b[38;5;129;01min\u001b[39;00m \u001b[38;5;28mrange\u001b[39m(n_episodes):\n\u001b[1;32m     41\u001b[0m     traj_pt \u001b[38;5;241m=\u001b[39m trajectory\u001b[38;5;241m.\u001b[39mnext_trajectory_point(\n\u001b[1;32m     42\u001b[0m         (state[\u001b[38;5;124m'\u001b[39m\u001b[38;5;124mtime\u001b[39m\u001b[38;5;124m'\u001b[39m] \u001b[38;5;241m+\u001b[39m DT_MS \u001b[38;5;241m*\u001b[39m \u001b[38;5;241m1e3\u001b[39m) \u001b[38;5;241m/\u001b[39m \u001b[38;5;241m1e6\u001b[39m)\n",
      "Cell \u001b[0;32mIn[6], line 3\u001b[0m, in \u001b[0;36msim_step\u001b[0;34m(motors)\u001b[0m\n\u001b[1;32m      1\u001b[0m \u001b[38;5;28;01masync\u001b[39;00m \u001b[38;5;28;01mdef\u001b[39;00m \u001b[38;5;21msim_step\u001b[39m(motors):\n\u001b[0;32m----> 3\u001b[0m     (sim_time, _, drone_state) \u001b[38;5;241m=\u001b[39m \u001b[38;5;28;01mawait\u001b[39;00m asyncio\u001b[38;5;241m.\u001b[39mgather(\n\u001b[1;32m      4\u001b[0m             sim\u001b[38;5;241m.\u001b[39mstep(),\n\u001b[1;32m      5\u001b[0m             sim\u001b[38;5;241m.\u001b[39mrpc(\u001b[38;5;124mf\u001b[39m\u001b[38;5;124m\"\u001b[39m\u001b[38;5;124mobject_\u001b[39m\u001b[38;5;132;01m{\u001b[39;00mentity\u001b[38;5;132;01m}\u001b[39;00m\u001b[38;5;124m.actuator_control\u001b[39m\u001b[38;5;124m\"\u001b[39m, motors),\n\u001b[1;32m      6\u001b[0m             sim\u001b[38;5;241m.\u001b[39mrpc(\u001b[38;5;124m\"\u001b[39m\u001b[38;5;124mscript.eval\u001b[39m\u001b[38;5;124m\"\u001b[39m, {\n\u001b[1;32m      7\u001b[0m                 \u001b[38;5;124m\"\u001b[39m\u001b[38;5;124mcode\u001b[39m\u001b[38;5;124m\"\u001b[39m: \u001b[38;5;124m\"\"\"\u001b[39m\u001b[38;5;124m{\u001b[39m\n\u001b[1;32m      8\u001b[0m \u001b[38;5;124m                    position = sim.object.position(ARGS),\u001b[39m\n\u001b[1;32m      9\u001b[0m \u001b[38;5;124m                    attitude = sim.object.rotation_quat(ARGS),\u001b[39m\n\u001b[1;32m     10\u001b[0m \u001b[38;5;124m                    velocity = sim.object.linear_velocity(ARGS),\u001b[39m\n\u001b[1;32m     11\u001b[0m \u001b[38;5;124m                    omega = sim.object.angular_velocity(ARGS),\u001b[39m\n\u001b[1;32m     12\u001b[0m \u001b[38;5;124m                    acceleration = sim.object.acceleration(ARGS),\u001b[39m\n\u001b[1;32m     13\u001b[0m \u001b[38;5;124m                }\u001b[39m\u001b[38;5;124m\"\"\"\u001b[39m,\n\u001b[1;32m     14\u001b[0m                 \u001b[38;5;124m\"\u001b[39m\u001b[38;5;124margs\u001b[39m\u001b[38;5;124m\"\u001b[39m: entity,\n\u001b[1;32m     15\u001b[0m             }),\n\u001b[1;32m     16\u001b[0m         )\n\u001b[1;32m     18\u001b[0m     acceleration \u001b[38;5;241m=\u001b[39m np\u001b[38;5;241m.\u001b[39marray([drone_state[\u001b[38;5;124m'\u001b[39m\u001b[38;5;124macceleration\u001b[39m\u001b[38;5;124m'\u001b[39m][\u001b[38;5;124m'\u001b[39m\u001b[38;5;124my\u001b[39m\u001b[38;5;124m'\u001b[39m],\n\u001b[1;32m     19\u001b[0m                              drone_state[\u001b[38;5;124m'\u001b[39m\u001b[38;5;124macceleration\u001b[39m\u001b[38;5;124m'\u001b[39m][\u001b[38;5;124m'\u001b[39m\u001b[38;5;124mx\u001b[39m\u001b[38;5;124m'\u001b[39m],\n\u001b[1;32m     20\u001b[0m                              drone_state[\u001b[38;5;124m'\u001b[39m\u001b[38;5;124macceleration\u001b[39m\u001b[38;5;124m'\u001b[39m][\u001b[38;5;124m'\u001b[39m\u001b[38;5;124mz\u001b[39m\u001b[38;5;124m'\u001b[39m]], dtype\u001b[38;5;241m=\u001b[39mnp\u001b[38;5;241m.\u001b[39mfloat64)\n\u001b[1;32m     22\u001b[0m     position \u001b[38;5;241m=\u001b[39m np\u001b[38;5;241m.\u001b[39marray([drone_state[\u001b[38;5;124m'\u001b[39m\u001b[38;5;124mposition\u001b[39m\u001b[38;5;124m'\u001b[39m][\u001b[38;5;124m'\u001b[39m\u001b[38;5;124my\u001b[39m\u001b[38;5;124m'\u001b[39m],\n\u001b[1;32m     23\u001b[0m                         drone_state[\u001b[38;5;124m'\u001b[39m\u001b[38;5;124mposition\u001b[39m\u001b[38;5;124m'\u001b[39m][\u001b[38;5;124m'\u001b[39m\u001b[38;5;124mx\u001b[39m\u001b[38;5;124m'\u001b[39m],\n\u001b[1;32m     24\u001b[0m                         drone_state[\u001b[38;5;124m'\u001b[39m\u001b[38;5;124mposition\u001b[39m\u001b[38;5;124m'\u001b[39m][\u001b[38;5;124m'\u001b[39m\u001b[38;5;124mz\u001b[39m\u001b[38;5;124m'\u001b[39m]], dtype\u001b[38;5;241m=\u001b[39mnp\u001b[38;5;241m.\u001b[39mfloat64)\n",
      "File \u001b[0;32m~/anaconda3/envs/jax/lib/python3.11/asyncio/tasks.py:349\u001b[0m, in \u001b[0;36mTask.__wakeup\u001b[0;34m(self, future)\u001b[0m\n\u001b[1;32m    347\u001b[0m \u001b[38;5;28;01mdef\u001b[39;00m \u001b[38;5;21m__wakeup\u001b[39m(\u001b[38;5;28mself\u001b[39m, future):\n\u001b[1;32m    348\u001b[0m     \u001b[38;5;28;01mtry\u001b[39;00m:\n\u001b[0;32m--> 349\u001b[0m         future\u001b[38;5;241m.\u001b[39mresult()\n\u001b[1;32m    350\u001b[0m     \u001b[38;5;28;01mexcept\u001b[39;00m \u001b[38;5;167;01mBaseException\u001b[39;00m \u001b[38;5;28;01mas\u001b[39;00m exc:\n\u001b[1;32m    351\u001b[0m         \u001b[38;5;66;03m# This may also be a cancellation.\u001b[39;00m\n\u001b[1;32m    352\u001b[0m         \u001b[38;5;28mself\u001b[39m\u001b[38;5;241m.\u001b[39m__step(exc)\n",
      "File \u001b[0;32m~/anaconda3/envs/jax/lib/python3.11/asyncio/tasks.py:277\u001b[0m, in \u001b[0;36mTask.__step\u001b[0;34m(***failed resolving arguments***)\u001b[0m\n\u001b[1;32m    273\u001b[0m \u001b[38;5;28;01mtry\u001b[39;00m:\n\u001b[1;32m    274\u001b[0m     \u001b[38;5;28;01mif\u001b[39;00m exc \u001b[38;5;129;01mis\u001b[39;00m \u001b[38;5;28;01mNone\u001b[39;00m:\n\u001b[1;32m    275\u001b[0m         \u001b[38;5;66;03m# We use the `send` method directly, because coroutines\u001b[39;00m\n\u001b[1;32m    276\u001b[0m         \u001b[38;5;66;03m# don't have `__iter__` and `__next__` methods.\u001b[39;00m\n\u001b[0;32m--> 277\u001b[0m         result \u001b[38;5;241m=\u001b[39m coro\u001b[38;5;241m.\u001b[39msend(\u001b[38;5;28;01mNone\u001b[39;00m)\n\u001b[1;32m    278\u001b[0m     \u001b[38;5;28;01melse\u001b[39;00m:\n\u001b[1;32m    279\u001b[0m         result \u001b[38;5;241m=\u001b[39m coro\u001b[38;5;241m.\u001b[39mthrow(exc)\n",
      "File \u001b[0;32m~/code/robotics/intrepid-sim-recipes/intrepid_environment/simulator.py:27\u001b[0m, in \u001b[0;36mSimulator.rpc\u001b[0;34m(self, method, args)\u001b[0m\n\u001b[1;32m     26\u001b[0m \u001b[38;5;28;01masync\u001b[39;00m \u001b[38;5;28;01mdef\u001b[39;00m \u001b[38;5;21mrpc\u001b[39m(\u001b[38;5;28mself\u001b[39m, method, args\u001b[38;5;241m=\u001b[39m\u001b[38;5;28;01mNone\u001b[39;00m):\n\u001b[0;32m---> 27\u001b[0m     result \u001b[38;5;241m=\u001b[39m \u001b[38;5;28;01mawait\u001b[39;00m \u001b[38;5;28mself\u001b[39m\u001b[38;5;241m.\u001b[39mclient\u001b[38;5;241m.\u001b[39mrpc(method, args)\n\u001b[1;32m     28\u001b[0m     \u001b[38;5;28;01mreturn\u001b[39;00m result\u001b[38;5;241m.\u001b[39mdata\n",
      "File \u001b[0;32m~/anaconda3/envs/jax/lib/python3.11/site-packages/centrifuge/client.py:1076\u001b[0m, in \u001b[0;36mClient.rpc\u001b[0;34m(self, method, data, timeout)\u001b[0m\n\u001b[1;32m   1074\u001b[0m \u001b[38;5;28;01mawait\u001b[39;00m \u001b[38;5;28mself\u001b[39m\u001b[38;5;241m.\u001b[39m_send_commands([command])\n\u001b[1;32m   1075\u001b[0m reply \u001b[38;5;241m=\u001b[39m \u001b[38;5;28;01mawait\u001b[39;00m future\n\u001b[0;32m-> 1076\u001b[0m \u001b[38;5;28mself\u001b[39m\u001b[38;5;241m.\u001b[39m_check_reply_error(reply)\n\u001b[1;32m   1077\u001b[0m \u001b[38;5;28;01mreturn\u001b[39;00m RpcResult(\n\u001b[1;32m   1078\u001b[0m     data\u001b[38;5;241m=\u001b[39m\u001b[38;5;28mself\u001b[39m\u001b[38;5;241m.\u001b[39m_decode_data(reply[\u001b[38;5;124m\"\u001b[39m\u001b[38;5;124mrpc\u001b[39m\u001b[38;5;124m\"\u001b[39m]\u001b[38;5;241m.\u001b[39mget(\u001b[38;5;124m\"\u001b[39m\u001b[38;5;124mdata\u001b[39m\u001b[38;5;124m\"\u001b[39m)),\n\u001b[1;32m   1079\u001b[0m )\n",
      "File \u001b[0;32m~/anaconda3/envs/jax/lib/python3.11/site-packages/centrifuge/client.py:932\u001b[0m, in \u001b[0;36mClient._check_reply_error\u001b[0;34m(reply)\u001b[0m\n\u001b[1;32m    930\u001b[0m \u001b[38;5;28;01mif\u001b[39;00m reply\u001b[38;5;241m.\u001b[39mget(\u001b[38;5;124m\"\u001b[39m\u001b[38;5;124merror\u001b[39m\u001b[38;5;124m\"\u001b[39m):\n\u001b[1;32m    931\u001b[0m     error \u001b[38;5;241m=\u001b[39m reply[\u001b[38;5;124m\"\u001b[39m\u001b[38;5;124merror\u001b[39m\u001b[38;5;124m\"\u001b[39m]\n\u001b[0;32m--> 932\u001b[0m     \u001b[38;5;28;01mraise\u001b[39;00m ReplyError(error[\u001b[38;5;124m\"\u001b[39m\u001b[38;5;124mcode\u001b[39m\u001b[38;5;124m\"\u001b[39m], error[\u001b[38;5;124m\"\u001b[39m\u001b[38;5;124mmessage\u001b[39m\u001b[38;5;124m\"\u001b[39m], error\u001b[38;5;241m.\u001b[39mget(\u001b[38;5;124m\"\u001b[39m\u001b[38;5;124mtemporary\u001b[39m\u001b[38;5;124m\"\u001b[39m, \u001b[38;5;28;01mFalse\u001b[39;00m))\n",
      "\u001b[0;31mReplyError\u001b[0m: Error 100: entity 85v2 doesn't support actuator control (temporary: True)"
     ]
    }
   ],
   "source": [
    "(positions) = await tune_controller(\n",
    "    kp_pqr=np.array([95.0, 95.0, 6.0]),\n",
    "    ki_pos_z=55.0,\n",
    "    kp_pos_z=0.0,\n",
    "    kp_vel_z=0.00,\n",
    "    kp_pos_xy=0.0,\n",
    "    kp_vel_xy=0.0,\n",
    "    kp_yaw=0.0,\n",
    "    kp_bank=0.0\n",
    ")"
   ]
  },
  {
   "cell_type": "code",
   "execution_count": null,
   "id": "4f75825b",
   "metadata": {},
   "outputs": [],
   "source": []
  }
 ],
 "metadata": {
  "kernelspec": {
   "display_name": "jax",
   "language": "python",
   "name": "python3"
  },
  "language_info": {
   "codemirror_mode": {
    "name": "ipython",
    "version": 3
   },
   "file_extension": ".py",
   "mimetype": "text/x-python",
   "name": "python",
   "nbconvert_exporter": "python",
   "pygments_lexer": "ipython3",
   "version": "3.11.7"
  }
 },
 "nbformat": 4,
 "nbformat_minor": 5
}
