{
 "cells": [
  {
   "cell_type": "code",
   "execution_count": 41,
   "id": "151b1c34",
   "metadata": {},
   "outputs": [],
   "source": [
    "import numpy as np\n",
    "\n",
    "from intrepid_environment.drone_environment import DroneController"
   ]
  },
  {
   "cell_type": "code",
   "execution_count": 2,
   "id": "6357f1d7",
   "metadata": {},
   "outputs": [],
   "source": [
    "import nest_asyncio\n",
    "nest_asyncio.apply()"
   ]
  },
  {
   "cell_type": "code",
   "execution_count": null,
   "id": "683db215",
   "metadata": {},
   "outputs": [],
   "source": [
    "controller = DroneController()\n",
    "controller.restart()"
   ]
  },
  {
   "cell_type": "markdown",
   "id": "a4a88321",
   "metadata": {},
   "source": [
    "Read sensors:"
   ]
  },
  {
   "cell_type": "code",
   "execution_count": 40,
   "id": "3c2cae26",
   "metadata": {},
   "outputs": [],
   "source": [
    "# API Methods\n",
    "\n",
    "## Read Sensors\n",
    "\n",
    "# controller.acceleration()\n",
    "# controller.linear_velocity()\n",
    "# controller.angular_velocity()\n",
    "# controller.rotation_angles()\n",
    "\n",
    "## Control Motors\n",
    "\n",
    "# controller.control_motors(0.4, 0.7, 0.1, 0.33)"
   ]
  },
  {
   "cell_type": "markdown",
   "id": "b7061739",
   "metadata": {},
   "source": [
    "Control drone with a random signal"
   ]
  },
  {
   "cell_type": "code",
   "execution_count": 8,
   "id": "0e20d776",
   "metadata": {},
   "outputs": [
    {
     "name": "stdout",
     "output_type": "stream",
     "text": [
      "drone crashed\n"
     ]
    }
   ],
   "source": [
    "for _ in range(0, 5000):\n",
    "  thrust = np.random.uniform(0, 200, 4).tolist()\n",
    "  try:\n",
    "    controller.control_motors(*thrust)\n",
    "    await controller.session_step()\n",
    "  except Exception as e:\n",
    "    print(\"drone crashed\")\n",
    "    break"
   ]
  },
  {
   "cell_type": "markdown",
   "id": "7f47eef2",
   "metadata": {},
   "source": [
    "# Math Helpers"
   ]
  },
  {
   "cell_type": "code",
   "execution_count": null,
   "id": "d4ea879b",
   "metadata": {},
   "outputs": [],
   "source": [
    "def skew_symmetric(v):\n",
    "    \"\"\"Compute the skew-symmetric matrix of a 3D vector.\"\"\"\n",
    "    return np.array([\n",
    "        [0, -v[2], v[1]],\n",
    "        [v[2], 0, -v[0]],\n",
    "        [-v[1], v[0], 0]\n",
    "    ])\n",
    "\n",
    "def rotation_matrix_i_wrt_b(q):\n",
    "    \"\"\"\n",
    "    Compute the rotation matrix from body frame to inertial frame.\n",
    "    \n",
    "    Args:\n",
    "      q: A numpy auaternion in [w, x, y, z] order.\n",
    "\n",
    "    Returns:\n",
    "      A 3x3 numpy array representing the rotation matrix.\n",
    "    \"\"\"\n",
    "    w = q[0]\n",
    "    v = q[1:4]\n",
    "    Sk = skew_symmetric(v)\n",
    "    term1 = np.eye(3) * (w**2 - np.dot(v, v))\n",
    "    term2 = 2 * np.outer(v, v)\n",
    "    term3 = 2 * w * Sk\n",
    "\n",
    "    return term1 + term2 + term3\n",
    "\n",
    "def constrain(value, lower_bound, upper_bound):\n",
    "    return max(lower_bound, min(upper_bound, value))"
   ]
  },
  {
   "cell_type": "markdown",
   "id": "9af4a12e",
   "metadata": {},
   "source": [
    "## Body Rate Controller"
   ]
  },
  {
   "cell_type": "code",
   "execution_count": 38,
   "id": "aec441c8",
   "metadata": {},
   "outputs": [],
   "source": [
    "# Drone Parameters\n",
    "\n",
    "## Moment of Inertia\n",
    "\n",
    "Ixx = 1.0\n",
    "Iyy = 1.0\n",
    "Izz = 1.0\n",
    "\n",
    "mass = 1.0\n",
    "\n",
    "max_tilt_angle = 1.0\n",
    "max_ascent_rate = 1.0\n"
   ]
  },
  {
   "cell_type": "code",
   "execution_count": null,
   "id": "dac456db",
   "metadata": {},
   "outputs": [],
   "source": [
    "# control gain for body_rate_control\n",
    "kp_PRQ = 0.1\n",
    "\n",
    "def body_rate_control(pqr_cmd, pqr):\n",
    "    \"\"\"\n",
    "    Calculate a desired 3-axis moment given a desired and current body rate\n",
    "\n",
    "    Args:\n",
    "      pqr_cmd: desired body rates [rad/s]\n",
    "      pqr: current or estimated body rates [rad/s]\n",
    "    Returns:\n",
    "      A 3x1 numpy array containing the desired moments for each of the 3 axes.\n",
    "    \"\"\"\n",
    "\n",
    "    global Ixx, Iyy, Izz, kp_PRQ\n",
    "\n",
    "    I = np.array([Ixx, Iyy, Izz])\n",
    "    moment_cmd = I * kp_PRQ * (pqr_cmd - pqr)\n",
    "    return moment_cmd"
   ]
  },
  {
   "cell_type": "code",
   "execution_count": null,
   "id": "532c32ba",
   "metadata": {},
   "outputs": [],
   "source": [
    "kp_Bank = 1.0\n",
    "\n",
    "def roll_pitch_yaw_control(accel_cmd, attitude, coll_thrust_cmd):\n",
    "    \"\"\"\n",
    "    Calculate a desired pitch and roll angle rates based on a desired global\n",
    "\t    lateral acceleration, the current attitude of the quad, and desired\n",
    "\t    collective thrust command\n",
    "\n",
    "    Args:\n",
    "        accel_cmd: desired acceleration in global XY coordinates [m/s2]\n",
    "        attitude: current or estimated attitude of the vehicle\n",
    "        coll_thrust_cmd: desired collective thrust of the quad [N]\n",
    "    Returns:\n",
    "        A 3x1 numpy array containing the desired pitch and roll rates. The Z\n",
    "\t        element of the V3F should be left at its default value (0)\n",
    "    \"\"\"\n",
    "\n",
    "    global mass, kp_Bank\n",
    "\n",
    "    pqr_cmd = np.zeros(3)\n",
    "    R = rotation_matrix_i_wrt_b(attitude)\n",
    "    if coll_thrust_cmd == 0:\n",
    "      return pqr_cmd\n",
    "\n",
    "    coll_accel = -coll_thrust_cmd / mass\n",
    "\n",
    "    bx_cmd = constrain(accel_cmd[0] / coll_accel, -max_tilt_angle, max_tilt_angle)\n",
    "    bx_err = bx_cmd - R[0, 2]\n",
    "\n",
    "    by_cmd = constrain(accel_cmd[1] / coll_accel, -max_tilt_angle, max_tilt_angle)\n",
    "    by_err = by_cmd - R[1, 2]\n",
    "\n",
    "    bx_p_term = kp_Bank * bx_err\n",
    "    by_p_term = kp_Bank * by_err\n",
    "\n",
    "    R1 = np.array([\n",
    "       R[1, 0], -R[0, 0],\n",
    "       R[1, 1], -R[0, 1]\n",
    "    ]) / R[2, 2]\n",
    "\n",
    "    pqr_cmd[0] = R1[0, 0] * bx_p_term + R1[0, 1] * by_p_term\n",
    "    pqr_cmd[1] = R1[1, 0] * bx_p_term + R1[1, 1] * by_p_term\n",
    "\n",
    "    return pqr_cmd"
   ]
  },
  {
   "cell_type": "code",
   "execution_count": 39,
   "id": "bbbdd006",
   "metadata": {},
   "outputs": [],
   "source": [
    "integrated_altitude_error = 0.0\n",
    "\n",
    "kp_pos_z = 1.0\n",
    "kp_vel_z = 1.0\n",
    "ki_pos_z = 1.0\n",
    "\n",
    "def altitude_control(pos_z_cmd, vel_z_cmd, pos_z, vel_z, attitude, accel_z_cmd, dt):\n",
    "    \"\"\"\n",
    "\t  Calculate desired quad thrust based on altitude setpoint, actual altitude,\n",
    "\t    vertical velocity setpoint, actual vertical velocity, and a vertical \n",
    "\t    acceleration feed-forward command\n",
    "\n",
    "    Args:\n",
    "\t    pos_z_cmd, vel_z_cmd: desired vertical position and velocity in NED [m]\n",
    "\t    pos_z, vel_z: current vertical position and velocity in NED [m]\n",
    "\t    accel_z_cmd: feed-forward vertical acceleration in NED [m/s2]\n",
    "\t    dt: the time step of the measurements [seconds]\n",
    "    Returns:\n",
    "      A collective thrust command in [N]\n",
    "    \"\"\"\n",
    "\n",
    "    global integrated_altitude_error, kp_pos_z, kp_vel_z, ki_pos_z, max_ascent_rate\n",
    "\n",
    "    R = rotation_matrix_i_wrt_b(attitude)\n",
    "\n",
    "    pos_z_err = pos_z_cmd - pos_z\n",
    "    vel_z_err = vel_z_cmd - vel_z\n",
    "    integrated_altitude_error += pos_z_err * dt\n",
    "\n",
    "    b_z = R[2, 2]\n",
    "\n",
    "    p_term = kp_pos_z * pos_z_err\n",
    "    d_term = kp_vel_z * vel_z_err\n",
    "    i_term = ki_pos_z * integrated_altitude_error\n",
    "\n",
    "    u1_bar = p_term + i_term + d_term + accel_z_cmd\n",
    "\n",
    "    acc = (u1_bar - 9.81) / b_z\n",
    "    thrust = -mass * constrain(acc, -max_ascent_rate / dt. max_ascent_rate / dt)\n",
    "\n",
    "    return thrust"
   ]
  },
  {
   "cell_type": "code",
   "execution_count": null,
   "id": "b239748b",
   "metadata": {},
   "outputs": [],
   "source": [
    "kp_pos_xy = 1.0\n",
    "kp_vel_xy = 1.0\n",
    "\n",
    "def lateral_position_control(pos_cmd, vel_cmd, pos, vel, accel_cmd_ff):\n",
    "    \"\"\"\n",
    "\t  Calculate a desired horizontal acceleration based on \n",
    "\t   desired lateral position/velocity/acceleration and current pose\n",
    "\n",
    "    Args:\n",
    "\t    pos_cmd: desired position, in NED [m]\n",
    "\t    vel_cmd: desired velocity, in NED [m/s]\n",
    "\t    pos: current position, NED [m]\n",
    "\t    vel: current velocity, NED [m/s]\n",
    "\t    accel_cmd_ff: feed-forward acceleration, NED [m/s2]\n",
    "    Returns:\n",
    "      A 3x1 numpy array with desired horizontal accelerations. \n",
    "        the Z component should be 0\n",
    "    \"\"\"\n",
    "\n",
    "    global kp_pos_xy, kp_vel_xy\n",
    "\n",
    "    accel_cmd_ff[2] = 0\n",
    "    vel_cmd[2] = 0\n",
    "    pos_cmd[2] = pos[2]\n",
    "\n",
    "    accel_cmd = accel_cmd_ff\n",
    "\n",
    "    pos_err = pos_cmd - pos\n",
    "    vel_err = vel_cmd - vel\n",
    "\n",
    "    accel = kp_pos_xy * pos_err + kp_vel_xy * vel_err + accel_cmd_ff\n",
    "    accel_cmd[0] = accel[0]\n",
    "    accel_cmd[1] = accel[1]\n",
    "\n",
    "\n",
    "    return accel_cmd"
   ]
  },
  {
   "cell_type": "code",
   "execution_count": null,
   "id": "98e30715",
   "metadata": {},
   "outputs": [],
   "source": [
    "kp_yaw = 1.0\n",
    "\n",
    "def yaw_control(yaw_cmd, yaw):\n",
    "    \"\"\"\n",
    "\t  Calculate a desired yaw rate to control yaw to yawCmd\n",
    "\n",
    "    Args:\n",
    "\t    yaw_cmd: commanded yaw [rad]\n",
    "\t    yaw: current yaw [rad]\n",
    "    Returns:\n",
    "      a desired yaw rate [rad/s]\n",
    "    \"\"\"\n",
    "\n",
    "    yaw_rate_cmd = kp_yaw * (yaw_cmd - yaw)\n",
    "\n",
    "    return yaw_rate_cmd"
   ]
  },
  {
   "cell_type": "markdown",
   "id": "1d679d10",
   "metadata": {},
   "source": [
    "# Test Controllers"
   ]
  },
  {
   "cell_type": "code",
   "execution_count": 43,
   "id": "af6b53fc",
   "metadata": {},
   "outputs": [],
   "source": [
    "# TODO"
   ]
  },
  {
   "cell_type": "code",
   "execution_count": null,
   "id": "7d331267",
   "metadata": {},
   "outputs": [],
   "source": []
  }
 ],
 "metadata": {
  "kernelspec": {
   "display_name": "jax",
   "language": "python",
   "name": "python3"
  },
  "language_info": {
   "codemirror_mode": {
    "name": "ipython",
    "version": 3
   },
   "file_extension": ".py",
   "mimetype": "text/x-python",
   "name": "python",
   "nbconvert_exporter": "python",
   "pygments_lexer": "ipython3",
   "version": "3.11.7"
  }
 },
 "nbformat": 4,
 "nbformat_minor": 5
}
