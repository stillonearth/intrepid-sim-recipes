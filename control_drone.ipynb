{
 "cells": [
  {
   "cell_type": "code",
   "execution_count": 1,
   "id": "151b1c34",
   "metadata": {},
   "outputs": [],
   "source": [
    "import numpy as np\n",
    "import quaternion\n",
    "\n",
    "from intrepid_environment.quadcopter_environment import QuadcopterController"
   ]
  },
  {
   "cell_type": "code",
   "execution_count": 2,
   "id": "6357f1d7",
   "metadata": {},
   "outputs": [],
   "source": [
    "import nest_asyncio\n",
    "nest_asyncio.apply()"
   ]
  },
  {
   "cell_type": "code",
   "execution_count": 3,
   "id": "a5bc6fb1",
   "metadata": {},
   "outputs": [],
   "source": [
    "# initialize RPC Drone Controller\n",
    "DT_MS = 10\n",
    "\n",
    "quadcopter_rpc_controller = QuadcopterController(DT_MS)"
   ]
  },
  {
   "cell_type": "markdown",
   "id": "6a5b739b",
   "metadata": {},
   "source": [
    "Setup trajectory for drone to follow."
   ]
  },
  {
   "cell_type": "code",
   "execution_count": 4,
   "id": "964e93a4",
   "metadata": {},
   "outputs": [],
   "source": [
    "from quadcopter_control.trajectory import Trajectory, TrajectoryPoint"
   ]
  },
  {
   "cell_type": "code",
   "execution_count": 5,
   "id": "67cc357e",
   "metadata": {},
   "outputs": [],
   "source": [
    "async def get_trajectory_with_initial_position():\n",
    "    sim_time = await quadcopter_rpc_controller.simulation_time()\n",
    "    initial_orientation = quadcopter_rpc_controller.rotation_angles()\n",
    "    initial_attitude = quaternion.from_euler_angles(*initial_orientation)\n",
    "    initial_omega = quadcopter_rpc_controller.angular_velocity()\n",
    "    initial_position = quadcopter_rpc_controller.position()\n",
    "    initial_linear_velocity = quadcopter_rpc_controller.linear_velocity()\n",
    "    initial_acceleration = quadcopter_rpc_controller.acceleration()\n",
    "\n",
    "    starting_point = TrajectoryPoint(\n",
    "        time=sim_time,\n",
    "        position=initial_position,\n",
    "        velocity=initial_linear_velocity,\n",
    "        accel=initial_acceleration,\n",
    "        attitude=initial_attitude,\n",
    "        omega=initial_omega,\n",
    "    )\n",
    "\n",
    "    trajectory = Trajectory()\n",
    "    trajectory.add_point(starting_point)\n",
    "\n",
    "    return trajectory"
   ]
  },
  {
   "cell_type": "code",
   "execution_count": 6,
   "id": "312968e9",
   "metadata": {},
   "outputs": [],
   "source": [
    "def get_next_trajectory_point(trajectory, sim_time, dt, dp):\n",
    "    pt = trajectory.next_trajectory_point((sim_time + dt) / 1000.0)\n",
    "    pt.position += dp\n",
    "    return pt"
   ]
  },
  {
   "cell_type": "code",
   "execution_count": 7,
   "id": "c7ef8802",
   "metadata": {},
   "outputs": [],
   "source": [
    "trajectory_time_offset = 0\n",
    "dp = np.zeros(3)"
   ]
  },
  {
   "cell_type": "code",
   "execution_count": 8,
   "id": "5ebd4b96",
   "metadata": {},
   "outputs": [],
   "source": [
    "from quadcopter_control.controller import QuadcopterController, calculate_drone_moment_of_inertia"
   ]
  },
  {
   "cell_type": "code",
   "execution_count": 9,
   "id": "fac945f7",
   "metadata": {},
   "outputs": [],
   "source": [
    "DRONE_HEIGHT = 0.028\n",
    "DRONE_RADIUS = 0.05\n",
    "DRONE_MASS = 0.041"
   ]
  },
  {
   "cell_type": "code",
   "execution_count": 10,
   "id": "e8bb6a02",
   "metadata": {},
   "outputs": [
    {
     "data": {
      "text/plain": [
       "(2.830366666666667e-05, 2.830366666666667e-05, 5.125000000000001e-05)"
      ]
     },
     "execution_count": 10,
     "metadata": {},
     "output_type": "execute_result"
    }
   ],
   "source": [
    "(Ixx, Iyy, Izz) = calculate_drone_moment_of_inertia(DRONE_HEIGHT, DRONE_RADIUS, DRONE_MASS)\n",
    "(Ixx, Iyy, Izz)"
   ]
  },
  {
   "cell_type": "markdown",
   "id": "fe3135cd",
   "metadata": {},
   "source": [
    "## Scenario 0: Zero Gains\n",
    "\n",
    "Test whether controller runs without controller gains set."
   ]
  },
  {
   "cell_type": "code",
   "execution_count": 11,
   "id": "0816a8eb",
   "metadata": {},
   "outputs": [],
   "source": [
    "trajectory = await get_trajectory_with_initial_position()"
   ]
  },
  {
   "cell_type": "code",
   "execution_count": 12,
   "id": "d0e36ca8",
   "metadata": {},
   "outputs": [],
   "source": [
    "quadcopter_controller = QuadcopterController(\n",
    "    DT_MS / 1000.0,\n",
    "    DRONE_MASS,\n",
    "    Ixx, Iyy, Izz,\n",
    "    max_tilt_angle=0.52,\n",
    "    max_ascent_rate=4.0\n",
    ")"
   ]
  },
  {
   "cell_type": "code",
   "execution_count": 13,
   "id": "11449622",
   "metadata": {},
   "outputs": [],
   "source": [
    "trajectory = await get_trajectory_with_initial_position()\n",
    "\n",
    "async def control_step():\n",
    "    sim_time = await quadcopter_rpc_controller.simulation_time()\n",
    "    motor_commands = quadcopter_controller.run_control(\n",
    "        traj_pt=trajectory.next_trajectory_point((sim_time+DT_MS)/1000.0),\n",
    "        est_pos=quadcopter_rpc_controller.position(),\n",
    "        est_vel=quadcopter_rpc_controller.linear_velocity(),\n",
    "        est_omega=quadcopter_rpc_controller.angular_velocity(),\n",
    "        est_att=quaternion.from_euler_angles(\n",
    "            *quadcopter_rpc_controller.rotation_angles()\n",
    "        ),\n",
    "    )\n",
    "    # scale motor commands\n",
    "    motor_commands *= 170\n",
    "    quadcopter_rpc_controller.control_motors(*motor_commands)\n",
    "    quadcopter_rpc_controller.step()"
   ]
  },
  {
   "cell_type": "code",
   "execution_count": 14,
   "id": "598e09b0",
   "metadata": {},
   "outputs": [],
   "source": [
    "# await control_step()"
   ]
  },
  {
   "cell_type": "markdown",
   "id": "ccb7f9f7",
   "metadata": {},
   "source": [
    "## Scenario 1: Altitude Control\n",
    "\n",
    "Tune gains until drone stays in place. on a desired height."
   ]
  },
  {
   "cell_type": "code",
   "execution_count": 15,
   "id": "99a15775",
   "metadata": {},
   "outputs": [],
   "source": [
    "trajectory = await get_trajectory_with_initial_position()"
   ]
  },
  {
   "cell_type": "code",
   "execution_count": 16,
   "id": "20110900",
   "metadata": {},
   "outputs": [],
   "source": [
    "# add 500 datapoints so drone stays in place\n",
    "sim_time = await quadcopter_rpc_controller.simulation_time()\n",
    "\n",
    "n_episodes = 1000\n",
    "\n",
    "for i in range(0, n_episodes):\n",
    "    trajectory.add_point(TrajectoryPoint(\n",
    "        time=(sim_time + (i*DT_MS) / 1000.0),\n",
    "        position=np.array([0.0, 0.0, 5.0]),\n",
    "        velocity=np.zeros(3),\n",
    "        accel=np.zeros(3),\n",
    "        attitude=np.quaternion(1.0, 0.0, 0.0, 0.0),\n",
    "        omega=np.array([0.0, 0.0, 0.0])\n",
    "    ))"
   ]
  },
  {
   "cell_type": "markdown",
   "id": "cb99fa5a",
   "metadata": {},
   "source": [
    "Set controller gains. Test only integrated error of altitude controller."
   ]
  },
  {
   "cell_type": "code",
   "execution_count": 17,
   "id": "c9378f03",
   "metadata": {},
   "outputs": [],
   "source": [
    "async def control_step(dt):\n",
    "    sim_time = await quadcopter_rpc_controller.simulation_time()\n",
    "    traj_pt = trajectory.next_trajectory_point(sim_time / 1000000.0 + dt)\n",
    "\n",
    "    (t_pos, t_vel, t_acc) = traj_pt.position, traj_pt.velocity, traj_pt.accel\n",
    "\n",
    "    est_pos = quadcopter_rpc_controller.position()\n",
    "    est_vel = quadcopter_rpc_controller.linear_velocity()\n",
    "    est_att = quaternion.from_euler_angles(\n",
    "        *quadcopter_rpc_controller.rotation_angles()\n",
    "    )\n",
    "\n",
    "    thrust_cmd = quadcopter_controller.altitude_control(\n",
    "        t_pos[2],\n",
    "        t_vel[2],\n",
    "        est_pos[2],\n",
    "        est_vel[2],\n",
    "        est_att,\n",
    "        t_acc[2],\n",
    "        dt\n",
    "    )\n",
    "\n",
    "    max_motor_thrust = 0.7\n",
    "    min_motor_thrust = 0.3\n",
    "\n",
    "    thrust_margin = 0.1 * (max_motor_thrust - min_motor_thrust)\n",
    "    clipped_thrust = np.clip(thrust_cmd, min_motor_thrust, max_motor_thrust)\n",
    "\n",
    "    motor_commands = quadcopter_controller.generate_motor_commands(clipped_thrust, np.zeros(3))\n",
    "    motor_commands *= 120.0\n",
    "\n",
    "    quadcopter_rpc_controller.control_motors(*motor_commands)\n",
    "    quadcopter_rpc_controller.step()\n",
    "\n",
    "    return thrust_cmd, clipped_thrust, motor_commands"
   ]
  },
  {
   "cell_type": "code",
   "execution_count": 18,
   "id": "2bf6e759",
   "metadata": {},
   "outputs": [],
   "source": [
    "async def tune_altitude_control(\n",
    "        kp_pqr=np.array([95.0, 95.0, 6.0]), \n",
    "        ki_pos_z=8.0, \n",
    "        kp_pos_z=5.0,\n",
    "        kp_vel_z=2.0,\n",
    "        kappa=2.0,):\n",
    "    quadcopter_rpc_controller.restart()\n",
    "    quadcopter_controller.set_gains(kp_pqr, ki_pos_z, kp_pos_z,kp_vel_z, kappa)\n",
    "    prev_sim_time = await quadcopter_rpc_controller.simulation_time()\n",
    "\n",
    "    altitudes = []\n",
    "    thrusts = []\n",
    "    mean_motor_commands = []\n",
    "\n",
    "    for _ in range(5000):\n",
    "        est_pos = quadcopter_rpc_controller.position()\n",
    "        altitudes.append(est_pos[2])\n",
    "        sim_time = await quadcopter_rpc_controller.simulation_time()\n",
    "        dt = (sim_time - prev_sim_time) / 1000000.0\n",
    "        prev_sim_time = sim_time\n",
    "        (thrust_cmd, clipped_thrust, motor_commands) = await control_step(dt)\n",
    "        thrusts.append(clipped_thrust)\n",
    "        mean_motor_commands.append(np.mean(motor_commands))\n",
    "\n",
    "    return altitudes, thrusts, mean_motor_commands"
   ]
  },
  {
   "cell_type": "code",
   "execution_count": 19,
   "id": "ff08a9d0",
   "metadata": {},
   "outputs": [],
   "source": [
    "import matplotlib.pyplot as plt"
   ]
  },
  {
   "cell_type": "code",
   "execution_count": 20,
   "id": "c89d3ca5",
   "metadata": {},
   "outputs": [
    {
     "ename": "ClientDisconnectedError",
     "evalue": "command 6637 canceled due to disconnect",
     "output_type": "error",
     "traceback": [
      "\u001b[0;31m---------------------------------------------------------------------------\u001b[0m",
      "\u001b[0;31mClientDisconnectedError\u001b[0m                   Traceback (most recent call last)",
      "Cell \u001b[0;32mIn[20], line 1\u001b[0m\n\u001b[0;32m----> 1\u001b[0m (altitudes, thrusts, mean_motor_commands) \u001b[38;5;241m=\u001b[39m \u001b[38;5;28;01mawait\u001b[39;00m tune_altitude_control(ki_pos_z\u001b[38;5;241m=\u001b[39m\u001b[38;5;241m5\u001b[39m, kp_pos_z\u001b[38;5;241m=\u001b[39m\u001b[38;5;241m0\u001b[39m, kp_vel_z\u001b[38;5;241m=\u001b[39m\u001b[38;5;241m0\u001b[39m)\n\u001b[1;32m      3\u001b[0m quadcopter_rpc_controller\u001b[38;5;241m.\u001b[39mcontrol_motors(\u001b[38;5;241m0\u001b[39m, \u001b[38;5;241m0\u001b[39m, \u001b[38;5;241m0\u001b[39m, \u001b[38;5;241m0\u001b[39m)\n\u001b[1;32m      5\u001b[0m plt\u001b[38;5;241m.\u001b[39mplot(altitudes)\n",
      "Cell \u001b[0;32mIn[18], line 21\u001b[0m, in \u001b[0;36mtune_altitude_control\u001b[0;34m(kp_pqr, ki_pos_z, kp_pos_z, kp_vel_z, kappa)\u001b[0m\n\u001b[1;32m     19\u001b[0m dt \u001b[38;5;241m=\u001b[39m (sim_time \u001b[38;5;241m-\u001b[39m prev_sim_time) \u001b[38;5;241m/\u001b[39m \u001b[38;5;241m1000000.0\u001b[39m\n\u001b[1;32m     20\u001b[0m prev_sim_time \u001b[38;5;241m=\u001b[39m sim_time\n\u001b[0;32m---> 21\u001b[0m (thrust_cmd, clipped_thrust, motor_commands) \u001b[38;5;241m=\u001b[39m \u001b[38;5;28;01mawait\u001b[39;00m control_step(dt)\n\u001b[1;32m     22\u001b[0m thrusts\u001b[38;5;241m.\u001b[39mappend(clipped_thrust)\n\u001b[1;32m     23\u001b[0m mean_motor_commands\u001b[38;5;241m.\u001b[39mappend(np\u001b[38;5;241m.\u001b[39mmean(motor_commands))\n",
      "Cell \u001b[0;32mIn[17], line 2\u001b[0m, in \u001b[0;36mcontrol_step\u001b[0;34m(dt)\u001b[0m\n\u001b[1;32m      1\u001b[0m \u001b[38;5;28;01masync\u001b[39;00m \u001b[38;5;28;01mdef\u001b[39;00m \u001b[38;5;21mcontrol_step\u001b[39m(dt):\n\u001b[0;32m----> 2\u001b[0m     sim_time \u001b[38;5;241m=\u001b[39m \u001b[38;5;28;01mawait\u001b[39;00m quadcopter_rpc_controller\u001b[38;5;241m.\u001b[39msimulation_time()\n\u001b[1;32m      3\u001b[0m     traj_pt \u001b[38;5;241m=\u001b[39m trajectory\u001b[38;5;241m.\u001b[39mnext_trajectory_point(sim_time \u001b[38;5;241m/\u001b[39m \u001b[38;5;241m1000000.0\u001b[39m \u001b[38;5;241m+\u001b[39m dt)\n\u001b[1;32m      5\u001b[0m     (t_pos, t_vel, t_acc) \u001b[38;5;241m=\u001b[39m traj_pt\u001b[38;5;241m.\u001b[39mposition, traj_pt\u001b[38;5;241m.\u001b[39mvelocity, traj_pt\u001b[38;5;241m.\u001b[39maccel\n",
      "File \u001b[0;32m~/code/robotics/intrepid-sim-recipes/intrepid_environment/base.py:80\u001b[0m, in \u001b[0;36mWorldControllerBase.simulation_time\u001b[0;34m(self)\u001b[0m\n\u001b[1;32m     79\u001b[0m \u001b[38;5;28;01masync\u001b[39;00m \u001b[38;5;28;01mdef\u001b[39;00m \u001b[38;5;21msimulation_time\u001b[39m(\u001b[38;5;28mself\u001b[39m):\n\u001b[0;32m---> 80\u001b[0m     state \u001b[38;5;241m=\u001b[39m \u001b[38;5;28;01mawait\u001b[39;00m \u001b[38;5;28mself\u001b[39m\u001b[38;5;241m.\u001b[39mrpc(\u001b[38;5;124m\"\u001b[39m\u001b[38;5;124msession.state\u001b[39m\u001b[38;5;124m\"\u001b[39m, \u001b[38;5;28;01mNone\u001b[39;00m)\n\u001b[1;32m     81\u001b[0m     \u001b[38;5;28;01mreturn\u001b[39;00m state[\u001b[38;5;124m'\u001b[39m\u001b[38;5;124mtime_us\u001b[39m\u001b[38;5;124m'\u001b[39m]\n",
      "File \u001b[0;32m~/code/robotics/intrepid-sim-recipes/intrepid_environment/base.py:50\u001b[0m, in \u001b[0;36mWorldControllerBase.rpc\u001b[0;34m(self, method, args)\u001b[0m\n\u001b[1;32m     49\u001b[0m \u001b[38;5;28;01masync\u001b[39;00m \u001b[38;5;28;01mdef\u001b[39;00m \u001b[38;5;21mrpc\u001b[39m(\u001b[38;5;28mself\u001b[39m, method, args):\n\u001b[0;32m---> 50\u001b[0m     result \u001b[38;5;241m=\u001b[39m \u001b[38;5;28;01mawait\u001b[39;00m \u001b[38;5;28mself\u001b[39m\u001b[38;5;241m.\u001b[39mclient\u001b[38;5;241m.\u001b[39mrpc(method, args)\n\u001b[1;32m     51\u001b[0m     \u001b[38;5;28;01mreturn\u001b[39;00m result\u001b[38;5;241m.\u001b[39mdata\n",
      "File \u001b[0;32m~/anaconda3/envs/jax/lib/python3.11/site-packages/centrifuge/client.py:1075\u001b[0m, in \u001b[0;36mClient.rpc\u001b[0;34m(self, method, data, timeout)\u001b[0m\n\u001b[1;32m   1073\u001b[0m future \u001b[38;5;241m=\u001b[39m \u001b[38;5;28mself\u001b[39m\u001b[38;5;241m.\u001b[39m_register_future(cmd_id, timeout \u001b[38;5;129;01mor\u001b[39;00m \u001b[38;5;28mself\u001b[39m\u001b[38;5;241m.\u001b[39m_timeout)\n\u001b[1;32m   1074\u001b[0m \u001b[38;5;28;01mawait\u001b[39;00m \u001b[38;5;28mself\u001b[39m\u001b[38;5;241m.\u001b[39m_send_commands([command])\n\u001b[0;32m-> 1075\u001b[0m reply \u001b[38;5;241m=\u001b[39m \u001b[38;5;28;01mawait\u001b[39;00m future\n\u001b[1;32m   1076\u001b[0m \u001b[38;5;28mself\u001b[39m\u001b[38;5;241m.\u001b[39m_check_reply_error(reply)\n\u001b[1;32m   1077\u001b[0m \u001b[38;5;28;01mreturn\u001b[39;00m RpcResult(\n\u001b[1;32m   1078\u001b[0m     data\u001b[38;5;241m=\u001b[39m\u001b[38;5;28mself\u001b[39m\u001b[38;5;241m.\u001b[39m_decode_data(reply[\u001b[38;5;124m\"\u001b[39m\u001b[38;5;124mrpc\u001b[39m\u001b[38;5;124m\"\u001b[39m]\u001b[38;5;241m.\u001b[39mget(\u001b[38;5;124m\"\u001b[39m\u001b[38;5;124mdata\u001b[39m\u001b[38;5;124m\"\u001b[39m)),\n\u001b[1;32m   1079\u001b[0m )\n",
      "File \u001b[0;32m~/anaconda3/envs/jax/lib/python3.11/asyncio/futures.py:287\u001b[0m, in \u001b[0;36mFuture.__await__\u001b[0;34m(self)\u001b[0m\n\u001b[1;32m    285\u001b[0m \u001b[38;5;28;01mif\u001b[39;00m \u001b[38;5;129;01mnot\u001b[39;00m \u001b[38;5;28mself\u001b[39m\u001b[38;5;241m.\u001b[39mdone():\n\u001b[1;32m    286\u001b[0m     \u001b[38;5;28mself\u001b[39m\u001b[38;5;241m.\u001b[39m_asyncio_future_blocking \u001b[38;5;241m=\u001b[39m \u001b[38;5;28;01mTrue\u001b[39;00m\n\u001b[0;32m--> 287\u001b[0m     \u001b[38;5;28;01myield\u001b[39;00m \u001b[38;5;28mself\u001b[39m  \u001b[38;5;66;03m# This tells Task to wait for completion.\u001b[39;00m\n\u001b[1;32m    288\u001b[0m \u001b[38;5;28;01mif\u001b[39;00m \u001b[38;5;129;01mnot\u001b[39;00m \u001b[38;5;28mself\u001b[39m\u001b[38;5;241m.\u001b[39mdone():\n\u001b[1;32m    289\u001b[0m     \u001b[38;5;28;01mraise\u001b[39;00m \u001b[38;5;167;01mRuntimeError\u001b[39;00m(\u001b[38;5;124m\"\u001b[39m\u001b[38;5;124mawait wasn\u001b[39m\u001b[38;5;124m'\u001b[39m\u001b[38;5;124mt used with future\u001b[39m\u001b[38;5;124m\"\u001b[39m)\n",
      "File \u001b[0;32m~/anaconda3/envs/jax/lib/python3.11/asyncio/tasks.py:349\u001b[0m, in \u001b[0;36mTask.__wakeup\u001b[0;34m(self, future)\u001b[0m\n\u001b[1;32m    347\u001b[0m \u001b[38;5;28;01mdef\u001b[39;00m \u001b[38;5;21m__wakeup\u001b[39m(\u001b[38;5;28mself\u001b[39m, future):\n\u001b[1;32m    348\u001b[0m     \u001b[38;5;28;01mtry\u001b[39;00m:\n\u001b[0;32m--> 349\u001b[0m         future\u001b[38;5;241m.\u001b[39mresult()\n\u001b[1;32m    350\u001b[0m     \u001b[38;5;28;01mexcept\u001b[39;00m \u001b[38;5;167;01mBaseException\u001b[39;00m \u001b[38;5;28;01mas\u001b[39;00m exc:\n\u001b[1;32m    351\u001b[0m         \u001b[38;5;66;03m# This may also be a cancellation.\u001b[39;00m\n\u001b[1;32m    352\u001b[0m         \u001b[38;5;28mself\u001b[39m\u001b[38;5;241m.\u001b[39m__step(exc)\n",
      "File \u001b[0;32m~/anaconda3/envs/jax/lib/python3.11/asyncio/futures.py:203\u001b[0m, in \u001b[0;36mFuture.result\u001b[0;34m(self)\u001b[0m\n\u001b[1;32m    201\u001b[0m \u001b[38;5;28mself\u001b[39m\u001b[38;5;241m.\u001b[39m__log_traceback \u001b[38;5;241m=\u001b[39m \u001b[38;5;28;01mFalse\u001b[39;00m\n\u001b[1;32m    202\u001b[0m \u001b[38;5;28;01mif\u001b[39;00m \u001b[38;5;28mself\u001b[39m\u001b[38;5;241m.\u001b[39m_exception \u001b[38;5;129;01mis\u001b[39;00m \u001b[38;5;129;01mnot\u001b[39;00m \u001b[38;5;28;01mNone\u001b[39;00m:\n\u001b[0;32m--> 203\u001b[0m     \u001b[38;5;28;01mraise\u001b[39;00m \u001b[38;5;28mself\u001b[39m\u001b[38;5;241m.\u001b[39m_exception\u001b[38;5;241m.\u001b[39mwith_traceback(\u001b[38;5;28mself\u001b[39m\u001b[38;5;241m.\u001b[39m_exception_tb)\n\u001b[1;32m    204\u001b[0m \u001b[38;5;28;01mreturn\u001b[39;00m \u001b[38;5;28mself\u001b[39m\u001b[38;5;241m.\u001b[39m_result\n",
      "\u001b[0;31mClientDisconnectedError\u001b[0m: command 6637 canceled due to disconnect"
     ]
    }
   ],
   "source": [
    "(altitudes, thrusts, mean_motor_commands) = await tune_altitude_control(ki_pos_z=5, kp_pos_z=0, kp_vel_z=0)\n",
    "\n",
    "quadcopter_rpc_controller.control_motors(0, 0, 0, 0)\n",
    "\n",
    "plt.plot(altitudes)\n",
    "plt.show()\n",
    "\n",
    "plt.plot(thrusts)\n",
    "plt.show()\n",
    "\n",
    "plt.plot(mean_motor_commands)\n",
    "plt.show()"
   ]
  },
  {
   "cell_type": "code",
   "execution_count": null,
   "id": "26c83f09",
   "metadata": {},
   "outputs": [],
   "source": []
  }
 ],
 "metadata": {
  "kernelspec": {
   "display_name": "jax",
   "language": "python",
   "name": "python3"
  },
  "language_info": {
   "codemirror_mode": {
    "name": "ipython",
    "version": 3
   },
   "file_extension": ".py",
   "mimetype": "text/x-python",
   "name": "python",
   "nbconvert_exporter": "python",
   "pygments_lexer": "ipython3",
   "version": "3.11.7"
  }
 },
 "nbformat": 4,
 "nbformat_minor": 5
}
