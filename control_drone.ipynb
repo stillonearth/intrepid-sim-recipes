{
 "cells": [
  {
   "cell_type": "code",
   "execution_count": 1,
   "id": "151b1c34",
   "metadata": {},
   "outputs": [],
   "source": [
    "import asyncio\n",
    "import numpy as np\n",
    "import quaternion\n",
    "\n",
    "import time\n",
    "\n",
    "from intrepid_environment.simulator import Simulator"
   ]
  },
  {
   "cell_type": "code",
   "execution_count": 2,
   "id": "71ed3962",
   "metadata": {},
   "outputs": [],
   "source": [
    "import matplotlib.pyplot as plt"
   ]
  },
  {
   "cell_type": "code",
   "execution_count": 3,
   "id": "5198c3dd",
   "metadata": {},
   "outputs": [],
   "source": [
    "import nest_asyncio\n",
    "nest_asyncio.apply()"
   ]
  },
  {
   "cell_type": "code",
   "execution_count": 4,
   "id": "1bcf8f83",
   "metadata": {},
   "outputs": [
    {
     "data": {
      "text/plain": [
       "0"
      ]
     },
     "execution_count": 4,
     "metadata": {},
     "output_type": "execute_result"
    }
   ],
   "source": [
    "sim = Simulator()\n",
    "await sim.connect()"
   ]
  },
  {
   "cell_type": "code",
   "execution_count": 5,
   "id": "60f4b4d4",
   "metadata": {},
   "outputs": [],
   "source": [
    "async def restart_drone():\n",
    "    await sim.rpc(\"session.restart\")\n",
    "    entity = await sim.rpc(\"map.spawn_uav\", {\n",
    "        \"robot_id\": 0,\n",
    "        \"position\": {\n",
    "            \"x\": 0,\n",
    "            \"y\": 0,\n",
    "            \"z\": 0,\n",
    "        },\n",
    "    })\n",
    "    time.sleep(1.0)\n",
    "    await sim.rpc(\"session.run\")\n",
    "    return entity"
   ]
  },
  {
   "cell_type": "code",
   "execution_count": 6,
   "id": "800d687e",
   "metadata": {},
   "outputs": [],
   "source": [
    "entity = await restart_drone()"
   ]
  },
  {
   "cell_type": "markdown",
   "id": "6a5b739b",
   "metadata": {},
   "source": [
    "Setup trajectory for drone to follow."
   ]
  },
  {
   "cell_type": "code",
   "execution_count": 7,
   "id": "964e93a4",
   "metadata": {},
   "outputs": [],
   "source": [
    "from quadcopter_control.trajectory import Trajectory, TrajectoryPoint"
   ]
  },
  {
   "cell_type": "code",
   "execution_count": 8,
   "id": "61328f80",
   "metadata": {},
   "outputs": [],
   "source": [
    "async def sim_step(motors):\n",
    "    (sim_time, _, drone_state) = await asyncio.gather(\n",
    "            sim.step(),\n",
    "            sim.rpc(f\"object_{entity}.actuator_control\", motors),\n",
    "            sim.rpc(\"script.eval\", {\n",
    "                \"code\": \"\"\"{\n",
    "                    position = sim.object.position(ARGS),\n",
    "                    attitude = sim.object.rotation_quat(ARGS),\n",
    "                    velocity = sim.object.linear_velocity(ARGS),\n",
    "                    omega = sim.object.angular_velocity(ARGS),\n",
    "                    acceleration = sim.object.acceleration(ARGS),\n",
    "                }\"\"\",\n",
    "                \"args\": entity,\n",
    "            }),\n",
    "        )\n",
    "\n",
    "    acceleration = np.array([drone_state['acceleration']['y'],\n",
    "                             drone_state['acceleration']['x'],\n",
    "                             drone_state['acceleration']['z']], dtype=np.float64)\n",
    "\n",
    "    position = np.array([drone_state['position']['y'],\n",
    "                        drone_state['position']['x'],\n",
    "                        drone_state['position']['z']], dtype=np.float64)\n",
    "\n",
    "    velocity = np.array([drone_state['velocity']['y'],\n",
    "                        drone_state['velocity']['x'],\n",
    "                        drone_state['velocity']['z']], dtype=np.float64)\n",
    "\n",
    "    attitude = np.quaternion(drone_state['attitude'][3],\n",
    "                             drone_state['attitude'][0],\n",
    "                             drone_state['attitude'][1],\n",
    "                             drone_state['attitude'][2])\n",
    "\n",
    "    omega = np.array([drone_state['omega']['xy'],\n",
    "                     drone_state['omega']['zx'],\n",
    "                     drone_state['omega']['yz']], dtype=np.float64)\n",
    "\n",
    "    return {\n",
    "        'time': sim_time,\n",
    "        'acceleration': acceleration,\n",
    "        'position': position,\n",
    "        'velocity': velocity,\n",
    "        'attitude': attitude,\n",
    "        'omega': omega\n",
    "    }"
   ]
  },
  {
   "cell_type": "code",
   "execution_count": 9,
   "id": "67cc357e",
   "metadata": {},
   "outputs": [],
   "source": [
    "async def get_trajectory_with_initial_position():\n",
    "    state = await sim_step([0, 0, 0, 0])\n",
    "\n",
    "    starting_point = TrajectoryPoint(\n",
    "        time=state['time'],\n",
    "        acceleration=state['acceleration'],\n",
    "        attitude=state['attitude'],\n",
    "        omega=state['omega'],\n",
    "        position=state['position'],\n",
    "        velocity=state['velocity'],\n",
    "    )\n",
    "\n",
    "    trajectory = Trajectory()\n",
    "    trajectory.add_point(starting_point)\n",
    "\n",
    "    return trajectory"
   ]
  },
  {
   "cell_type": "code",
   "execution_count": 10,
   "id": "312968e9",
   "metadata": {},
   "outputs": [],
   "source": [
    "trajectory_time_offset = 0\n",
    "dp = np.zeros(3)\n",
    "\n",
    "def get_next_trajectory_point(trajectory, sim_time, dt, dp):\n",
    "    pt = trajectory.next_trajectory_point((sim_time + dt) / 1000.0)\n",
    "    pt.position += dp\n",
    "    return pt"
   ]
  },
  {
   "cell_type": "code",
   "execution_count": 11,
   "id": "5ebd4b96",
   "metadata": {},
   "outputs": [],
   "source": [
    "from quadcopter_control.controller import QuadcopterController, calculate_drone_moment_of_inertia"
   ]
  },
  {
   "cell_type": "code",
   "execution_count": 12,
   "id": "fac945f7",
   "metadata": {},
   "outputs": [],
   "source": [
    "DRONE_HEIGHT = 0.028\n",
    "DRONE_RADIUS = 0.05\n",
    "DRONE_MASS = 0.041"
   ]
  },
  {
   "cell_type": "code",
   "execution_count": 13,
   "id": "e8bb6a02",
   "metadata": {},
   "outputs": [
    {
     "data": {
      "text/plain": [
       "(2.830366666666667e-05, 2.830366666666667e-05, 5.125000000000001e-05)"
      ]
     },
     "execution_count": 13,
     "metadata": {},
     "output_type": "execute_result"
    }
   ],
   "source": [
    "(Ixx, Iyy, Izz) = calculate_drone_moment_of_inertia(DRONE_HEIGHT, DRONE_RADIUS, DRONE_MASS)\n",
    "(Ixx, Iyy, Izz)"
   ]
  },
  {
   "cell_type": "markdown",
   "id": "dc033043",
   "metadata": {},
   "source": [
    "## Scenario -1: Determine Drone Motor / to Newton Rate"
   ]
  },
  {
   "cell_type": "code",
   "execution_count": 14,
   "id": "6c85f6f4",
   "metadata": {},
   "outputs": [],
   "source": [
    "# drone_force = 9.81 * DRONE_MASS; drone_force"
   ]
  },
  {
   "cell_type": "code",
   "execution_count": 15,
   "id": "3eca78e3",
   "metadata": {},
   "outputs": [],
   "source": [
    "# positions = []\n",
    "# forces = []"
   ]
  },
  {
   "cell_type": "code",
   "execution_count": 16,
   "id": "746d5f58",
   "metadata": {},
   "outputs": [],
   "source": [
    "# for force in np.arange(50, 51, 0.01):\n",
    "#     print(\"trying force\", force)\n",
    "#     for _ in range(50):\n",
    "#         state = await sim_step([force, force, force, force])\n",
    "#         forces.append(force)\n",
    "#         positions.append(state['position'][2])"
   ]
  },
  {
   "cell_type": "code",
   "execution_count": 17,
   "id": "83520ab1",
   "metadata": {},
   "outputs": [],
   "source": [
    "# plt.plot(positions[:1250])\n",
    "# plt.plot(forces[:1250])\n",
    "# plt.title(\"z\", fontsize=20)\n",
    "# plt.show()"
   ]
  },
  {
   "cell_type": "code",
   "execution_count": 18,
   "id": "268e8d54",
   "metadata": {},
   "outputs": [
    {
     "data": {
      "text/plain": [
       "0.0020030378486055778"
      ]
     },
     "execution_count": 18,
     "metadata": {},
     "output_type": "execute_result"
    }
   ],
   "source": [
    "scale = 0.40221 / (50.2*4); scale"
   ]
  },
  {
   "cell_type": "markdown",
   "id": "14141abb",
   "metadata": {},
   "source": [
    "500 = 1 newton"
   ]
  },
  {
   "cell_type": "markdown",
   "id": "fe3135cd",
   "metadata": {},
   "source": [
    "## Scenario 0: Zero Gains\n",
    "\n",
    "Test whether controller runs without controller gains set."
   ]
  },
  {
   "cell_type": "code",
   "execution_count": 19,
   "id": "0816a8eb",
   "metadata": {},
   "outputs": [],
   "source": [
    "trajectory = await get_trajectory_with_initial_position()"
   ]
  },
  {
   "cell_type": "code",
   "execution_count": 20,
   "id": "4d9543e1",
   "metadata": {},
   "outputs": [],
   "source": [
    "DT_MS = 15.625 # 64 hz"
   ]
  },
  {
   "cell_type": "code",
   "execution_count": 21,
   "id": "d0e36ca8",
   "metadata": {},
   "outputs": [],
   "source": [
    "quadcopter_controller = QuadcopterController(\n",
    "    DT_MS / 1e3,\n",
    "    DRONE_MASS,\n",
    "    Ixx, Iyy, Izz,\n",
    "    l=0.05,\n",
    "    max_tilt_angle=0.22,\n",
    "    max_ascent_rate=20.0\n",
    ")"
   ]
  },
  {
   "cell_type": "markdown",
   "id": "ccb7f9f7",
   "metadata": {},
   "source": [
    "## Scenario 1: Altitude Control\n",
    "\n",
    "Tune gains until drone stays in place. on a desired height."
   ]
  },
  {
   "cell_type": "code",
   "execution_count": 22,
   "id": "99a15775",
   "metadata": {},
   "outputs": [],
   "source": [
    "state = await sim_step([0, 0, 0, 0])\n",
    "trajectory = await get_trajectory_with_initial_position()"
   ]
  },
  {
   "cell_type": "code",
   "execution_count": 23,
   "id": "20110900",
   "metadata": {},
   "outputs": [],
   "source": [
    "sim_time = (await sim_step([0, 0, 0, 0]))['time']\n",
    "n_episodes = 200\n",
    "\n",
    "for i in range(0, n_episodes):\n",
    "    trajectory.add_point(TrajectoryPoint(\n",
    "        time=(sim_time + (i*DT_MS*1e3) / 1e6),\n",
    "        position=np.array([0.0, 0.0, 5.0]),\n",
    "        velocity=np.zeros(3),\n",
    "        acceleration=np.zeros(3),\n",
    "        attitude=np.quaternion(1.0, 0.0, 0.0, 0.0),\n",
    "        omega=np.array([0.1, 0.1, 0.1])\n",
    "    ))"
   ]
  },
  {
   "cell_type": "code",
   "execution_count": 24,
   "id": "82261645",
   "metadata": {},
   "outputs": [],
   "source": [
    "import time\n",
    "import matplotlib.pyplot as plt"
   ]
  },
  {
   "cell_type": "code",
   "execution_count": 25,
   "id": "8aa66610",
   "metadata": {},
   "outputs": [],
   "source": [
    "from tqdm import tqdm"
   ]
  },
  {
   "cell_type": "code",
   "execution_count": 37,
   "id": "2bf6e759",
   "metadata": {},
   "outputs": [],
   "source": [
    "async def tune_controller(\n",
    "        kp_pqr=np.array([95.0, 95.0, 6.0]),\n",
    "        kp_bank=0.0,\n",
    "        kp_pos_z=0.0,\n",
    "        kp_vel_z=0.0,\n",
    "        ki_pos_z=0.0,\n",
    "        kp_pos_xy=0.0,\n",
    "        kp_yaw=0.0,\n",
    "        kp_vel_xy=0.0,\n",
    "        kappa=1.0,\n",
    "        n_episodes=n_episodes,\n",
    "):\n",
    "\n",
    "    quadcopter_controller.integrated_altitude_error = 0.0\n",
    "    quadcopter_controller.set_gains(\n",
    "        kp_pqr=kp_pqr,\n",
    "        kp_bank=kp_bank,\n",
    "        kp_pos_z=kp_pos_z,\n",
    "        kp_vel_z=kp_vel_z,\n",
    "        ki_pos_z=ki_pos_z,\n",
    "        kp_pos_xy=kp_pos_xy,\n",
    "        kp_yaw=kp_yaw,\n",
    "        kp_vel_xy=kp_vel_xy,\n",
    "        kappa=kappa\n",
    "    )\n",
    "\n",
    "    times = []\n",
    "    positions = []\n",
    "\n",
    "    state = await sim_step([0, 0, 0, 0])\n",
    "\n",
    "    for _ in tqdm(range(n_episodes)):\n",
    "        t = (state['time'] + DT_MS * 1e3) / 1e6\n",
    "        traj_pt = trajectory.next_trajectory_point(t)\n",
    "\n",
    "        motors = quadcopter_controller.run_control(\n",
    "            traj_pt,\n",
    "            state['position'],\n",
    "            state['velocity'],\n",
    "            state['omega'],\n",
    "            state['attitude'],\n",
    "        ) / 0.02\n",
    "\n",
    "        motors = np.clip(motors, 30, 100)\n",
    "        positions.append(state['position'])\n",
    "        times.append(t)\n",
    "        state = await sim_step(motors.tolist())\n",
    "\n",
    "    return np.array(times), np.array(positions)"
   ]
  },
  {
   "cell_type": "code",
   "execution_count": 38,
   "id": "9666571b",
   "metadata": {},
   "outputs": [
    {
     "name": "stderr",
     "output_type": "stream",
     "text": [
      "100%|██████████| 1500/1500 [01:05<00:00, 22.88it/s]\n"
     ]
    },
    {
     "data": {
      "image/png": "[encoded data removed]",
      "text/plain": [
       "<Figure size 640x480 with 1 Axes>"
      ]
     },
     "metadata": {},
     "output_type": "display_data"
    }
   ],
   "source": [
    "entity = await restart_drone()\n",
    "\n",
    "(times, positions) = await tune_controller(\n",
    "    kp_pqr=np.array([0.0, 0.0, 0.0]),\n",
    "    ki_pos_z=5.0,\n",
    "    kp_pos_z=5.0,\n",
    "    kp_vel_z=5.0,\n",
    "    kp_pos_xy=0.0,\n",
    "    kp_vel_xy=0.0,\n",
    "    kp_yaw=0.0,\n",
    "    kp_bank=0.0,\n",
    "    n_episodes=1500,\n",
    ")\n",
    "\n",
    "plt.title(\"altitude\")\n",
    "plt.plot(times, positions[:,2])\n",
    "plt.show()"
   ]
  },
  {
   "cell_type": "markdown",
   "id": "4aee8354",
   "metadata": {},
   "source": [
    "Oscilates, fine, but rate of oscilations increases"
   ]
  },
  {
   "cell_type": "code",
   "execution_count": 41,
   "id": "50359a09",
   "metadata": {},
   "outputs": [
    {
     "name": "stderr",
     "output_type": "stream",
     "text": [
      "100%|██████████| 1500/1500 [01:05<00:00, 22.82it/s]\n"
     ]
    },
    {
     "data": {
      "image/png": "[encoded data removed]",
      "text/plain": [
       "<Figure size 640x480 with 1 Axes>"
      ]
     },
     "metadata": {},
     "output_type": "display_data"
    }
   ],
   "source": [
    "entity = await restart_drone()\n",
    "\n",
    "(times, positions) = await tune_controller(\n",
    "    kp_pqr=np.array([0.0, 0.0, 0.0]),\n",
    "    ki_pos_z=4.0,\n",
    "    kp_pos_z=5.0,\n",
    "    kp_vel_z=5.0,\n",
    "    kp_pos_xy=0.0,\n",
    "    kp_vel_xy=0.0,\n",
    "    kp_yaw=0.0,\n",
    "    kp_bank=0.0,\n",
    "    n_episodes=1500,\n",
    ")\n",
    "\n",
    "plt.title(\"altitude\")\n",
    "plt.plot(times, positions[:,2])\n",
    "plt.show()"
   ]
  },
  {
   "cell_type": "markdown",
   "id": "cac57050",
   "metadata": {},
   "source": [
    "Better"
   ]
  },
  {
   "cell_type": "code",
   "execution_count": 42,
   "id": "0d1bbc3f",
   "metadata": {},
   "outputs": [
    {
     "name": "stderr",
     "output_type": "stream",
     "text": [
      "100%|██████████| 1500/1500 [01:06<00:00, 22.63it/s]\n"
     ]
    },
    {
     "data": {
      "image/png": "[encoded data removed]",
      "text/plain": [
       "<Figure size 640x480 with 1 Axes>"
      ]
     },
     "metadata": {},
     "output_type": "display_data"
    }
   ],
   "source": [
    "entity = await restart_drone()\n",
    "\n",
    "(times, positions) = await tune_controller(\n",
    "    kp_pqr=np.array([0.0, 0.0, 0.0]),\n",
    "    ki_pos_z=3.0,\n",
    "    kp_pos_z=5.0,\n",
    "    kp_vel_z=5.0,\n",
    "    kp_pos_xy=0.0,\n",
    "    kp_vel_xy=0.0,\n",
    "    kp_yaw=0.0,\n",
    "    kp_bank=0.0,\n",
    "    n_episodes=1500,\n",
    ")\n",
    "\n",
    "plt.title(\"altitude\")\n",
    "plt.plot(times, positions[:,2])\n",
    "plt.show()"
   ]
  },
  {
   "cell_type": "markdown",
   "id": "b25bc950",
   "metadata": {},
   "source": [
    "Better"
   ]
  },
  {
   "cell_type": "code",
   "execution_count": 43,
   "id": "40f90abd",
   "metadata": {},
   "outputs": [
    {
     "name": "stderr",
     "output_type": "stream",
     "text": [
      "100%|██████████| 1500/1500 [01:06<00:00, 22.66it/s]\n"
     ]
    },
    {
     "data": {
      "image/png": "[encoded data removed]",
      "text/plain": [
       "<Figure size 640x480 with 1 Axes>"
      ]
     },
     "metadata": {},
     "output_type": "display_data"
    }
   ],
   "source": [
    "entity = await restart_drone()\n",
    "\n",
    "(times, positions) = await tune_controller(\n",
    "    kp_pqr=np.array([0.0, 0.0, 0.0]),\n",
    "    ki_pos_z=2.0,\n",
    "    kp_pos_z=5.0,\n",
    "    kp_vel_z=5.0,\n",
    "    kp_pos_xy=0.0,\n",
    "    kp_vel_xy=0.0,\n",
    "    kp_yaw=0.0,\n",
    "    kp_bank=0.0,\n",
    "    n_episodes=1500,\n",
    ")\n",
    "\n",
    "plt.title(\"altitude\")\n",
    "plt.plot(times, positions[:,2])\n",
    "plt.show()"
   ]
  },
  {
   "cell_type": "markdown",
   "id": "82643f04",
   "metadata": {},
   "source": [
    "Better"
   ]
  },
  {
   "cell_type": "code",
   "execution_count": 44,
   "id": "62e4c83c",
   "metadata": {},
   "outputs": [
    {
     "name": "stderr",
     "output_type": "stream",
     "text": [
      "100%|██████████| 1500/1500 [01:05<00:00, 22.86it/s]\n"
     ]
    },
    {
     "data": {
      "image/png": "[encoded data removed]",
      "text/plain": [
       "<Figure size 640x480 with 1 Axes>"
      ]
     },
     "metadata": {},
     "output_type": "display_data"
    }
   ],
   "source": [
    "entity = await restart_drone()\n",
    "\n",
    "(times, positions) = await tune_controller(\n",
    "    kp_pqr=np.array([0.0, 0.0, 0.0]),\n",
    "    ki_pos_z=1.0,\n",
    "    kp_pos_z=5.0,\n",
    "    kp_vel_z=5.0,\n",
    "    kp_pos_xy=0.0,\n",
    "    kp_vel_xy=0.0,\n",
    "    kp_yaw=0.0,\n",
    "    kp_bank=0.0,\n",
    "    n_episodes=1500,\n",
    ")\n",
    "\n",
    "plt.title(\"altitude\")\n",
    "plt.plot(times, positions[:,2])\n",
    "plt.show()"
   ]
  },
  {
   "cell_type": "code",
   "execution_count": null,
   "id": "af4fcf31",
   "metadata": {},
   "outputs": [],
   "source": []
  }
 ],
 "metadata": {
  "kernelspec": {
   "display_name": "jax",
   "language": "python",
   "name": "python3"
  },
  "language_info": {
   "codemirror_mode": {
    "name": "ipython",
    "version": 3
   },
   "file_extension": ".py",
   "mimetype": "text/x-python",
   "name": "python",
   "nbconvert_exporter": "python",
   "pygments_lexer": "ipython3",
   "version": "3.11.7"
  }
 },
 "nbformat": 4,
 "nbformat_minor": 5
}
