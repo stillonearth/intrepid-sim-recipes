{
 "cells": [
  {
   "cell_type": "code",
   "execution_count": 1,
   "id": "151b1c34",
   "metadata": {},
   "outputs": [],
   "source": [
    "import asyncio\n",
    "import numpy as np\n",
    "import quaternion\n",
    "\n",
    "from intrepid_environment.simulator import Simulator"
   ]
  },
  {
   "cell_type": "code",
   "execution_count": 2,
   "id": "5198c3dd",
   "metadata": {},
   "outputs": [],
   "source": [
    "import nest_asyncio\n",
    "nest_asyncio.apply()"
   ]
  },
  {
   "cell_type": "code",
   "execution_count": 3,
   "id": "a5847b43",
   "metadata": {},
   "outputs": [],
   "source": [
    "# import subprocess\n",
    "\n",
    "# def run_detached(command):\n",
    "#     process = subprocess.Popen(\n",
    "#         command,\n",
    "#         stdout=subprocess.PIPE,\n",
    "#         stderr=subprocess.PIPE,\n",
    "#     )\n",
    "#     print(f\"Process started with PID: {process.pid}\")\n",
    "#     return process"
   ]
  },
  {
   "cell_type": "code",
   "execution_count": 4,
   "id": "ca293e0b",
   "metadata": {},
   "outputs": [],
   "source": [
    "# my_command = [\"intrepid/intrepid-sim\", \"--no-script\"]\n",
    "# process = run_detached(my_command)"
   ]
  },
  {
   "cell_type": "code",
   "execution_count": 5,
   "id": "1bcf8f83",
   "metadata": {},
   "outputs": [],
   "source": [
    "sim = Simulator()\n",
    "await sim.connect()\n",
    "\n",
    "await sim.rpc(\"session.restart\")\n",
    "entity = await sim.rpc(\"map.spawn_uav\", {\n",
    "    \"robot_id\": 0,\n",
    "    \"position\": {\n",
    "        \"x\": 0,\n",
    "        \"y\": 0,\n",
    "        \"z\": 0,\n",
    "    },\n",
    "})\n",
    "await sim.rpc(\"session.run\")"
   ]
  },
  {
   "cell_type": "markdown",
   "id": "6a5b739b",
   "metadata": {},
   "source": [
    "Setup trajectory for drone to follow."
   ]
  },
  {
   "cell_type": "code",
   "execution_count": 6,
   "id": "964e93a4",
   "metadata": {},
   "outputs": [],
   "source": [
    "from quadcopter_control.trajectory import Trajectory, TrajectoryPoint"
   ]
  },
  {
   "cell_type": "code",
   "execution_count": 7,
   "id": "61328f80",
   "metadata": {},
   "outputs": [],
   "source": [
    "async def sim_step(motors):\n",
    "\n",
    "    (sim_time, _, drone_state) = await asyncio.gather(\n",
    "            sim.step(),\n",
    "            sim.rpc(f\"object_{entity}.actuator_control\", motors),\n",
    "            sim.rpc(\"script.eval\", {\n",
    "                \"code\": \"\"\"{\n",
    "                    position = sim.object.position(ARGS),\n",
    "                    attitude = sim.object.rotation_quat(ARGS),\n",
    "                    velocity = sim.object.linear_velocity(ARGS),\n",
    "                    omega = sim.object.angular_velocity(ARGS),\n",
    "                    acceleration = sim.object.acceleration(ARGS),\n",
    "                }\"\"\",\n",
    "                \"args\": entity,\n",
    "            }),\n",
    "        )\n",
    "\n",
    "    acceleration = np.array([drone_state['acceleration']['y'],\n",
    "                             drone_state['acceleration']['x'],\n",
    "                             drone_state['acceleration']['z']], dtype=np.float64)\n",
    "\n",
    "    position = np.array([drone_state['position']['y'],\n",
    "                        drone_state['position']['x'],\n",
    "                        drone_state['position']['z']], dtype=np.float64)\n",
    "\n",
    "    velocity = np.array([drone_state['velocity']['y'],\n",
    "                        drone_state['velocity']['x'],\n",
    "                        drone_state['velocity']['z']], dtype=np.float64)\n",
    "\n",
    "    attitude = np.quaternion(drone_state['attitude'][3],\n",
    "                             drone_state['attitude'][0],\n",
    "                             drone_state['attitude'][1],\n",
    "                             drone_state['attitude'][2])\n",
    "\n",
    "    omega = np.array([drone_state['omega']['xy'],\n",
    "                     drone_state['omega']['zx'],\n",
    "                     drone_state['omega']['yz']], dtype=np.float64)\n",
    "\n",
    "    return {\n",
    "        'time': sim_time,\n",
    "        'acceleration': acceleration,\n",
    "        'position': position,\n",
    "        'velocity': velocity,\n",
    "        'attitude': attitude,\n",
    "        'omega': omega\n",
    "    }"
   ]
  },
  {
   "cell_type": "code",
   "execution_count": 8,
   "id": "67cc357e",
   "metadata": {},
   "outputs": [],
   "source": [
    "async def get_trajectory_with_initial_position():\n",
    "    state = await sim_step([0, 0, 0, 0])\n",
    "\n",
    "    starting_point = TrajectoryPoint(\n",
    "        time=state['time'],\n",
    "        acceleration=state['acceleration'],\n",
    "        attitude=state['attitude'],\n",
    "        omega=state['omega'],\n",
    "        position=state['position'],\n",
    "        velocity=state['velocity'],\n",
    "    )\n",
    "\n",
    "    trajectory = Trajectory()\n",
    "    trajectory.add_point(starting_point)\n",
    "\n",
    "    return trajectory"
   ]
  },
  {
   "cell_type": "code",
   "execution_count": 9,
   "id": "312968e9",
   "metadata": {},
   "outputs": [],
   "source": [
    "trajectory_time_offset = 0\n",
    "dp = np.zeros(3)\n",
    "\n",
    "def get_next_trajectory_point(trajectory, sim_time, dt, dp):\n",
    "    pt = trajectory.next_trajectory_point((sim_time + dt) / 1000.0)\n",
    "    pt.position += dp\n",
    "    return pt"
   ]
  },
  {
   "cell_type": "code",
   "execution_count": 10,
   "id": "5ebd4b96",
   "metadata": {},
   "outputs": [],
   "source": [
    "from quadcopter_control.controller import QuadcopterController, calculate_drone_moment_of_inertia"
   ]
  },
  {
   "cell_type": "code",
   "execution_count": 11,
   "id": "fac945f7",
   "metadata": {},
   "outputs": [],
   "source": [
    "DRONE_HEIGHT = 0.028\n",
    "DRONE_RADIUS = 0.05\n",
    "DRONE_MASS = 0.041"
   ]
  },
  {
   "cell_type": "code",
   "execution_count": 12,
   "id": "e8bb6a02",
   "metadata": {},
   "outputs": [
    {
     "data": {
      "text/plain": [
       "(2.830366666666667e-05, 2.830366666666667e-05, 5.125000000000001e-05)"
      ]
     },
     "execution_count": 12,
     "metadata": {},
     "output_type": "execute_result"
    }
   ],
   "source": [
    "(Ixx, Iyy, Izz) = calculate_drone_moment_of_inertia(DRONE_HEIGHT, DRONE_RADIUS, DRONE_MASS)\n",
    "(Ixx, Iyy, Izz)"
   ]
  },
  {
   "cell_type": "markdown",
   "id": "fe3135cd",
   "metadata": {},
   "source": [
    "## Scenario 0: Zero Gains\n",
    "\n",
    "Test whether controller runs without controller gains set."
   ]
  },
  {
   "cell_type": "code",
   "execution_count": 13,
   "id": "0816a8eb",
   "metadata": {},
   "outputs": [],
   "source": [
    "trajectory = await get_trajectory_with_initial_position()"
   ]
  },
  {
   "cell_type": "code",
   "execution_count": 14,
   "id": "4d9543e1",
   "metadata": {},
   "outputs": [],
   "source": [
    "DT_MS = 15.625 # 64 hz"
   ]
  },
  {
   "cell_type": "code",
   "execution_count": 15,
   "id": "d0e36ca8",
   "metadata": {},
   "outputs": [],
   "source": [
    "quadcopter_controller = QuadcopterController(\n",
    "    DT_MS,\n",
    "    DRONE_MASS,\n",
    "    Ixx, Iyy, Izz,\n",
    "    max_tilt_angle=0.52,\n",
    "    max_ascent_rate=20.0\n",
    ")"
   ]
  },
  {
   "cell_type": "code",
   "execution_count": 16,
   "id": "11449622",
   "metadata": {},
   "outputs": [],
   "source": [
    "trajectory = await get_trajectory_with_initial_position()\n",
    "\n",
    "MOTOR_SCALE = 150\n",
    "\n",
    "async def control_step(state):\n",
    "    motors = quadcopter_controller.run_control(\n",
    "        traj_pt=trajectory.next_trajectory_point((state['time'] + DT_MS*1e3)/1e6),\n",
    "        est_pos=state['position'],\n",
    "        est_vel=state['velocity'],\n",
    "        est_omega=state['omega'],\n",
    "        est_att=state['attitude'],\n",
    "    ) * MOTOR_SCALE\n",
    "\n",
    "    return await sim_step(motors.tolist())"
   ]
  },
  {
   "cell_type": "markdown",
   "id": "ccb7f9f7",
   "metadata": {},
   "source": [
    "## Scenario 1: Altitude Control\n",
    "\n",
    "Tune gains until drone stays in place. on a desired height."
   ]
  },
  {
   "cell_type": "code",
   "execution_count": 17,
   "id": "99a15775",
   "metadata": {},
   "outputs": [],
   "source": [
    "state = await sim_step([0, 0, 0, 0])\n",
    "trajectory = await get_trajectory_with_initial_position()"
   ]
  },
  {
   "cell_type": "code",
   "execution_count": 18,
   "id": "20110900",
   "metadata": {},
   "outputs": [],
   "source": [
    "# add 500 datapoints so drone stays in place\n",
    "sim_time = (await sim_step([0, 0, 0, 0]))['time']\n",
    "n_episodes = 1000\n",
    "\n",
    "for i in range(0, n_episodes):\n",
    "    trajectory.add_point(TrajectoryPoint(\n",
    "        time=(sim_time + (i*DT_MS*1e3) / 1e6),\n",
    "        position=np.array([0.0, 0.0, 5.0]),\n",
    "        velocity=np.zeros(3),\n",
    "        acceleration=np.zeros(3),\n",
    "        attitude=np.quaternion(1.0, 0.0, 0.0, 0.0),\n",
    "        omega=np.array([0.0, 0.0, 0.0])\n",
    "    ))"
   ]
  },
  {
   "cell_type": "markdown",
   "id": "cb99fa5a",
   "metadata": {},
   "source": [
    "Set controller gains. Test only integrated error of altitude controller."
   ]
  },
  {
   "cell_type": "code",
   "execution_count": 19,
   "id": "c9378f03",
   "metadata": {},
   "outputs": [],
   "source": [
    "def control_step(state, dt):\n",
    "    traj_pt = trajectory.next_trajectory_point((state['time']+ dt * 1e3) / 1e6)\n",
    "\n",
    "    thrust = quadcopter_controller.altitude_control(\n",
    "        traj_pt.position[2],\n",
    "        traj_pt.velocity[2],\n",
    "        np.max([0, state['position'][2]]),\n",
    "        state['velocity'][2],\n",
    "        state['attitude'],\n",
    "        traj_pt.acceleration[2],\n",
    "        dt / 1e3\n",
    "    )\n",
    "\n",
    "    # thrust_margin = 0.1 * (max_motor_thrust - min_motor_thrust)\n",
    "    # clipped_thrust = np.clip(thrust_cmd, min_motor_thrust, max_motor_thrust)\n",
    "\n",
    "    motors = quadcopter_controller.generate_motor_commands(thrust, np.zeros(3))\n",
    "    motors *= MOTOR_SCALE\n",
    "    motors = np.clip(motors, 45, 100)\n",
    "\n",
    "    return (motors, thrust)"
   ]
  },
  {
   "cell_type": "code",
   "execution_count": 20,
   "id": "2bf6e759",
   "metadata": {},
   "outputs": [],
   "source": [
    "async def tune_altitude_control(\n",
    "        kp_pqr=np.array([95.0, 95.0, 6.0]),\n",
    "        ki_pos_z=8.0,\n",
    "        kp_pos_z=5.0,\n",
    "        kp_vel_z=2.0,\n",
    "        kappa=2.0,\n",
    "):\n",
    "\n",
    "    # global entity\n",
    "\n",
    "    # await sim.rpc(\"session.restart\")\n",
    "    # entity = await sim.rpc(\"map.spawn_uav\", {\n",
    "    #     \"robot_id\": 0,\n",
    "    #     \"position\": {\n",
    "    #         \"x\": 0,\n",
    "    #         \"y\": 0,\n",
    "    #         \"z\": 0,\n",
    "    #     },\n",
    "    # })\n",
    "    # await sim.rpc(\"session.run\")\n",
    "\n",
    "    quadcopter_controller.set_gains(\n",
    "        kp_pqr, ki_pos_z, kp_pos_z, kp_vel_z, kappa)\n",
    "\n",
    "    altitude_log = []\n",
    "    thrust_log = []\n",
    "    motor_log = []\n",
    "\n",
    "    state = await sim_step([0, 0, 0, 0])\n",
    "\n",
    "    for _ in range(1500):\n",
    "        (motors, thrust) = control_step(state, DT_MS)\n",
    "\n",
    "        altitude_log.append(state['position'][2])\n",
    "        thrust_log.append(thrust)\n",
    "        motor_log.append(np.mean(motors))\n",
    "\n",
    "        state = await sim_step(motors.tolist())\n",
    "\n",
    "    return (altitude_log, thrust_log, motor_log)"
   ]
  },
  {
   "cell_type": "code",
   "execution_count": 21,
   "id": "ff08a9d0",
   "metadata": {},
   "outputs": [],
   "source": [
    "import matplotlib.pyplot as plt"
   ]
  },
  {
   "cell_type": "code",
   "execution_count": 22,
   "id": "c89d3ca5",
   "metadata": {},
   "outputs": [
    {
     "data": {
      "image/png": "[encoded data removed]",
      "text/plain": [
       "<Figure size 640x480 with 1 Axes>"
      ]
     },
     "metadata": {},
     "output_type": "display_data"
    },
    {
     "data": {
      "image/png": "[encoded data removed]",
      "text/plain": [
       "<Figure size 640x480 with 1 Axes>"
      ]
     },
     "metadata": {},
     "output_type": "display_data"
    },
    {
     "data": {
      "image/png": "[encoded data removed]",
      "text/plain": [
       "<Figure size 640x480 with 1 Axes>"
      ]
     },
     "metadata": {},
     "output_type": "display_data"
    }
   ],
   "source": [
    "(altitude_log, thrust_log, motor_log) = await tune_altitude_control(ki_pos_z=7.0, kp_pos_z=7.0, kp_vel_z=7.0)\n",
    "\n",
    "plt.plot(altitude_log)\n",
    "plt.title(\"Altitude\", fontsize=20)\n",
    "plt.show()\n",
    "\n",
    "plt.plot(thrust_log)\n",
    "plt.title(\"Thrust\", fontsize=20)\n",
    "plt.show()\n",
    "\n",
    "plt.plot(motor_log)\n",
    "plt.title(\"Motor cmds\", fontsize=20)\n",
    "plt.show()"
   ]
  },
  {
   "cell_type": "code",
   "execution_count": null,
   "id": "09e302f6",
   "metadata": {},
   "outputs": [],
   "source": []
  }
 ],
 "metadata": {
  "kernelspec": {
   "display_name": "jax",
   "language": "python",
   "name": "python3"
  },
  "language_info": {
   "codemirror_mode": {
    "name": "ipython",
    "version": 3
   },
   "file_extension": ".py",
   "mimetype": "text/x-python",
   "name": "python",
   "nbconvert_exporter": "python",
   "pygments_lexer": "ipython3",
   "version": "3.11.7"
  }
 },
 "nbformat": 4,
 "nbformat_minor": 5
}
