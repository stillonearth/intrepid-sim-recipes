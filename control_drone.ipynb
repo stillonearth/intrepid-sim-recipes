{
 "cells": [
  {
   "cell_type": "code",
   "execution_count": 1,
   "id": "151b1c34",
   "metadata": {},
   "outputs": [],
   "source": [
    "import asyncio\n",
    "import numpy as np\n",
    "import quaternion\n",
    "\n",
    "from intrepid_environment.simulator import Simulator"
   ]
  },
  {
   "cell_type": "code",
   "execution_count": 2,
   "id": "5198c3dd",
   "metadata": {},
   "outputs": [],
   "source": [
    "import nest_asyncio\n",
    "nest_asyncio.apply()"
   ]
  },
  {
   "cell_type": "code",
   "execution_count": 3,
   "id": "1bcf8f83",
   "metadata": {},
   "outputs": [],
   "source": [
    "sim = Simulator()\n",
    "await sim.connect()\n",
    "\n",
    "await sim.rpc(\"session.restart\")\n",
    "entity = await sim.rpc(\"map.spawn_uav\", {\n",
    "    \"robot_id\": 0,\n",
    "    \"position\": {\n",
    "        \"x\": 0,\n",
    "        \"y\": 0,\n",
    "        \"z\": 0,\n",
    "    },\n",
    "})\n",
    "await sim.rpc(\"session.run\")"
   ]
  },
  {
   "cell_type": "markdown",
   "id": "6a5b739b",
   "metadata": {},
   "source": [
    "Setup trajectory for drone to follow."
   ]
  },
  {
   "cell_type": "code",
   "execution_count": 4,
   "id": "964e93a4",
   "metadata": {},
   "outputs": [],
   "source": [
    "from quadcopter_control.trajectory import Trajectory, TrajectoryPoint"
   ]
  },
  {
   "cell_type": "code",
   "execution_count": 5,
   "id": "61328f80",
   "metadata": {},
   "outputs": [],
   "source": [
    "async def sim_step(motors):\n",
    "\n",
    "    (sim_time, _, drone_state) = await asyncio.gather(\n",
    "            sim.step(),\n",
    "            sim.rpc(f\"object_{entity}.actuator_control\", motors),\n",
    "            sim.rpc(\"script.eval\", {\n",
    "                \"code\": \"\"\"{\n",
    "                    position = sim.object.position(ARGS),\n",
    "                    attitude = sim.object.rotation_quat(ARGS),\n",
    "                    velocity = sim.object.linear_velocity(ARGS),\n",
    "                    omega = sim.object.angular_velocity(ARGS),\n",
    "                    acceleration = sim.object.acceleration(ARGS),\n",
    "                }\"\"\",\n",
    "                \"args\": entity,\n",
    "            }),\n",
    "        )\n",
    "\n",
    "    acceleration = np.array([drone_state['acceleration']['y'],\n",
    "                             drone_state['acceleration']['x'],\n",
    "                             drone_state['acceleration']['z']], dtype=np.float64)\n",
    "\n",
    "    position = np.array([drone_state['position']['y'],\n",
    "                        drone_state['position']['x'],\n",
    "                        drone_state['position']['z']], dtype=np.float64)\n",
    "\n",
    "    velocity = np.array([drone_state['velocity']['y'],\n",
    "                        drone_state['velocity']['x'],\n",
    "                        drone_state['velocity']['z']], dtype=np.float64)\n",
    "\n",
    "    attitude = np.quaternion(drone_state['attitude'][3],\n",
    "                             drone_state['attitude'][0],\n",
    "                             drone_state['attitude'][1],\n",
    "                             drone_state['attitude'][2])\n",
    "\n",
    "    omega = np.array([drone_state['omega']['xy'],\n",
    "                     drone_state['omega']['zx'],\n",
    "                     drone_state['omega']['yz']], dtype=np.float64)\n",
    "\n",
    "    return {\n",
    "        'time': sim_time,\n",
    "        'acceleration': acceleration,\n",
    "        'position': position,\n",
    "        'velocity': velocity,\n",
    "        'attitude': attitude,\n",
    "        'omega': omega\n",
    "    }"
   ]
  },
  {
   "cell_type": "code",
   "execution_count": 6,
   "id": "67cc357e",
   "metadata": {},
   "outputs": [],
   "source": [
    "async def get_trajectory_with_initial_position():\n",
    "    state = await sim_step([0, 0, 0, 0])\n",
    "\n",
    "    starting_point = TrajectoryPoint(\n",
    "        time=state['time'],\n",
    "        acceleration=state['acceleration'],\n",
    "        attitude=state['attitude'],\n",
    "        omega=state['omega'],\n",
    "        position=state['position'],\n",
    "        velocity=state['velocity'],\n",
    "    )\n",
    "\n",
    "    trajectory = Trajectory()\n",
    "    trajectory.add_point(starting_point)\n",
    "\n",
    "    return trajectory"
   ]
  },
  {
   "cell_type": "code",
   "execution_count": 7,
   "id": "312968e9",
   "metadata": {},
   "outputs": [],
   "source": [
    "trajectory_time_offset = 0\n",
    "dp = np.zeros(3)\n",
    "\n",
    "def get_next_trajectory_point(trajectory, sim_time, dt, dp):\n",
    "    pt = trajectory.next_trajectory_point((sim_time + dt) / 1000.0)\n",
    "    pt.position += dp\n",
    "    return pt"
   ]
  },
  {
   "cell_type": "code",
   "execution_count": 8,
   "id": "5ebd4b96",
   "metadata": {},
   "outputs": [],
   "source": [
    "from quadcopter_control.controller import QuadcopterController, calculate_drone_moment_of_inertia"
   ]
  },
  {
   "cell_type": "code",
   "execution_count": 9,
   "id": "fac945f7",
   "metadata": {},
   "outputs": [],
   "source": [
    "DRONE_HEIGHT = 0.028\n",
    "DRONE_RADIUS = 0.05\n",
    "DRONE_MASS = 0.041"
   ]
  },
  {
   "cell_type": "code",
   "execution_count": 10,
   "id": "e8bb6a02",
   "metadata": {},
   "outputs": [
    {
     "data": {
      "text/plain": [
       "(2.830366666666667e-05, 2.830366666666667e-05, 5.125000000000001e-05)"
      ]
     },
     "execution_count": 10,
     "metadata": {},
     "output_type": "execute_result"
    }
   ],
   "source": [
    "(Ixx, Iyy, Izz) = calculate_drone_moment_of_inertia(DRONE_HEIGHT, DRONE_RADIUS, DRONE_MASS)\n",
    "(Ixx, Iyy, Izz)"
   ]
  },
  {
   "cell_type": "markdown",
   "id": "fe3135cd",
   "metadata": {},
   "source": [
    "## Scenario 0: Zero Gains\n",
    "\n",
    "Test whether controller runs without controller gains set."
   ]
  },
  {
   "cell_type": "code",
   "execution_count": 11,
   "id": "0816a8eb",
   "metadata": {},
   "outputs": [],
   "source": [
    "trajectory = await get_trajectory_with_initial_position()"
   ]
  },
  {
   "cell_type": "code",
   "execution_count": 12,
   "id": "4d9543e1",
   "metadata": {},
   "outputs": [],
   "source": [
    "DT_MS = 15.625 # 64 hz"
   ]
  },
  {
   "cell_type": "code",
   "execution_count": null,
   "id": "d0e36ca8",
   "metadata": {},
   "outputs": [],
   "source": [
    "quadcopter_controller = QuadcopterController(\n",
    "    DT_MS / 1e3,\n",
    "    DRONE_MASS,\n",
    "    Ixx, Iyy, Izz,\n",
    "    max_tilt_angle=0.52,\n",
    "    max_ascent_rate=20.0\n",
    ")"
   ]
  },
  {
   "cell_type": "code",
   "execution_count": 14,
   "id": "11449622",
   "metadata": {},
   "outputs": [],
   "source": [
    "trajectory = await get_trajectory_with_initial_position()\n",
    "\n",
    "MOTOR_SCALE = 150\n",
    "\n",
    "async def control_step(state):\n",
    "    motors = quadcopter_controller.run_control(\n",
    "        traj_pt=trajectory.next_trajectory_point((state['time'] + DT_MS*1e3)/1e6),\n",
    "        est_pos=state['position'],\n",
    "        est_vel=state['velocity'],\n",
    "        est_omega=state['omega'],\n",
    "        est_att=state['attitude'],\n",
    "    ) * MOTOR_SCALE\n",
    "\n",
    "    return await sim_step(motors.tolist())"
   ]
  },
  {
   "cell_type": "markdown",
   "id": "ccb7f9f7",
   "metadata": {},
   "source": [
    "## Scenario 1: Altitude Control\n",
    "\n",
    "Tune gains until drone stays in place. on a desired height."
   ]
  },
  {
   "cell_type": "code",
   "execution_count": 15,
   "id": "99a15775",
   "metadata": {},
   "outputs": [],
   "source": [
    "state = await sim_step([0, 0, 0, 0])\n",
    "trajectory = await get_trajectory_with_initial_position()"
   ]
  },
  {
   "cell_type": "code",
   "execution_count": 16,
   "id": "20110900",
   "metadata": {},
   "outputs": [],
   "source": [
    "# add 500 datapoints so drone stays in place\n",
    "sim_time = (await sim_step([0, 0, 0, 0]))['time']\n",
    "n_episodes = 1000\n",
    "\n",
    "for i in range(0, n_episodes):\n",
    "    trajectory.add_point(TrajectoryPoint(\n",
    "        time=(sim_time + (i*DT_MS*1e3) / 1e6),\n",
    "        position=np.array([0.0, 0.0, 5.0]),\n",
    "        velocity=np.zeros(3),\n",
    "        acceleration=np.zeros(3),\n",
    "        attitude=np.quaternion(1.0, 0.0, 0.0, 0.0),\n",
    "        omega=np.array([0.0, 0.0, 0.0])\n",
    "    ))"
   ]
  },
  {
   "cell_type": "code",
   "execution_count": 17,
   "id": "2bf6e759",
   "metadata": {},
   "outputs": [],
   "source": [
    "async def tune_altitude_control(\n",
    "        kp_pqr=np.array([95.0, 95.0, 6.0]),\n",
    "        ki_pos_z=8.0,\n",
    "        kp_pos_z=5.0,\n",
    "        kp_vel_z=2.0,\n",
    "        kappa=2.0,\n",
    "):\n",
    "\n",
    "    quadcopter_controller.set_gains(kp_pqr, ki_pos_z, kp_pos_z, kp_vel_z, kappa)\n",
    "\n",
    "    altitude_log = []\n",
    "    motor_log = []\n",
    "\n",
    "    state = await sim_step([0, 0, 0, 0])\n",
    "\n",
    "    for _ in range(1500):\n",
    "        traj_pt = trajectory.next_trajectory_point((state['time']+ DT_MS * 1e3) / 1e6)\n",
    "\n",
    "        motors = quadcopter_controller.run_control(\n",
    "            traj_pt,\n",
    "            state['position'],\n",
    "            state['velocity'],\n",
    "            state['omega'],\n",
    "            state['attitude'],\n",
    "        )\n",
    "\n",
    "        motors *= MOTOR_SCALE\n",
    "        motors = np.clip(motors, 45, 100)\n",
    "\n",
    "        altitude_log.append(state['position'][2])\n",
    "        motor_log.append(np.mean(motors))\n",
    "\n",
    "        state = await sim_step(motors.tolist())\n",
    "\n",
    "    return (altitude_log, motor_log)"
   ]
  },
  {
   "cell_type": "code",
   "execution_count": 18,
   "id": "ff08a9d0",
   "metadata": {},
   "outputs": [],
   "source": [
    "import matplotlib.pyplot as plt"
   ]
  },
  {
   "cell_type": "code",
   "execution_count": 19,
   "id": "c89d3ca5",
   "metadata": {},
   "outputs": [
    {
     "name": "stdout",
     "output_type": "stream",
     "text": [
      "181.4560702048897 15.625\n",
      "337.72203639853797 15.625\n",
      "493.9901525749823 15.625\n",
      "650.2604365285201 15.625\n",
      "806.5328686569043 15.625\n",
      "962.80746764037 15.625\n",
      "1119.0842138344124 15.625\n",
      "1275.363122845222 15.625\n",
      "1431.644177449275 15.625\n",
      "1587.927319892415 15.625\n",
      "1744.212086072072 15.625\n",
      "1900.4981292522189 15.625\n",
      "2056.785188817384 15.625\n",
      "2213.0730599713916 15.625\n",
      "2369.361576288524 15.625\n",
      "2525.650605252234 15.625\n",
      "2681.9400398880025 15.625\n",
      "2838.2297945898113 15.625\n",
      "2994.519800249414 15.625\n",
      "3150.809738957898 15.625\n",
      "3307.10014309176 15.625\n",
      "3463.3906090238315 15.625\n",
      "3619.681159924514 15.625\n",
      "3775.9717719218393 15.625\n",
      "3932.262425571968 15.625\n",
      "4088.5531049720425 15.625\n",
      "4244.843797064667 15.625\n",
      "4401.134490981062 15.625\n",
      "4557.42517775833 15.625\n",
      "4713.7158497914 15.625\n",
      "4870.006500686153 15.625\n",
      "5026.2971249722395 15.625\n",
      "5182.587717926768 15.625\n",
      "5338.8782754127 15.625\n",
      "5495.168793718372 15.625\n",
      "5651.459269672726 15.625\n",
      "5807.749754506797 15.625\n",
      "5964.040127313883 15.625\n",
      "6120.330459063284 15.625\n",
      "6276.620737735379 15.625\n",
      "6432.910961123432 15.625\n",
      "6589.20112709766 15.625\n",
      "6745.491233548781 15.625\n",
      "6901.781278483819 15.625\n",
      "7058.071259977101 15.625\n",
      "7214.3611760981585 15.625\n",
      "7370.651024975424 15.625\n",
      "7526.9408047753395 15.625\n",
      "7683.230513663338 15.625\n",
      "7839.520237931588 15.625\n",
      "7995.809783803159 15.625\n",
      "8152.099269137483 15.625\n",
      "8308.388676466804 15.625\n",
      "8464.678003936491 15.625\n",
      "8620.96724973252 15.625\n",
      "8777.256412198809 15.625\n",
      "8933.545489568276 15.625\n",
      "9089.83448006982 15.625\n",
      "9246.123381967951 15.625\n",
      "9402.412193514325 15.625\n",
      "9558.70091288612 15.625\n",
      "9714.989538463917 15.625\n",
      "9871.278068457235 15.625\n",
      "10027.56650107602 15.625\n",
      "10183.854834608845 15.625\n",
      "10340.143067318319 15.625\n",
      "10496.431197426838 15.625\n",
      "10652.719223202774 15.625\n",
      "10809.00714289588 15.625\n",
      "10965.29495479203 15.625\n",
      "11121.582657100693 15.625\n",
      "11277.870248095467 15.625\n",
      "11434.157726057758 15.625\n",
      "11590.445089236373 15.625\n",
      "11746.732335812529 15.625\n",
      "11903.019464119927 15.625\n",
      "12059.306472470891 15.625\n",
      "12215.593359083687 15.625\n",
      "12371.880122208762 15.625\n",
      "12528.166760070888 15.625\n",
      "12684.453270932177 15.625\n",
      "12840.73965307866 15.625\n",
      "12997.025904830189 15.625\n",
      "13153.312024300933 15.625\n",
      "13309.598009873083 15.625\n",
      "13465.883859686757 15.625\n",
      "13622.169572104394 15.625\n",
      "13778.455145321846 15.625\n",
      "13934.740577612998 15.625\n",
      "14091.025867260012 15.625\n",
      "14247.311012518181 15.625\n",
      "14403.59601160952 15.625\n",
      "14559.880862887034 15.625\n",
      "14716.165564485766 15.625\n",
      "14872.450114716308 15.625\n",
      "15028.73451185109 15.625\n",
      "15185.018754137309 15.625\n",
      "15341.302839830016 15.625\n",
      "15497.586767134528 15.625\n",
      "15653.870534341397 15.625\n",
      "15810.154188683144 15.625\n",
      "15966.437743888033 15.625\n",
      "16122.721221275198 15.625\n",
      "16279.004637832557 15.625\n",
      "16435.288006662173 15.625\n",
      "16591.57133810493 15.625\n",
      "16747.8546401713 15.625\n",
      "16904.137918993285 15.625\n",
      "17060.421179504916 15.625\n",
      "17216.7044254368 15.625\n",
      "17372.987659731887 15.625\n",
      "17529.2708847998 15.625\n",
      "17685.554114257782 15.625\n",
      "17841.837322597425 15.625\n",
      "17998.12052962814 15.625\n",
      "18154.403732913786 15.625\n",
      "18310.68693321236 15.625\n",
      "18466.97013107749 15.625\n",
      "18623.253326987327 15.625\n",
      "18779.536521417045 15.625\n",
      "18935.81971460119 15.625\n",
      "19092.102906833297 15.625\n",
      "19248.38609824898 15.625\n",
      "19404.66928903825 15.625\n",
      "19560.9524793103 15.625\n",
      "19717.235669182406 15.625\n",
      "19873.518858709427 15.625\n",
      "20029.80204796623 15.625\n",
      "20186.08523701713 15.625\n",
      "20342.368425937737 15.625\n",
      "20498.65161474292 15.625\n",
      "20654.93480345473 15.625\n",
      "20811.217992038302 15.625\n",
      "20967.50118054048 15.625\n",
      "21123.784368992983 15.625\n",
      "21280.06755741097 15.625\n",
      "21436.35074581307 15.625\n",
      "21592.63393419405 15.625\n",
      "21748.91712256039 15.625\n",
      "21905.200310924167 15.625\n",
      "22061.483499266993 15.625\n",
      "22217.76668760288 15.625\n",
      "22374.049875953104 15.625\n",
      "22530.333064292 15.625\n",
      "22686.616252654763 15.625\n",
      "22842.89944099658 15.625\n",
      "22999.182629360745 15.625\n",
      "23155.46581770222 15.625\n",
      "23311.749006056165 15.625\n",
      "23468.032194391577 15.625\n",
      "23624.315382752586 15.625\n",
      "23780.598571093316 15.625\n",
      "23936.881759453365 15.625\n",
      "24093.164947803463 15.625\n",
      "24249.448136153445 15.625\n",
      "24405.731324502915 15.625\n",
      "24562.014512853406 15.625\n"
     ]
    },
    {
     "ename": "ClientDisconnectedError",
     "evalue": "command 492 canceled due to disconnect",
     "output_type": "error",
     "traceback": [
      "\u001b[0;31m---------------------------------------------------------------------------\u001b[0m",
      "\u001b[0;31mClientDisconnectedError\u001b[0m                   Traceback (most recent call last)",
      "Cell \u001b[0;32mIn[19], line 1\u001b[0m\n\u001b[0;32m----> 1\u001b[0m (altitude_log, motor_log) \u001b[38;5;241m=\u001b[39m \u001b[38;5;28;01mawait\u001b[39;00m tune_altitude_control(ki_pos_z\u001b[38;5;241m=\u001b[39m\u001b[38;5;241m7.0\u001b[39m, kp_pos_z\u001b[38;5;241m=\u001b[39m\u001b[38;5;241m7.0\u001b[39m, kp_vel_z\u001b[38;5;241m=\u001b[39m\u001b[38;5;241m7.0\u001b[39m)\n\u001b[1;32m      3\u001b[0m plt\u001b[38;5;241m.\u001b[39mplot(altitude_log)\n\u001b[1;32m      4\u001b[0m plt\u001b[38;5;241m.\u001b[39mtitle(\u001b[38;5;124m\"\u001b[39m\u001b[38;5;124mAltitude\u001b[39m\u001b[38;5;124m\"\u001b[39m, fontsize\u001b[38;5;241m=\u001b[39m\u001b[38;5;241m20\u001b[39m)\n",
      "Cell \u001b[0;32mIn[17], line 33\u001b[0m, in \u001b[0;36mtune_altitude_control\u001b[0;34m(kp_pqr, ki_pos_z, kp_pos_z, kp_vel_z, kappa)\u001b[0m\n\u001b[1;32m     30\u001b[0m     altitude_log\u001b[38;5;241m.\u001b[39mappend(state[\u001b[38;5;124m'\u001b[39m\u001b[38;5;124mposition\u001b[39m\u001b[38;5;124m'\u001b[39m][\u001b[38;5;241m2\u001b[39m])\n\u001b[1;32m     31\u001b[0m     motor_log\u001b[38;5;241m.\u001b[39mappend(np\u001b[38;5;241m.\u001b[39mmean(motors))\n\u001b[0;32m---> 33\u001b[0m     state \u001b[38;5;241m=\u001b[39m \u001b[38;5;28;01mawait\u001b[39;00m sim_step(motors\u001b[38;5;241m.\u001b[39mtolist())\n\u001b[1;32m     35\u001b[0m \u001b[38;5;28;01mreturn\u001b[39;00m (altitude_log, motor_log)\n",
      "Cell \u001b[0;32mIn[5], line 3\u001b[0m, in \u001b[0;36msim_step\u001b[0;34m(motors)\u001b[0m\n\u001b[1;32m      1\u001b[0m \u001b[38;5;28;01masync\u001b[39;00m \u001b[38;5;28;01mdef\u001b[39;00m \u001b[38;5;21msim_step\u001b[39m(motors):\n\u001b[0;32m----> 3\u001b[0m     (sim_time, _, drone_state) \u001b[38;5;241m=\u001b[39m \u001b[38;5;28;01mawait\u001b[39;00m asyncio\u001b[38;5;241m.\u001b[39mgather(\n\u001b[1;32m      4\u001b[0m             sim\u001b[38;5;241m.\u001b[39mstep(),\n\u001b[1;32m      5\u001b[0m             sim\u001b[38;5;241m.\u001b[39mrpc(\u001b[38;5;124mf\u001b[39m\u001b[38;5;124m\"\u001b[39m\u001b[38;5;124mobject_\u001b[39m\u001b[38;5;132;01m{\u001b[39;00mentity\u001b[38;5;132;01m}\u001b[39;00m\u001b[38;5;124m.actuator_control\u001b[39m\u001b[38;5;124m\"\u001b[39m, motors),\n\u001b[1;32m      6\u001b[0m             sim\u001b[38;5;241m.\u001b[39mrpc(\u001b[38;5;124m\"\u001b[39m\u001b[38;5;124mscript.eval\u001b[39m\u001b[38;5;124m\"\u001b[39m, {\n\u001b[1;32m      7\u001b[0m                 \u001b[38;5;124m\"\u001b[39m\u001b[38;5;124mcode\u001b[39m\u001b[38;5;124m\"\u001b[39m: \u001b[38;5;124m\"\"\"\u001b[39m\u001b[38;5;124m{\u001b[39m\n\u001b[1;32m      8\u001b[0m \u001b[38;5;124m                    position = sim.object.position(ARGS),\u001b[39m\n\u001b[1;32m      9\u001b[0m \u001b[38;5;124m                    attitude = sim.object.rotation_quat(ARGS),\u001b[39m\n\u001b[1;32m     10\u001b[0m \u001b[38;5;124m                    velocity = sim.object.linear_velocity(ARGS),\u001b[39m\n\u001b[1;32m     11\u001b[0m \u001b[38;5;124m                    omega = sim.object.angular_velocity(ARGS),\u001b[39m\n\u001b[1;32m     12\u001b[0m \u001b[38;5;124m                    acceleration = sim.object.acceleration(ARGS),\u001b[39m\n\u001b[1;32m     13\u001b[0m \u001b[38;5;124m                }\u001b[39m\u001b[38;5;124m\"\"\"\u001b[39m,\n\u001b[1;32m     14\u001b[0m                 \u001b[38;5;124m\"\u001b[39m\u001b[38;5;124margs\u001b[39m\u001b[38;5;124m\"\u001b[39m: entity,\n\u001b[1;32m     15\u001b[0m             }),\n\u001b[1;32m     16\u001b[0m         )\n\u001b[1;32m     18\u001b[0m     acceleration \u001b[38;5;241m=\u001b[39m np\u001b[38;5;241m.\u001b[39marray([drone_state[\u001b[38;5;124m'\u001b[39m\u001b[38;5;124macceleration\u001b[39m\u001b[38;5;124m'\u001b[39m][\u001b[38;5;124m'\u001b[39m\u001b[38;5;124my\u001b[39m\u001b[38;5;124m'\u001b[39m],\n\u001b[1;32m     19\u001b[0m                              drone_state[\u001b[38;5;124m'\u001b[39m\u001b[38;5;124macceleration\u001b[39m\u001b[38;5;124m'\u001b[39m][\u001b[38;5;124m'\u001b[39m\u001b[38;5;124mx\u001b[39m\u001b[38;5;124m'\u001b[39m],\n\u001b[1;32m     20\u001b[0m                              drone_state[\u001b[38;5;124m'\u001b[39m\u001b[38;5;124macceleration\u001b[39m\u001b[38;5;124m'\u001b[39m][\u001b[38;5;124m'\u001b[39m\u001b[38;5;124mz\u001b[39m\u001b[38;5;124m'\u001b[39m]], dtype\u001b[38;5;241m=\u001b[39mnp\u001b[38;5;241m.\u001b[39mfloat64)\n\u001b[1;32m     22\u001b[0m     position \u001b[38;5;241m=\u001b[39m np\u001b[38;5;241m.\u001b[39marray([drone_state[\u001b[38;5;124m'\u001b[39m\u001b[38;5;124mposition\u001b[39m\u001b[38;5;124m'\u001b[39m][\u001b[38;5;124m'\u001b[39m\u001b[38;5;124my\u001b[39m\u001b[38;5;124m'\u001b[39m],\n\u001b[1;32m     23\u001b[0m                         drone_state[\u001b[38;5;124m'\u001b[39m\u001b[38;5;124mposition\u001b[39m\u001b[38;5;124m'\u001b[39m][\u001b[38;5;124m'\u001b[39m\u001b[38;5;124mx\u001b[39m\u001b[38;5;124m'\u001b[39m],\n\u001b[1;32m     24\u001b[0m                         drone_state[\u001b[38;5;124m'\u001b[39m\u001b[38;5;124mposition\u001b[39m\u001b[38;5;124m'\u001b[39m][\u001b[38;5;124m'\u001b[39m\u001b[38;5;124mz\u001b[39m\u001b[38;5;124m'\u001b[39m]], dtype\u001b[38;5;241m=\u001b[39mnp\u001b[38;5;241m.\u001b[39mfloat64)\n",
      "File \u001b[0;32m~/anaconda3/envs/jax/lib/python3.11/asyncio/tasks.py:349\u001b[0m, in \u001b[0;36mTask.__wakeup\u001b[0;34m(self, future)\u001b[0m\n\u001b[1;32m    347\u001b[0m \u001b[38;5;28;01mdef\u001b[39;00m \u001b[38;5;21m__wakeup\u001b[39m(\u001b[38;5;28mself\u001b[39m, future):\n\u001b[1;32m    348\u001b[0m     \u001b[38;5;28;01mtry\u001b[39;00m:\n\u001b[0;32m--> 349\u001b[0m         future\u001b[38;5;241m.\u001b[39mresult()\n\u001b[1;32m    350\u001b[0m     \u001b[38;5;28;01mexcept\u001b[39;00m \u001b[38;5;167;01mBaseException\u001b[39;00m \u001b[38;5;28;01mas\u001b[39;00m exc:\n\u001b[1;32m    351\u001b[0m         \u001b[38;5;66;03m# This may also be a cancellation.\u001b[39;00m\n\u001b[1;32m    352\u001b[0m         \u001b[38;5;28mself\u001b[39m\u001b[38;5;241m.\u001b[39m__step(exc)\n",
      "File \u001b[0;32m~/anaconda3/envs/jax/lib/python3.11/asyncio/tasks.py:279\u001b[0m, in \u001b[0;36mTask.__step\u001b[0;34m(***failed resolving arguments***)\u001b[0m\n\u001b[1;32m    277\u001b[0m         result \u001b[38;5;241m=\u001b[39m coro\u001b[38;5;241m.\u001b[39msend(\u001b[38;5;28;01mNone\u001b[39;00m)\n\u001b[1;32m    278\u001b[0m     \u001b[38;5;28;01melse\u001b[39;00m:\n\u001b[0;32m--> 279\u001b[0m         result \u001b[38;5;241m=\u001b[39m coro\u001b[38;5;241m.\u001b[39mthrow(exc)\n\u001b[1;32m    280\u001b[0m \u001b[38;5;28;01mexcept\u001b[39;00m \u001b[38;5;167;01mStopIteration\u001b[39;00m \u001b[38;5;28;01mas\u001b[39;00m exc:\n\u001b[1;32m    281\u001b[0m     \u001b[38;5;28;01mif\u001b[39;00m \u001b[38;5;28mself\u001b[39m\u001b[38;5;241m.\u001b[39m_must_cancel:\n\u001b[1;32m    282\u001b[0m         \u001b[38;5;66;03m# Task is cancelled right before coro stops.\u001b[39;00m\n",
      "File \u001b[0;32m~/code/robotics/intrepid-sim-recipes/intrepid_environment/simulator.py:27\u001b[0m, in \u001b[0;36mSimulator.rpc\u001b[0;34m(self, method, args)\u001b[0m\n\u001b[1;32m     26\u001b[0m \u001b[38;5;28;01masync\u001b[39;00m \u001b[38;5;28;01mdef\u001b[39;00m \u001b[38;5;21mrpc\u001b[39m(\u001b[38;5;28mself\u001b[39m, method, args\u001b[38;5;241m=\u001b[39m\u001b[38;5;28;01mNone\u001b[39;00m):\n\u001b[0;32m---> 27\u001b[0m     result \u001b[38;5;241m=\u001b[39m \u001b[38;5;28;01mawait\u001b[39;00m \u001b[38;5;28mself\u001b[39m\u001b[38;5;241m.\u001b[39mclient\u001b[38;5;241m.\u001b[39mrpc(method, args)\n\u001b[1;32m     28\u001b[0m     \u001b[38;5;28;01mreturn\u001b[39;00m result\u001b[38;5;241m.\u001b[39mdata\n",
      "File \u001b[0;32m~/anaconda3/envs/jax/lib/python3.11/site-packages/centrifuge/client.py:1075\u001b[0m, in \u001b[0;36mClient.rpc\u001b[0;34m(self, method, data, timeout)\u001b[0m\n\u001b[1;32m   1073\u001b[0m future \u001b[38;5;241m=\u001b[39m \u001b[38;5;28mself\u001b[39m\u001b[38;5;241m.\u001b[39m_register_future(cmd_id, timeout \u001b[38;5;129;01mor\u001b[39;00m \u001b[38;5;28mself\u001b[39m\u001b[38;5;241m.\u001b[39m_timeout)\n\u001b[1;32m   1074\u001b[0m \u001b[38;5;28;01mawait\u001b[39;00m \u001b[38;5;28mself\u001b[39m\u001b[38;5;241m.\u001b[39m_send_commands([command])\n\u001b[0;32m-> 1075\u001b[0m reply \u001b[38;5;241m=\u001b[39m \u001b[38;5;28;01mawait\u001b[39;00m future\n\u001b[1;32m   1076\u001b[0m \u001b[38;5;28mself\u001b[39m\u001b[38;5;241m.\u001b[39m_check_reply_error(reply)\n\u001b[1;32m   1077\u001b[0m \u001b[38;5;28;01mreturn\u001b[39;00m RpcResult(\n\u001b[1;32m   1078\u001b[0m     data\u001b[38;5;241m=\u001b[39m\u001b[38;5;28mself\u001b[39m\u001b[38;5;241m.\u001b[39m_decode_data(reply[\u001b[38;5;124m\"\u001b[39m\u001b[38;5;124mrpc\u001b[39m\u001b[38;5;124m\"\u001b[39m]\u001b[38;5;241m.\u001b[39mget(\u001b[38;5;124m\"\u001b[39m\u001b[38;5;124mdata\u001b[39m\u001b[38;5;124m\"\u001b[39m)),\n\u001b[1;32m   1079\u001b[0m )\n",
      "File \u001b[0;32m~/anaconda3/envs/jax/lib/python3.11/asyncio/futures.py:287\u001b[0m, in \u001b[0;36mFuture.__await__\u001b[0;34m(self)\u001b[0m\n\u001b[1;32m    285\u001b[0m \u001b[38;5;28;01mif\u001b[39;00m \u001b[38;5;129;01mnot\u001b[39;00m \u001b[38;5;28mself\u001b[39m\u001b[38;5;241m.\u001b[39mdone():\n\u001b[1;32m    286\u001b[0m     \u001b[38;5;28mself\u001b[39m\u001b[38;5;241m.\u001b[39m_asyncio_future_blocking \u001b[38;5;241m=\u001b[39m \u001b[38;5;28;01mTrue\u001b[39;00m\n\u001b[0;32m--> 287\u001b[0m     \u001b[38;5;28;01myield\u001b[39;00m \u001b[38;5;28mself\u001b[39m  \u001b[38;5;66;03m# This tells Task to wait for completion.\u001b[39;00m\n\u001b[1;32m    288\u001b[0m \u001b[38;5;28;01mif\u001b[39;00m \u001b[38;5;129;01mnot\u001b[39;00m \u001b[38;5;28mself\u001b[39m\u001b[38;5;241m.\u001b[39mdone():\n\u001b[1;32m    289\u001b[0m     \u001b[38;5;28;01mraise\u001b[39;00m \u001b[38;5;167;01mRuntimeError\u001b[39;00m(\u001b[38;5;124m\"\u001b[39m\u001b[38;5;124mawait wasn\u001b[39m\u001b[38;5;124m'\u001b[39m\u001b[38;5;124mt used with future\u001b[39m\u001b[38;5;124m\"\u001b[39m)\n",
      "File \u001b[0;32m~/anaconda3/envs/jax/lib/python3.11/asyncio/tasks.py:349\u001b[0m, in \u001b[0;36mTask.__wakeup\u001b[0;34m(self, future)\u001b[0m\n\u001b[1;32m    347\u001b[0m \u001b[38;5;28;01mdef\u001b[39;00m \u001b[38;5;21m__wakeup\u001b[39m(\u001b[38;5;28mself\u001b[39m, future):\n\u001b[1;32m    348\u001b[0m     \u001b[38;5;28;01mtry\u001b[39;00m:\n\u001b[0;32m--> 349\u001b[0m         future\u001b[38;5;241m.\u001b[39mresult()\n\u001b[1;32m    350\u001b[0m     \u001b[38;5;28;01mexcept\u001b[39;00m \u001b[38;5;167;01mBaseException\u001b[39;00m \u001b[38;5;28;01mas\u001b[39;00m exc:\n\u001b[1;32m    351\u001b[0m         \u001b[38;5;66;03m# This may also be a cancellation.\u001b[39;00m\n\u001b[1;32m    352\u001b[0m         \u001b[38;5;28mself\u001b[39m\u001b[38;5;241m.\u001b[39m__step(exc)\n",
      "File \u001b[0;32m~/anaconda3/envs/jax/lib/python3.11/asyncio/futures.py:203\u001b[0m, in \u001b[0;36mFuture.result\u001b[0;34m(self)\u001b[0m\n\u001b[1;32m    201\u001b[0m \u001b[38;5;28mself\u001b[39m\u001b[38;5;241m.\u001b[39m__log_traceback \u001b[38;5;241m=\u001b[39m \u001b[38;5;28;01mFalse\u001b[39;00m\n\u001b[1;32m    202\u001b[0m \u001b[38;5;28;01mif\u001b[39;00m \u001b[38;5;28mself\u001b[39m\u001b[38;5;241m.\u001b[39m_exception \u001b[38;5;129;01mis\u001b[39;00m \u001b[38;5;129;01mnot\u001b[39;00m \u001b[38;5;28;01mNone\u001b[39;00m:\n\u001b[0;32m--> 203\u001b[0m     \u001b[38;5;28;01mraise\u001b[39;00m \u001b[38;5;28mself\u001b[39m\u001b[38;5;241m.\u001b[39m_exception\u001b[38;5;241m.\u001b[39mwith_traceback(\u001b[38;5;28mself\u001b[39m\u001b[38;5;241m.\u001b[39m_exception_tb)\n\u001b[1;32m    204\u001b[0m \u001b[38;5;28;01mreturn\u001b[39;00m \u001b[38;5;28mself\u001b[39m\u001b[38;5;241m.\u001b[39m_result\n",
      "\u001b[0;31mClientDisconnectedError\u001b[0m: command 492 canceled due to disconnect"
     ]
    }
   ],
   "source": [
    "(altitude_log, motor_log) = await tune_altitude_control(ki_pos_z=7.0, kp_pos_z=7.0, kp_vel_z=7.0)\n",
    "\n",
    "plt.plot(altitude_log)\n",
    "plt.title(\"Altitude\", fontsize=20)\n",
    "plt.show()\n",
    "\n",
    "plt.plot(motor_log)\n",
    "plt.title(\"Motor cmds\", fontsize=20)\n",
    "plt.show()"
   ]
  },
  {
   "cell_type": "code",
   "execution_count": null,
   "id": "09e302f6",
   "metadata": {},
   "outputs": [],
   "source": []
  }
 ],
 "metadata": {
  "kernelspec": {
   "display_name": "jax",
   "language": "python",
   "name": "python3"
  },
  "language_info": {
   "codemirror_mode": {
    "name": "ipython",
    "version": 3
   },
   "file_extension": ".py",
   "mimetype": "text/x-python",
   "name": "python",
   "nbconvert_exporter": "python",
   "pygments_lexer": "ipython3",
   "version": "3.11.7"
  }
 },
 "nbformat": 4,
 "nbformat_minor": 5
}
