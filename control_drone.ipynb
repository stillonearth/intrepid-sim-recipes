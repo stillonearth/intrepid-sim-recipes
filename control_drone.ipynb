{
 "cells": [
  {
   "cell_type": "code",
   "execution_count": 2,
   "id": "151b1c34",
   "metadata": {},
   "outputs": [],
   "source": [
    "import asyncio\n",
    "import numpy as np\n",
    "import quaternion\n",
    "\n",
    "from intrepid_environment.simulator import Simulator"
   ]
  },
  {
   "cell_type": "code",
   "execution_count": 3,
   "id": "5198c3dd",
   "metadata": {},
   "outputs": [],
   "source": [
    "import nest_asyncio\n",
    "nest_asyncio.apply()"
   ]
  },
  {
   "cell_type": "code",
   "execution_count": 4,
   "id": "1bcf8f83",
   "metadata": {},
   "outputs": [],
   "source": [
    "sim = Simulator()\n",
    "await sim.connect()\n",
    "\n",
    "await sim.rpc(\"session.restart\")\n",
    "entity = await sim.rpc(\"map.spawn_uav\", {\n",
    "    \"robot_id\": 0,\n",
    "    \"position\": {\n",
    "        \"x\": 0,\n",
    "        \"y\": 0,\n",
    "        \"z\": 0,\n",
    "    },\n",
    "})\n",
    "await sim.rpc(\"session.run\")"
   ]
  },
  {
   "cell_type": "markdown",
   "id": "6a5b739b",
   "metadata": {},
   "source": [
    "Setup trajectory for drone to follow."
   ]
  },
  {
   "cell_type": "code",
   "execution_count": 5,
   "id": "964e93a4",
   "metadata": {},
   "outputs": [],
   "source": [
    "from quadcopter_control.trajectory import Trajectory, TrajectoryPoint"
   ]
  },
  {
   "cell_type": "code",
   "execution_count": 6,
   "id": "61328f80",
   "metadata": {},
   "outputs": [],
   "source": [
    "async def sim_step(motors):\n",
    "\n",
    "    (sim_time, _, drone_state) = await asyncio.gather(\n",
    "            sim.step(),\n",
    "            sim.rpc(f\"object_{entity}.actuator_control\", motors),\n",
    "            sim.rpc(\"script.eval\", {\n",
    "                \"code\": \"\"\"{\n",
    "                    position = sim.object.position(ARGS),\n",
    "                    attitude = sim.object.rotation_quat(ARGS),\n",
    "                    velocity = sim.object.linear_velocity(ARGS),\n",
    "                    omega = sim.object.angular_velocity(ARGS),\n",
    "                    acceleration = sim.object.acceleration(ARGS),\n",
    "                }\"\"\",\n",
    "                \"args\": entity,\n",
    "            }),\n",
    "        )\n",
    "\n",
    "    acceleration = np.array([drone_state['acceleration']['y'],\n",
    "                             drone_state['acceleration']['x'],\n",
    "                             drone_state['acceleration']['z']], dtype=np.float64)\n",
    "\n",
    "    position = np.array([drone_state['position']['y'],\n",
    "                        drone_state['position']['x'],\n",
    "                        drone_state['position']['z']], dtype=np.float64)\n",
    "\n",
    "    velocity = np.array([drone_state['velocity']['y'],\n",
    "                        drone_state['velocity']['x'],\n",
    "                        drone_state['velocity']['z']], dtype=np.float64)\n",
    "\n",
    "    attitude = np.quaternion(drone_state['attitude'][3],\n",
    "                             drone_state['attitude'][0],\n",
    "                             drone_state['attitude'][1],\n",
    "                             drone_state['attitude'][2])\n",
    "\n",
    "    omega = np.array([drone_state['omega']['xy'],\n",
    "                     drone_state['omega']['zx'],\n",
    "                     drone_state['omega']['yz']], dtype=np.float64)\n",
    "\n",
    "    return {\n",
    "        'time': sim_time,\n",
    "        'acceleration': acceleration,\n",
    "        'position': position,\n",
    "        'velocity': velocity,\n",
    "        'attitude': attitude,\n",
    "        'omega': omega\n",
    "    }"
   ]
  },
  {
   "cell_type": "code",
   "execution_count": 7,
   "id": "67cc357e",
   "metadata": {},
   "outputs": [],
   "source": [
    "async def get_trajectory_with_initial_position():\n",
    "    state = await sim_step([0, 0, 0, 0])\n",
    "\n",
    "    starting_point = TrajectoryPoint(\n",
    "        time=state['time'],\n",
    "        acceleration=state['acceleration'],\n",
    "        attitude=state['attitude'],\n",
    "        omega=state['omega'],\n",
    "        position=state['position'],\n",
    "        velocity=state['velocity'],\n",
    "    )\n",
    "\n",
    "    trajectory = Trajectory()\n",
    "    trajectory.add_point(starting_point)\n",
    "\n",
    "    return trajectory"
   ]
  },
  {
   "cell_type": "code",
   "execution_count": 8,
   "id": "312968e9",
   "metadata": {},
   "outputs": [],
   "source": [
    "trajectory_time_offset = 0\n",
    "dp = np.zeros(3)\n",
    "\n",
    "def get_next_trajectory_point(trajectory, sim_time, dt, dp):\n",
    "    pt = trajectory.next_trajectory_point((sim_time + dt) / 1000.0)\n",
    "    pt.position += dp\n",
    "    return pt"
   ]
  },
  {
   "cell_type": "code",
   "execution_count": 9,
   "id": "5ebd4b96",
   "metadata": {},
   "outputs": [],
   "source": [
    "from quadcopter_control.controller import QuadcopterController, calculate_drone_moment_of_inertia"
   ]
  },
  {
   "cell_type": "code",
   "execution_count": 10,
   "id": "fac945f7",
   "metadata": {},
   "outputs": [],
   "source": [
    "DRONE_HEIGHT = 0.028\n",
    "DRONE_RADIUS = 0.05\n",
    "DRONE_MASS = 0.041"
   ]
  },
  {
   "cell_type": "code",
   "execution_count": 11,
   "id": "e8bb6a02",
   "metadata": {},
   "outputs": [
    {
     "data": {
      "text/plain": [
       "(2.830366666666667e-05, 2.830366666666667e-05, 5.125000000000001e-05)"
      ]
     },
     "execution_count": 11,
     "metadata": {},
     "output_type": "execute_result"
    }
   ],
   "source": [
    "(Ixx, Iyy, Izz) = calculate_drone_moment_of_inertia(DRONE_HEIGHT, DRONE_RADIUS, DRONE_MASS)\n",
    "(Ixx, Iyy, Izz)"
   ]
  },
  {
   "cell_type": "markdown",
   "id": "fe3135cd",
   "metadata": {},
   "source": [
    "## Scenario 0: Zero Gains\n",
    "\n",
    "Test whether controller runs without controller gains set."
   ]
  },
  {
   "cell_type": "code",
   "execution_count": 12,
   "id": "0816a8eb",
   "metadata": {},
   "outputs": [],
   "source": [
    "trajectory = await get_trajectory_with_initial_position()"
   ]
  },
  {
   "cell_type": "code",
   "execution_count": 13,
   "id": "4d9543e1",
   "metadata": {},
   "outputs": [],
   "source": [
    "DT_MS = 15.625 # 64 hz"
   ]
  },
  {
   "cell_type": "code",
   "execution_count": 14,
   "id": "d0e36ca8",
   "metadata": {},
   "outputs": [],
   "source": [
    "quadcopter_controller = QuadcopterController(\n",
    "    DT_MS / 1e3,\n",
    "    DRONE_MASS,\n",
    "    Ixx, Iyy, Izz,\n",
    "    max_tilt_angle=0.22,\n",
    "    max_ascent_rate=20.0\n",
    ")"
   ]
  },
  {
   "cell_type": "code",
   "execution_count": 15,
   "id": "11449622",
   "metadata": {},
   "outputs": [],
   "source": [
    "trajectory = await get_trajectory_with_initial_position()\n",
    "\n",
    "MOTOR_SCALE = 150\n",
    "\n",
    "async def control_step(state):\n",
    "    motors = quadcopter_controller.run_control(\n",
    "        traj_pt=trajectory.next_trajectory_point((state['time'] + DT_MS*1e3)/1e6),\n",
    "        est_pos=state['position'],\n",
    "        est_vel=state['velocity'],\n",
    "        est_omega=state['omega'],\n",
    "        est_att=state['attitude'],\n",
    "    ) * MOTOR_SCALE\n",
    "\n",
    "    return await sim_step(motors.tolist())"
   ]
  },
  {
   "cell_type": "markdown",
   "id": "ccb7f9f7",
   "metadata": {},
   "source": [
    "## Scenario 1: Altitude Control\n",
    "\n",
    "Tune gains until drone stays in place. on a desired height."
   ]
  },
  {
   "cell_type": "code",
   "execution_count": 16,
   "id": "99a15775",
   "metadata": {},
   "outputs": [],
   "source": [
    "state = await sim_step([0, 0, 0, 0])\n",
    "trajectory = await get_trajectory_with_initial_position()"
   ]
  },
  {
   "cell_type": "code",
   "execution_count": 17,
   "id": "20110900",
   "metadata": {},
   "outputs": [],
   "source": [
    "# add 500 datapoints so drone stays in place\n",
    "sim_time = (await sim_step([0, 0, 0, 0]))['time']\n",
    "n_episodes = 300\n",
    "\n",
    "for i in range(0, n_episodes):\n",
    "    trajectory.add_point(TrajectoryPoint(\n",
    "        time=(sim_time + (i*DT_MS*1e3) / 1e6),\n",
    "        position=np.array([5.0, 5.0, 5.0]),\n",
    "        velocity=np.zeros(3),\n",
    "        acceleration=np.zeros(3),\n",
    "        attitude=np.quaternion(1.0, 0.0, 0.0, 0.0),\n",
    "        omega=np.array([0.1, 0.1, 0.1])\n",
    "    ))\n",
    "\n",
    "n_points = 0\n",
    "x2 = 10.\n",
    "x1 = 1.\n",
    "\n",
    "for _ in range(0, n_points):\n",
    "\n",
    "    random_point = np.array([\n",
    "            (x2 - x1)*np.random.rand() + x1,\n",
    "            (x2 - x1)*np.random.rand() + x1,\n",
    "            (x2 - x1)*np.random.rand() + x1,\n",
    "        ])\n",
    "    print(random_point)\n",
    "\n",
    "    for i in range(0, n_episodes):\n",
    "        \n",
    "        trajectory.add_point(TrajectoryPoint(\n",
    "            time=(sim_time + ((i+1)*DT_MS*1e3) / 1e6),\n",
    "            position=random_point,\n",
    "            velocity=np.zeros(3),\n",
    "            acceleration=np.zeros(3),\n",
    "            attitude=np.quaternion(1.0, 0.0, 0.0, 0.0),\n",
    "            omega=np.array([0.0, 0.0, 0.0])\n",
    "        ))"
   ]
  },
  {
   "cell_type": "code",
   "execution_count": 18,
   "id": "2bf6e759",
   "metadata": {},
   "outputs": [],
   "source": [
    "async def tune_altitude_control(\n",
    "        kp_pqr=np.array([95.0, 95.0, 6.0]),\n",
    "        kp_bank=0.0,\n",
    "        kp_pos_z=0.0,\n",
    "        kp_vel_z=0.0,\n",
    "        ki_pos_z=0.0,\n",
    "        kp_pos_xy=0.0,\n",
    "        kp_yaw=0.0,\n",
    "        kp_vel_xy=0.0,\n",
    "        kappa=1.0\n",
    "):\n",
    "\n",
    "    quadcopter_controller.set_gains(\n",
    "        kp_pqr=kp_pqr,\n",
    "        kp_bank=kp_bank,\n",
    "        kp_pos_z=kp_pos_z,\n",
    "        kp_vel_z=kp_vel_z,\n",
    "        ki_pos_z=ki_pos_z,\n",
    "        kp_pos_xy=kp_pos_xy,\n",
    "        kp_yaw=kp_yaw,\n",
    "        kp_vel_xy=kp_vel_xy,\n",
    "        kappa=kappa\n",
    "    )\n",
    "\n",
    "    positions = []\n",
    "    motor_log = []\n",
    "\n",
    "    state = await sim_step([0, 0, 0, 0])\n",
    "\n",
    "    for _ in range((n_points + 1) * n_episodes):\n",
    "        traj_pt = trajectory.next_trajectory_point(\n",
    "            (state['time'] + DT_MS * 1e3) / 1e6)\n",
    "\n",
    "        motors = quadcopter_controller.run_control(\n",
    "            traj_pt,\n",
    "            state['position'],\n",
    "            state['velocity'],\n",
    "            state['omega'],\n",
    "            state['attitude'],\n",
    "        )\n",
    "\n",
    "        motors *= MOTOR_SCALE\n",
    "        motors = np.clip(motors, 45, 100)\n",
    "\n",
    "        positions.append(state['position'])\n",
    "        motor_log.append(np.mean(motors))\n",
    "\n",
    "        state = await sim_step(motors.tolist())\n",
    "\n",
    "    return (np.array(positions), motor_log)"
   ]
  },
  {
   "cell_type": "code",
   "execution_count": null,
   "id": "4136d092",
   "metadata": {},
   "outputs": [],
   "source": [
    "await sim.rpc(\"session.restart\")\n",
    "entity = await sim.rpc(\"map.spawn_uav\", {\n",
    "    \"robot_id\": 0,\n",
    "    \"position\": {\n",
    "        \"x\": 0,\n",
    "        \"y\": 0,\n",
    "        \"z\": 0,\n",
    "    },\n",
    "})\n",
    "await sim.rpc(\"session.run\")"
   ]
  },
  {
   "cell_type": "code",
   "execution_count": 19,
   "id": "ff08a9d0",
   "metadata": {},
   "outputs": [],
   "source": [
    "import matplotlib.pyplot as plt"
   ]
  },
  {
   "cell_type": "code",
   "execution_count": 20,
   "id": "c89d3ca5",
   "metadata": {},
   "outputs": [
    {
     "ename": "ClientDisconnectedError",
     "evalue": "command 480 canceled due to disconnect",
     "output_type": "error",
     "traceback": [
      "\u001b[0;31m---------------------------------------------------------------------------\u001b[0m",
      "\u001b[0;31mClientDisconnectedError\u001b[0m                   Traceback (most recent call last)",
      "Cell \u001b[0;32mIn[20], line 3\u001b[0m\n\u001b[1;32m      1\u001b[0m \u001b[38;5;66;03m# stable altitude\u001b[39;00m\n\u001b[0;32m----> 3\u001b[0m (positions, motor_log) \u001b[38;5;241m=\u001b[39m \u001b[38;5;28;01mawait\u001b[39;00m tune_altitude_control(\n\u001b[1;32m      4\u001b[0m     kp_pqr\u001b[38;5;241m=\u001b[39mnp\u001b[38;5;241m.\u001b[39marray([\u001b[38;5;241m95.0\u001b[39m, \u001b[38;5;241m95.0\u001b[39m, \u001b[38;5;241m6.0\u001b[39m]),\n\u001b[1;32m      5\u001b[0m     ki_pos_z\u001b[38;5;241m=\u001b[39m\u001b[38;5;241m1.0\u001b[39m,\n\u001b[1;32m      6\u001b[0m     kp_pos_z\u001b[38;5;241m=\u001b[39m\u001b[38;5;241m1.0\u001b[39m,\n\u001b[1;32m      7\u001b[0m     kp_vel_z\u001b[38;5;241m=\u001b[39m\u001b[38;5;241m1.0\u001b[39m,\n\u001b[1;32m      8\u001b[0m     kp_pos_xy\u001b[38;5;241m=\u001b[39m\u001b[38;5;241m1.0\u001b[39m,\n\u001b[1;32m      9\u001b[0m     kp_vel_xy\u001b[38;5;241m=\u001b[39m\u001b[38;5;241m1.0\u001b[39m,\n\u001b[1;32m     10\u001b[0m     kp_yaw\u001b[38;5;241m=\u001b[39m\u001b[38;5;241m1.0\u001b[39m,\n\u001b[1;32m     11\u001b[0m     kp_bank\u001b[38;5;241m=\u001b[39m\u001b[38;5;241m1.0\u001b[39m\n\u001b[1;32m     12\u001b[0m )\n",
      "Cell \u001b[0;32mIn[18], line 48\u001b[0m, in \u001b[0;36mtune_altitude_control\u001b[0;34m(kp_pqr, kp_bank, kp_pos_z, kp_vel_z, ki_pos_z, kp_pos_xy, kp_yaw, kp_vel_xy, kappa)\u001b[0m\n\u001b[1;32m     45\u001b[0m     positions\u001b[38;5;241m.\u001b[39mappend(state[\u001b[38;5;124m'\u001b[39m\u001b[38;5;124mposition\u001b[39m\u001b[38;5;124m'\u001b[39m])\n\u001b[1;32m     46\u001b[0m     motor_log\u001b[38;5;241m.\u001b[39mappend(np\u001b[38;5;241m.\u001b[39mmean(motors))\n\u001b[0;32m---> 48\u001b[0m     state \u001b[38;5;241m=\u001b[39m \u001b[38;5;28;01mawait\u001b[39;00m sim_step(motors\u001b[38;5;241m.\u001b[39mtolist())\n\u001b[1;32m     50\u001b[0m \u001b[38;5;28;01mreturn\u001b[39;00m (np\u001b[38;5;241m.\u001b[39marray(positions), motor_log)\n",
      "Cell \u001b[0;32mIn[6], line 3\u001b[0m, in \u001b[0;36msim_step\u001b[0;34m(motors)\u001b[0m\n\u001b[1;32m      1\u001b[0m \u001b[38;5;28;01masync\u001b[39;00m \u001b[38;5;28;01mdef\u001b[39;00m \u001b[38;5;21msim_step\u001b[39m(motors):\n\u001b[0;32m----> 3\u001b[0m     (sim_time, _, drone_state) \u001b[38;5;241m=\u001b[39m \u001b[38;5;28;01mawait\u001b[39;00m asyncio\u001b[38;5;241m.\u001b[39mgather(\n\u001b[1;32m      4\u001b[0m             sim\u001b[38;5;241m.\u001b[39mstep(),\n\u001b[1;32m      5\u001b[0m             sim\u001b[38;5;241m.\u001b[39mrpc(\u001b[38;5;124mf\u001b[39m\u001b[38;5;124m\"\u001b[39m\u001b[38;5;124mobject_\u001b[39m\u001b[38;5;132;01m{\u001b[39;00mentity\u001b[38;5;132;01m}\u001b[39;00m\u001b[38;5;124m.actuator_control\u001b[39m\u001b[38;5;124m\"\u001b[39m, motors),\n\u001b[1;32m      6\u001b[0m             sim\u001b[38;5;241m.\u001b[39mrpc(\u001b[38;5;124m\"\u001b[39m\u001b[38;5;124mscript.eval\u001b[39m\u001b[38;5;124m\"\u001b[39m, {\n\u001b[1;32m      7\u001b[0m                 \u001b[38;5;124m\"\u001b[39m\u001b[38;5;124mcode\u001b[39m\u001b[38;5;124m\"\u001b[39m: \u001b[38;5;124m\"\"\"\u001b[39m\u001b[38;5;124m{\u001b[39m\n\u001b[1;32m      8\u001b[0m \u001b[38;5;124m                    position = sim.object.position(ARGS),\u001b[39m\n\u001b[1;32m      9\u001b[0m \u001b[38;5;124m                    attitude = sim.object.rotation_quat(ARGS),\u001b[39m\n\u001b[1;32m     10\u001b[0m \u001b[38;5;124m                    velocity = sim.object.linear_velocity(ARGS),\u001b[39m\n\u001b[1;32m     11\u001b[0m \u001b[38;5;124m                    omega = sim.object.angular_velocity(ARGS),\u001b[39m\n\u001b[1;32m     12\u001b[0m \u001b[38;5;124m                    acceleration = sim.object.acceleration(ARGS),\u001b[39m\n\u001b[1;32m     13\u001b[0m \u001b[38;5;124m                }\u001b[39m\u001b[38;5;124m\"\"\"\u001b[39m,\n\u001b[1;32m     14\u001b[0m                 \u001b[38;5;124m\"\u001b[39m\u001b[38;5;124margs\u001b[39m\u001b[38;5;124m\"\u001b[39m: entity,\n\u001b[1;32m     15\u001b[0m             }),\n\u001b[1;32m     16\u001b[0m         )\n\u001b[1;32m     18\u001b[0m     acceleration \u001b[38;5;241m=\u001b[39m np\u001b[38;5;241m.\u001b[39marray([drone_state[\u001b[38;5;124m'\u001b[39m\u001b[38;5;124macceleration\u001b[39m\u001b[38;5;124m'\u001b[39m][\u001b[38;5;124m'\u001b[39m\u001b[38;5;124my\u001b[39m\u001b[38;5;124m'\u001b[39m],\n\u001b[1;32m     19\u001b[0m                              drone_state[\u001b[38;5;124m'\u001b[39m\u001b[38;5;124macceleration\u001b[39m\u001b[38;5;124m'\u001b[39m][\u001b[38;5;124m'\u001b[39m\u001b[38;5;124mx\u001b[39m\u001b[38;5;124m'\u001b[39m],\n\u001b[1;32m     20\u001b[0m                              drone_state[\u001b[38;5;124m'\u001b[39m\u001b[38;5;124macceleration\u001b[39m\u001b[38;5;124m'\u001b[39m][\u001b[38;5;124m'\u001b[39m\u001b[38;5;124mz\u001b[39m\u001b[38;5;124m'\u001b[39m]], dtype\u001b[38;5;241m=\u001b[39mnp\u001b[38;5;241m.\u001b[39mfloat64)\n\u001b[1;32m     22\u001b[0m     position \u001b[38;5;241m=\u001b[39m np\u001b[38;5;241m.\u001b[39marray([drone_state[\u001b[38;5;124m'\u001b[39m\u001b[38;5;124mposition\u001b[39m\u001b[38;5;124m'\u001b[39m][\u001b[38;5;124m'\u001b[39m\u001b[38;5;124my\u001b[39m\u001b[38;5;124m'\u001b[39m],\n\u001b[1;32m     23\u001b[0m                         drone_state[\u001b[38;5;124m'\u001b[39m\u001b[38;5;124mposition\u001b[39m\u001b[38;5;124m'\u001b[39m][\u001b[38;5;124m'\u001b[39m\u001b[38;5;124mx\u001b[39m\u001b[38;5;124m'\u001b[39m],\n\u001b[1;32m     24\u001b[0m                         drone_state[\u001b[38;5;124m'\u001b[39m\u001b[38;5;124mposition\u001b[39m\u001b[38;5;124m'\u001b[39m][\u001b[38;5;124m'\u001b[39m\u001b[38;5;124mz\u001b[39m\u001b[38;5;124m'\u001b[39m]], dtype\u001b[38;5;241m=\u001b[39mnp\u001b[38;5;241m.\u001b[39mfloat64)\n",
      "File \u001b[0;32m~/anaconda3/envs/jax/lib/python3.11/asyncio/tasks.py:349\u001b[0m, in \u001b[0;36mTask.__wakeup\u001b[0;34m(self, future)\u001b[0m\n\u001b[1;32m    347\u001b[0m \u001b[38;5;28;01mdef\u001b[39;00m \u001b[38;5;21m__wakeup\u001b[39m(\u001b[38;5;28mself\u001b[39m, future):\n\u001b[1;32m    348\u001b[0m     \u001b[38;5;28;01mtry\u001b[39;00m:\n\u001b[0;32m--> 349\u001b[0m         future\u001b[38;5;241m.\u001b[39mresult()\n\u001b[1;32m    350\u001b[0m     \u001b[38;5;28;01mexcept\u001b[39;00m \u001b[38;5;167;01mBaseException\u001b[39;00m \u001b[38;5;28;01mas\u001b[39;00m exc:\n\u001b[1;32m    351\u001b[0m         \u001b[38;5;66;03m# This may also be a cancellation.\u001b[39;00m\n\u001b[1;32m    352\u001b[0m         \u001b[38;5;28mself\u001b[39m\u001b[38;5;241m.\u001b[39m__step(exc)\n",
      "File \u001b[0;32m~/anaconda3/envs/jax/lib/python3.11/asyncio/tasks.py:279\u001b[0m, in \u001b[0;36mTask.__step\u001b[0;34m(***failed resolving arguments***)\u001b[0m\n\u001b[1;32m    277\u001b[0m         result \u001b[38;5;241m=\u001b[39m coro\u001b[38;5;241m.\u001b[39msend(\u001b[38;5;28;01mNone\u001b[39;00m)\n\u001b[1;32m    278\u001b[0m     \u001b[38;5;28;01melse\u001b[39;00m:\n\u001b[0;32m--> 279\u001b[0m         result \u001b[38;5;241m=\u001b[39m coro\u001b[38;5;241m.\u001b[39mthrow(exc)\n\u001b[1;32m    280\u001b[0m \u001b[38;5;28;01mexcept\u001b[39;00m \u001b[38;5;167;01mStopIteration\u001b[39;00m \u001b[38;5;28;01mas\u001b[39;00m exc:\n\u001b[1;32m    281\u001b[0m     \u001b[38;5;28;01mif\u001b[39;00m \u001b[38;5;28mself\u001b[39m\u001b[38;5;241m.\u001b[39m_must_cancel:\n\u001b[1;32m    282\u001b[0m         \u001b[38;5;66;03m# Task is cancelled right before coro stops.\u001b[39;00m\n",
      "File \u001b[0;32m~/code/robotics/intrepid-sim-recipes/intrepid_environment/simulator.py:27\u001b[0m, in \u001b[0;36mSimulator.rpc\u001b[0;34m(self, method, args)\u001b[0m\n\u001b[1;32m     26\u001b[0m \u001b[38;5;28;01masync\u001b[39;00m \u001b[38;5;28;01mdef\u001b[39;00m \u001b[38;5;21mrpc\u001b[39m(\u001b[38;5;28mself\u001b[39m, method, args\u001b[38;5;241m=\u001b[39m\u001b[38;5;28;01mNone\u001b[39;00m):\n\u001b[0;32m---> 27\u001b[0m     result \u001b[38;5;241m=\u001b[39m \u001b[38;5;28;01mawait\u001b[39;00m \u001b[38;5;28mself\u001b[39m\u001b[38;5;241m.\u001b[39mclient\u001b[38;5;241m.\u001b[39mrpc(method, args)\n\u001b[1;32m     28\u001b[0m     \u001b[38;5;28;01mreturn\u001b[39;00m result\u001b[38;5;241m.\u001b[39mdata\n",
      "File \u001b[0;32m~/anaconda3/envs/jax/lib/python3.11/site-packages/centrifuge/client.py:1075\u001b[0m, in \u001b[0;36mClient.rpc\u001b[0;34m(self, method, data, timeout)\u001b[0m\n\u001b[1;32m   1073\u001b[0m future \u001b[38;5;241m=\u001b[39m \u001b[38;5;28mself\u001b[39m\u001b[38;5;241m.\u001b[39m_register_future(cmd_id, timeout \u001b[38;5;129;01mor\u001b[39;00m \u001b[38;5;28mself\u001b[39m\u001b[38;5;241m.\u001b[39m_timeout)\n\u001b[1;32m   1074\u001b[0m \u001b[38;5;28;01mawait\u001b[39;00m \u001b[38;5;28mself\u001b[39m\u001b[38;5;241m.\u001b[39m_send_commands([command])\n\u001b[0;32m-> 1075\u001b[0m reply \u001b[38;5;241m=\u001b[39m \u001b[38;5;28;01mawait\u001b[39;00m future\n\u001b[1;32m   1076\u001b[0m \u001b[38;5;28mself\u001b[39m\u001b[38;5;241m.\u001b[39m_check_reply_error(reply)\n\u001b[1;32m   1077\u001b[0m \u001b[38;5;28;01mreturn\u001b[39;00m RpcResult(\n\u001b[1;32m   1078\u001b[0m     data\u001b[38;5;241m=\u001b[39m\u001b[38;5;28mself\u001b[39m\u001b[38;5;241m.\u001b[39m_decode_data(reply[\u001b[38;5;124m\"\u001b[39m\u001b[38;5;124mrpc\u001b[39m\u001b[38;5;124m\"\u001b[39m]\u001b[38;5;241m.\u001b[39mget(\u001b[38;5;124m\"\u001b[39m\u001b[38;5;124mdata\u001b[39m\u001b[38;5;124m\"\u001b[39m)),\n\u001b[1;32m   1079\u001b[0m )\n",
      "File \u001b[0;32m~/anaconda3/envs/jax/lib/python3.11/asyncio/futures.py:287\u001b[0m, in \u001b[0;36mFuture.__await__\u001b[0;34m(self)\u001b[0m\n\u001b[1;32m    285\u001b[0m \u001b[38;5;28;01mif\u001b[39;00m \u001b[38;5;129;01mnot\u001b[39;00m \u001b[38;5;28mself\u001b[39m\u001b[38;5;241m.\u001b[39mdone():\n\u001b[1;32m    286\u001b[0m     \u001b[38;5;28mself\u001b[39m\u001b[38;5;241m.\u001b[39m_asyncio_future_blocking \u001b[38;5;241m=\u001b[39m \u001b[38;5;28;01mTrue\u001b[39;00m\n\u001b[0;32m--> 287\u001b[0m     \u001b[38;5;28;01myield\u001b[39;00m \u001b[38;5;28mself\u001b[39m  \u001b[38;5;66;03m# This tells Task to wait for completion.\u001b[39;00m\n\u001b[1;32m    288\u001b[0m \u001b[38;5;28;01mif\u001b[39;00m \u001b[38;5;129;01mnot\u001b[39;00m \u001b[38;5;28mself\u001b[39m\u001b[38;5;241m.\u001b[39mdone():\n\u001b[1;32m    289\u001b[0m     \u001b[38;5;28;01mraise\u001b[39;00m \u001b[38;5;167;01mRuntimeError\u001b[39;00m(\u001b[38;5;124m\"\u001b[39m\u001b[38;5;124mawait wasn\u001b[39m\u001b[38;5;124m'\u001b[39m\u001b[38;5;124mt used with future\u001b[39m\u001b[38;5;124m\"\u001b[39m)\n",
      "File \u001b[0;32m~/anaconda3/envs/jax/lib/python3.11/asyncio/tasks.py:349\u001b[0m, in \u001b[0;36mTask.__wakeup\u001b[0;34m(self, future)\u001b[0m\n\u001b[1;32m    347\u001b[0m \u001b[38;5;28;01mdef\u001b[39;00m \u001b[38;5;21m__wakeup\u001b[39m(\u001b[38;5;28mself\u001b[39m, future):\n\u001b[1;32m    348\u001b[0m     \u001b[38;5;28;01mtry\u001b[39;00m:\n\u001b[0;32m--> 349\u001b[0m         future\u001b[38;5;241m.\u001b[39mresult()\n\u001b[1;32m    350\u001b[0m     \u001b[38;5;28;01mexcept\u001b[39;00m \u001b[38;5;167;01mBaseException\u001b[39;00m \u001b[38;5;28;01mas\u001b[39;00m exc:\n\u001b[1;32m    351\u001b[0m         \u001b[38;5;66;03m# This may also be a cancellation.\u001b[39;00m\n\u001b[1;32m    352\u001b[0m         \u001b[38;5;28mself\u001b[39m\u001b[38;5;241m.\u001b[39m__step(exc)\n",
      "File \u001b[0;32m~/anaconda3/envs/jax/lib/python3.11/asyncio/futures.py:203\u001b[0m, in \u001b[0;36mFuture.result\u001b[0;34m(self)\u001b[0m\n\u001b[1;32m    201\u001b[0m \u001b[38;5;28mself\u001b[39m\u001b[38;5;241m.\u001b[39m__log_traceback \u001b[38;5;241m=\u001b[39m \u001b[38;5;28;01mFalse\u001b[39;00m\n\u001b[1;32m    202\u001b[0m \u001b[38;5;28;01mif\u001b[39;00m \u001b[38;5;28mself\u001b[39m\u001b[38;5;241m.\u001b[39m_exception \u001b[38;5;129;01mis\u001b[39;00m \u001b[38;5;129;01mnot\u001b[39;00m \u001b[38;5;28;01mNone\u001b[39;00m:\n\u001b[0;32m--> 203\u001b[0m     \u001b[38;5;28;01mraise\u001b[39;00m \u001b[38;5;28mself\u001b[39m\u001b[38;5;241m.\u001b[39m_exception\u001b[38;5;241m.\u001b[39mwith_traceback(\u001b[38;5;28mself\u001b[39m\u001b[38;5;241m.\u001b[39m_exception_tb)\n\u001b[1;32m    204\u001b[0m \u001b[38;5;28;01mreturn\u001b[39;00m \u001b[38;5;28mself\u001b[39m\u001b[38;5;241m.\u001b[39m_result\n",
      "\u001b[0;31mClientDisconnectedError\u001b[0m: command 480 canceled due to disconnect"
     ]
    }
   ],
   "source": [
    "# stable altitude\n",
    "\n",
    "(positions, motor_log) = await tune_altitude_control(\n",
    "    kp_pqr=np.array([95.0, 95.0, 6.0]),\n",
    "    ki_pos_z=1.0,\n",
    "    kp_pos_z=1.0,\n",
    "    kp_vel_z=1.0,\n",
    "    kp_pos_xy=1.0,\n",
    "    kp_vel_xy=1.0,\n",
    "    kp_yaw=1.0,\n",
    "    kp_bank=1.0\n",
    ")\n",
    "\n",
    "\n"
   ]
  },
  {
   "cell_type": "code",
   "execution_count": 20,
   "id": "09e302f6",
   "metadata": {},
   "outputs": [
    {
     "data": {
      "image/png": "[encoded data removed]",
      "text/plain": [
       "<Figure size 640x480 with 1 Axes>"
      ]
     },
     "metadata": {},
     "output_type": "display_data"
    }
   ],
   "source": [
    "plt.plot(positions[:,2])\n",
    "plt.title(\"y\", fontsize=20)\n",
    "plt.show()"
   ]
  },
  {
   "cell_type": "code",
   "execution_count": 21,
   "id": "29fb4b7f",
   "metadata": {},
   "outputs": [
    {
     "data": {
      "image/png": "[encoded data removed]",
      "text/plain": [
       "<Figure size 640x480 with 1 Axes>"
      ]
     },
     "metadata": {},
     "output_type": "display_data"
    }
   ],
   "source": [
    "plt.plot(positions[:,0])\n",
    "plt.title(\"x\", fontsize=20)\n",
    "plt.show()\n"
   ]
  },
  {
   "cell_type": "code",
   "execution_count": 22,
   "id": "112293ed",
   "metadata": {},
   "outputs": [
    {
     "data": {
      "image/png": "[encoded data removed]",
      "text/plain": [
       "<Figure size 640x480 with 1 Axes>"
      ]
     },
     "metadata": {},
     "output_type": "display_data"
    }
   ],
   "source": [
    "plt.plot(positions[:,1])\n",
    "plt.title(\"y\", fontsize=20)\n",
    "plt.show()"
   ]
  },
  {
   "cell_type": "code",
   "execution_count": null,
   "id": "2fff6f34",
   "metadata": {},
   "outputs": [],
   "source": []
  }
 ],
 "metadata": {
  "kernelspec": {
   "display_name": "jax",
   "language": "python",
   "name": "python3"
  },
  "language_info": {
   "codemirror_mode": {
    "name": "ipython",
    "version": 3
   },
   "file_extension": ".py",
   "mimetype": "text/x-python",
   "name": "python",
   "nbconvert_exporter": "python",
   "pygments_lexer": "ipython3",
   "version": "3.11.7"
  }
 },
 "nbformat": 4,
 "nbformat_minor": 5
}
