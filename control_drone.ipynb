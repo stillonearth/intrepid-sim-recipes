{
 "cells": [
  {
   "cell_type": "code",
   "execution_count": 1,
   "id": "151b1c34",
   "metadata": {},
   "outputs": [],
   "source": [
    "from intrepid_environment.drone_environment import Controller"
   ]
  },
  {
   "cell_type": "code",
   "execution_count": 2,
   "id": "6357f1d7",
   "metadata": {},
   "outputs": [],
   "source": [
    "import nest_asyncio\n",
    "nest_asyncio.apply()"
   ]
  },
  {
   "cell_type": "code",
   "execution_count": 3,
   "id": "683db215",
   "metadata": {},
   "outputs": [],
   "source": [
    "controller = Controller()"
   ]
  },
  {
   "cell_type": "code",
   "execution_count": 4,
   "id": "3c2cae26",
   "metadata": {},
   "outputs": [
    {
     "data": {
      "text/plain": [
       "array([-0., -0.,  0.])"
      ]
     },
     "execution_count": 4,
     "metadata": {},
     "output_type": "execute_result"
    }
   ],
   "source": [
    "controller.acceleration()"
   ]
  },
  {
   "cell_type": "code",
   "execution_count": 5,
   "id": "98e9f3fa",
   "metadata": {},
   "outputs": [
    {
     "data": {
      "text/plain": [
       "array([-0., -0.,  0.])"
      ]
     },
     "execution_count": 5,
     "metadata": {},
     "output_type": "execute_result"
    }
   ],
   "source": [
    "controller.linear_velocity()"
   ]
  },
  {
   "cell_type": "code",
   "execution_count": 6,
   "id": "64f2b4cb",
   "metadata": {},
   "outputs": [
    {
     "data": {
      "text/plain": [
       "array([-0., -0.,  0.])"
      ]
     },
     "execution_count": 6,
     "metadata": {},
     "output_type": "execute_result"
    }
   ],
   "source": [
    "controller.angular_velocity()"
   ]
  },
  {
   "cell_type": "code",
   "execution_count": 7,
   "id": "155d4336",
   "metadata": {},
   "outputs": [
    {
     "data": {
      "text/plain": [
       "array([-0., -0.,  0.])"
      ]
     },
     "execution_count": 7,
     "metadata": {},
     "output_type": "execute_result"
    }
   ],
   "source": [
    "controller.rotation_angles()"
   ]
  },
  {
   "cell_type": "code",
   "execution_count": 8,
   "id": "2e5739c2",
   "metadata": {},
   "outputs": [],
   "source": [
    "controller.control_motors(0.4, 0.7, 0.1, 0.33)"
   ]
  },
  {
   "cell_type": "code",
   "execution_count": 10,
   "id": "cb5bc882",
   "metadata": {},
   "outputs": [],
   "source": [
    "await controller.world.session_step()"
   ]
  },
  {
   "cell_type": "code",
   "execution_count": 13,
   "id": "19e762f5",
   "metadata": {},
   "outputs": [],
   "source": [
    "controller.control_motors(400, 700, 333, 111)"
   ]
  },
  {
   "cell_type": "code",
   "execution_count": 14,
   "id": "a8701127",
   "metadata": {},
   "outputs": [],
   "source": [
    "await controller.world.session_step()"
   ]
  },
  {
   "cell_type": "code",
   "execution_count": null,
   "id": "0e20d776",
   "metadata": {},
   "outputs": [],
   "source": [
    "# nothing happens"
   ]
  }
 ],
 "metadata": {
  "kernelspec": {
   "display_name": "jax",
   "language": "python",
   "name": "python3"
  },
  "language_info": {
   "codemirror_mode": {
    "name": "ipython",
    "version": 3
   },
   "file_extension": ".py",
   "mimetype": "text/x-python",
   "name": "python",
   "nbconvert_exporter": "python",
   "pygments_lexer": "ipython3",
   "version": "3.11.7"
  }
 },
 "nbformat": 4,
 "nbformat_minor": 5
}
