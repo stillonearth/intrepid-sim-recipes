{
 "cells": [
  {
   "cell_type": "code",
   "execution_count": 1,
   "id": "151b1c34",
   "metadata": {},
   "outputs": [],
   "source": [
    "import asyncio\n",
    "import numpy as np\n",
    "from scipy.spatial.transform import Rotation as R\n",
    "\n",
    "import time\n",
    "\n",
    "from intrepid_environment.simulator import Simulator"
   ]
  },
  {
   "cell_type": "code",
   "execution_count": 2,
   "id": "5ec9eeb1",
   "metadata": {},
   "outputs": [],
   "source": [
    "# %matplotlib widget"
   ]
  },
  {
   "cell_type": "code",
   "execution_count": 3,
   "id": "71ed3962",
   "metadata": {},
   "outputs": [],
   "source": [
    "import matplotlib.pyplot as plt"
   ]
  },
  {
   "cell_type": "code",
   "execution_count": 4,
   "id": "5198c3dd",
   "metadata": {},
   "outputs": [],
   "source": [
    "import nest_asyncio\n",
    "nest_asyncio.apply()"
   ]
  },
  {
   "cell_type": "code",
   "execution_count": 5,
   "id": "1bcf8f83",
   "metadata": {},
   "outputs": [
    {
     "data": {
      "text/plain": [
       "0"
      ]
     },
     "execution_count": 5,
     "metadata": {},
     "output_type": "execute_result"
    }
   ],
   "source": [
    "sim = Simulator()\n",
    "await sim.connect()"
   ]
  },
  {
   "cell_type": "code",
   "execution_count": 6,
   "id": "60f4b4d4",
   "metadata": {},
   "outputs": [],
   "source": [
    "async def restart_drone():\n",
    "    await sim.rpc(\"session.restart\")\n",
    "    entity = await sim.rpc(\"map.spawn_uav\", {\n",
    "        \"robot_id\": 0,\n",
    "        \"position\": {\n",
    "            \"x\": 0,\n",
    "            \"y\": 0,\n",
    "            \"z\": 0,\n",
    "        },\n",
    "    })\n",
    "    time.sleep(1.0)\n",
    "    await sim.rpc(\"session.run\")\n",
    "    return entity"
   ]
  },
  {
   "cell_type": "code",
   "execution_count": 7,
   "id": "800d687e",
   "metadata": {},
   "outputs": [],
   "source": [
    "entity = await restart_drone()"
   ]
  },
  {
   "cell_type": "markdown",
   "id": "6a5b739b",
   "metadata": {},
   "source": [
    "Setup trajectory for drone to follow."
   ]
  },
  {
   "cell_type": "code",
   "execution_count": 8,
   "id": "964e93a4",
   "metadata": {},
   "outputs": [],
   "source": [
    "from quadcopter_control.trajectory import Trajectory, TrajectoryPoint"
   ]
  },
  {
   "cell_type": "code",
   "execution_count": 9,
   "id": "61328f80",
   "metadata": {},
   "outputs": [],
   "source": [
    "async def sim_step(motors):\n",
    "    (sim_time, _, drone_state) = await asyncio.gather(\n",
    "        sim.step(),\n",
    "        sim.rpc(f\"object_{entity}.actuator_control\", motors),\n",
    "        sim.rpc(\"script.eval\", {\n",
    "                \"code\": \"\"\"{\n",
    "                    position = sim.object.position(ARGS),\n",
    "                    attitude = sim.object.rotation_quat(ARGS),\n",
    "                    attitude_euler = sim.object.rotation_angles(ARGS),\n",
    "                    velocity = sim.object.linear_velocity(ARGS),\n",
    "                    omega = sim.object.angular_velocity(ARGS),\n",
    "                    acceleration = sim.object.acceleration(ARGS),\n",
    "                }\"\"\",\n",
    "                \"args\": entity,\n",
    "                }),\n",
    "    )\n",
    "\n",
    "    acceleration = np.array([drone_state['acceleration']['x'],\n",
    "                             drone_state['acceleration']['y'],\n",
    "                             drone_state['acceleration']['z']], dtype=np.float64)\n",
    "\n",
    "    position = np.array([drone_state['position']['x'],\n",
    "                        drone_state['position']['y'],\n",
    "                        drone_state['position']['z']], dtype=np.float64)\n",
    "\n",
    "    velocity = np.array([drone_state['velocity']['x'],\n",
    "                        drone_state['velocity']['y'],\n",
    "                        drone_state['velocity']['z']], dtype=np.float64)\n",
    "\n",
    "    attitude = R.from_quat([\n",
    "        drone_state['attitude'][0],\n",
    "        drone_state['attitude'][1],\n",
    "        drone_state['attitude'][2],\n",
    "        drone_state['attitude'][3],\n",
    "    ])\n",
    "\n",
    "    # attitude_euler = np.array([\n",
    "    #     drone_state['attitude_euler']['zx'],\n",
    "    #     -drone_state['attitude_euler']['yz'],\n",
    "    #     drone_state['attitude_euler']['xy'],\n",
    "    # ])\n",
    "\n",
    "    attitude_euler = np.array([\n",
    "        drone_state['attitude_euler']['yz'],\n",
    "        drone_state['attitude_euler']['zx'],\n",
    "        drone_state['attitude_euler']['xy'],\n",
    "    ])\n",
    "\n",
    "    # print(\"euler\", attitude_euler)\n",
    "    # print(\"quat\", attitude.as_euler('xyz', degrees=False))\n",
    "    # print(\"----\")\n",
    "    # print(attitude.as_quat())\n",
    "    # print(R.from_euler(\"xyz\",attitude_euler).as_quat())\n",
    "\n",
    "    attitude = R.from_euler(\"yxz\", attitude_euler)\n",
    "\n",
    "    omega = np.array([drone_state['omega']['yz'],\n",
    "                      drone_state['omega']['zx'],\n",
    "                     drone_state['omega']['xy']], dtype=np.float64)\n",
    "\n",
    "    return {\n",
    "        'time': sim_time,\n",
    "        'acceleration': acceleration,\n",
    "        'position': position,\n",
    "        'velocity': velocity,\n",
    "        'attitude': attitude,\n",
    "        'attitude_euler': attitude_euler,\n",
    "        'omega': omega\n",
    "    }"
   ]
  },
  {
   "cell_type": "code",
   "execution_count": 10,
   "id": "67cc357e",
   "metadata": {},
   "outputs": [],
   "source": [
    "async def get_trajectory_with_initial_position():\n",
    "    state = await sim_step([0, 0, 0, 0])\n",
    "\n",
    "    starting_point = TrajectoryPoint(\n",
    "        time=state['time'],\n",
    "        acceleration=state['acceleration'],\n",
    "        attitude=state['attitude'],\n",
    "        omega=state['omega'],\n",
    "        position=state['position'],\n",
    "        velocity=state['velocity'],\n",
    "    )\n",
    "\n",
    "    trajectory = Trajectory()\n",
    "    trajectory.add_point(starting_point)\n",
    "\n",
    "    return trajectory"
   ]
  },
  {
   "cell_type": "code",
   "execution_count": 11,
   "id": "312968e9",
   "metadata": {},
   "outputs": [],
   "source": [
    "trajectory_time_offset = 0\n",
    "dp = np.zeros(3)\n",
    "\n",
    "def get_next_trajectory_point(trajectory, sim_time, dt, dp):\n",
    "    pt = trajectory.next_trajectory_point((sim_time + dt) / 1000.0)\n",
    "    pt.position += dp\n",
    "    return pt"
   ]
  },
  {
   "cell_type": "code",
   "execution_count": 12,
   "id": "5ebd4b96",
   "metadata": {},
   "outputs": [],
   "source": [
    "from quadcopter_control.controller import QuadcopterController, calculate_drone_moment_of_inertia"
   ]
  },
  {
   "cell_type": "code",
   "execution_count": null,
   "id": "fac945f7",
   "metadata": {},
   "outputs": [],
   "source": [
    "DRONE_HEIGHT = 0.028\n",
    "DRONE_RADIUS = 0.031\n",
    "DRONE_MASS = 0.041"
   ]
  },
  {
   "cell_type": "code",
   "execution_count": 14,
   "id": "e8bb6a02",
   "metadata": {},
   "outputs": [
    {
     "data": {
      "text/plain": [
       "(1.2528916666666666e-05, 1.2528916666666666e-05, 1.97005e-05)"
      ]
     },
     "execution_count": 14,
     "metadata": {},
     "output_type": "execute_result"
    }
   ],
   "source": [
    "(Ixx, Iyy, Izz) = calculate_drone_moment_of_inertia(DRONE_HEIGHT, DRONE_RADIUS, DRONE_MASS)\n",
    "(Ixx, Iyy, Izz)"
   ]
  },
  {
   "cell_type": "code",
   "execution_count": null,
   "id": "d2a297be",
   "metadata": {},
   "outputs": [],
   "source": [
    "Ixx = 1.4e-5\n",
    "Iyy = 1.4e-5\n",
    "Izz = 2.17e-5"
   ]
  },
  {
   "cell_type": "markdown",
   "id": "dc033043",
   "metadata": {},
   "source": [
    "## Scenario -1: Determine Drone Motor / to Newton Rate"
   ]
  },
  {
   "cell_type": "code",
   "execution_count": 16,
   "id": "6c85f6f4",
   "metadata": {},
   "outputs": [],
   "source": [
    "# drone_force = 9.81 * DRONE_MASS; drone_force"
   ]
  },
  {
   "cell_type": "code",
   "execution_count": 17,
   "id": "3eca78e3",
   "metadata": {},
   "outputs": [],
   "source": [
    "# positions = []\n",
    "# forces = []"
   ]
  },
  {
   "cell_type": "code",
   "execution_count": 18,
   "id": "746d5f58",
   "metadata": {},
   "outputs": [],
   "source": [
    "# for force in np.arange(50, 51, 0.01):\n",
    "#     print(\"trying force\", force)\n",
    "#     for _ in range(50):\n",
    "#         state = await sim_step([force, force, force, force])\n",
    "#         forces.append(force)\n",
    "#         positions.append(state['position'][2])"
   ]
  },
  {
   "cell_type": "code",
   "execution_count": 19,
   "id": "83520ab1",
   "metadata": {},
   "outputs": [],
   "source": [
    "# plt.plot(positions[:1250])\n",
    "# plt.plot(forces[:1250])\n",
    "# plt.title(\"z\", fontsize=20)\n",
    "# plt.show()"
   ]
  },
  {
   "cell_type": "code",
   "execution_count": 20,
   "id": "268e8d54",
   "metadata": {},
   "outputs": [
    {
     "data": {
      "text/plain": [
       "0.0020030378486055778"
      ]
     },
     "execution_count": 20,
     "metadata": {},
     "output_type": "execute_result"
    }
   ],
   "source": [
    "scale = 0.40221 / (50.2*4); scale"
   ]
  },
  {
   "cell_type": "markdown",
   "id": "14141abb",
   "metadata": {},
   "source": [
    "500 = 1 newton"
   ]
  },
  {
   "cell_type": "markdown",
   "id": "fe3135cd",
   "metadata": {},
   "source": [
    "## Scenario 0: Zero Gains\n",
    "\n",
    "Test whether controller runs without controller gains set."
   ]
  },
  {
   "cell_type": "code",
   "execution_count": 21,
   "id": "0816a8eb",
   "metadata": {},
   "outputs": [],
   "source": [
    "trajectory = await get_trajectory_with_initial_position()"
   ]
  },
  {
   "cell_type": "code",
   "execution_count": 22,
   "id": "4d9543e1",
   "metadata": {},
   "outputs": [],
   "source": [
    "DT_MS = 15.625  # 64 hz"
   ]
  },
  {
   "cell_type": "code",
   "execution_count": 23,
   "id": "d0e36ca8",
   "metadata": {},
   "outputs": [],
   "source": [
    "quadcopter_controller = QuadcopterController(\n",
    "    DT_MS / 1e3,\n",
    "    DRONE_MASS,\n",
    "    Ixx, Iyy, Izz,\n",
    "    l=0.031,\n",
    "    max_tilt_angle=0.7,\n",
    "    max_ascent_rate=5.0,\n",
    "    max_vel_xy=5,\n",
    "    max_accel_xy=12,\n",
    ")"
   ]
  },
  {
   "cell_type": "markdown",
   "id": "ccb7f9f7",
   "metadata": {},
   "source": [
    "## Scenario 1: Altitude Control\n",
    "\n",
    "Tune gains until drone stays in place. on a desired height."
   ]
  },
  {
   "cell_type": "code",
   "execution_count": 24,
   "id": "99a15775",
   "metadata": {},
   "outputs": [],
   "source": [
    "state = await sim_step([0, 0, 0, 0])\n",
    "trajectory = await get_trajectory_with_initial_position()"
   ]
  },
  {
   "cell_type": "code",
   "execution_count": 25,
   "id": "20110900",
   "metadata": {},
   "outputs": [],
   "source": [
    "sim_time = (await sim_step([0, 0, 0, 0]))['time']\n",
    "n_episodes = 200\n",
    "\n",
    "for i in range(0, n_episodes):\n",
    "    trajectory.add_point(TrajectoryPoint(\n",
    "        time=(sim_time + (i*DT_MS*1e3) / 1e6),\n",
    "        position=np.array([7.0, 0.0, 50.0]),\n",
    "        velocity=np.zeros(3),\n",
    "        acceleration=np.zeros(3),\n",
    "        attitude=R.from_quat([0.0, 0.0, 0.0, 1.0]),\n",
    "        omega=np.array([0.1, 0.1, 0.1])\n",
    "    ))"
   ]
  },
  {
   "cell_type": "code",
   "execution_count": 26,
   "id": "82261645",
   "metadata": {},
   "outputs": [],
   "source": [
    "import time\n",
    "import matplotlib.pyplot as plt"
   ]
  },
  {
   "cell_type": "code",
   "execution_count": 27,
   "id": "8aa66610",
   "metadata": {},
   "outputs": [],
   "source": [
    "from tqdm import tqdm"
   ]
  },
  {
   "cell_type": "code",
   "execution_count": 28,
   "id": "2bf6e759",
   "metadata": {},
   "outputs": [],
   "source": [
    "async def tune_controller(\n",
    "        kp_pqr=np.array([95.0, 95.0, 6.0]),\n",
    "        kp_bank=0.0,\n",
    "        kp_pos_z=0.0,\n",
    "        kp_vel_z=0.0,\n",
    "        ki_pos_z=0.0,\n",
    "        kp_pos_xy=0.0,\n",
    "        kp_yaw=0.0,\n",
    "        kp_vel_xy=0.0,\n",
    "        kappa=1.0,\n",
    "        n_episodes=n_episodes,\n",
    "):\n",
    "\n",
    "    quadcopter_controller.integrated_altitude_error = 0.0\n",
    "    quadcopter_controller.set_gains(\n",
    "        kp_pqr=kp_pqr,\n",
    "        kp_bank=kp_bank,\n",
    "        kp_pos_z=kp_pos_z,\n",
    "        kp_vel_z=kp_vel_z,\n",
    "        ki_pos_z=ki_pos_z,\n",
    "        kp_pos_xy=kp_pos_xy,\n",
    "        kp_yaw=kp_yaw,\n",
    "        kp_vel_xy=kp_vel_xy,\n",
    "        kappa=kappa\n",
    "    )\n",
    "\n",
    "    times = []\n",
    "    positions = []\n",
    "    accelerations = []\n",
    "    attitudes = []\n",
    "    bx_cmds = []\n",
    "    by_cmds = []\n",
    "\n",
    "    bx_errs = []\n",
    "    by_errs = []\n",
    "\n",
    "    des_accs = []\n",
    "    des_omegas = []\n",
    "    est_omegas = []\n",
    "    thrusts = []\n",
    "\n",
    "    state = await sim_step([0, 0, 0, 0])\n",
    "\n",
    "    for _ in tqdm(range(n_episodes)):\n",
    "        t = (state['time'] + DT_MS * 1e3) / 1e6\n",
    "        traj_pt = trajectory.next_trajectory_point(t)\n",
    "\n",
    "        motors, (thrust, bx_cmd, by_cmd, bx_err, by_err, des_acc, des_omega) = quadcopter_controller.run_control(\n",
    "            traj_pt,\n",
    "            state['position'],\n",
    "            state['velocity'],\n",
    "            state['omega'],\n",
    "            state['attitude'],\n",
    "        )\n",
    "\n",
    "        motors /= 0.02\n",
    "\n",
    "        accelerations.append(state['acceleration'])\n",
    "        attitudes.append(state['attitude_euler'])\n",
    "        bx_cmds.append(bx_cmd)\n",
    "        by_cmds.append(by_cmd)\n",
    "        bx_errs.append(bx_err)\n",
    "        by_errs.append(by_err)\n",
    "        des_accs.append(des_acc)\n",
    "        des_omegas.append(des_omega)\n",
    "        est_omegas.append(state['omega'])\n",
    "        thrusts.append(thrust)\n",
    "\n",
    "        motors = np.clip(motors, 40, 500)\n",
    "        positions.append(state['position'])\n",
    "        times.append(t)\n",
    "        try:\n",
    "            state = await sim_step(motors.tolist())\n",
    "        except:\n",
    "            break\n",
    "\n",
    "    return (\n",
    "        np.array(times), \n",
    "        np.array(positions), \n",
    "        np.array(accelerations),\n",
    "        np.array(attitudes),\n",
    "        np.array(bx_cmds), \n",
    "        np.array(by_cmds), \n",
    "        np.array(bx_errs), \n",
    "        np.array(by_errs), \n",
    "        np.array(des_accs), \n",
    "        np.array(des_omegas),\n",
    "        np.array(est_omegas),\n",
    "        np.array(thrusts),\n",
    "    )"
   ]
  },
  {
   "cell_type": "markdown",
   "id": "a1eecfb8",
   "metadata": {},
   "source": [
    "## Scenario 2: Position Control\n"
   ]
  },
  {
   "cell_type": "code",
   "execution_count": 29,
   "id": "b0a90921",
   "metadata": {},
   "outputs": [],
   "source": [
    "entity = await restart_drone()\n",
    "state = await sim_step([0, 0, 0, 0])\n",
    "trajectory = await get_trajectory_with_initial_position()"
   ]
  },
  {
   "cell_type": "code",
   "execution_count": 30,
   "id": "c8318cae",
   "metadata": {},
   "outputs": [],
   "source": [
    "sim_time = (await sim_step([0, 0, 0, 0]))['time']\n",
    "n_episodes = 200\n",
    "\n",
    "for i in range(0, n_episodes):\n",
    "    trajectory.add_point(TrajectoryPoint(\n",
    "        time=(sim_time + (i*DT_MS*1e3) / 1e6),\n",
    "        position=np.array([10.0, 0.0, 10.0]),\n",
    "        velocity=np.zeros(3),\n",
    "        acceleration=np.zeros(3),\n",
    "        attitude=R.from_quat([0.0, 0.0, 0.0, 1.0]),\n",
    "        omega=np.array([0.0, 0.0, 0.0])\n",
    "    ))"
   ]
  },
  {
   "cell_type": "code",
   "execution_count": 31,
   "id": "06292c55",
   "metadata": {},
   "outputs": [
    {
     "name": "stderr",
     "output_type": "stream",
     "text": [
      "100%|██████████| 2000/2000 [01:28<00:00, 22.64it/s]\n"
     ]
    }
   ],
   "source": [
    "entity = await restart_drone()\n",
    "\n",
    "(times,\n",
    " positions,\n",
    " accelerations,\n",
    " attitudes,\n",
    " bx_cmds, by_cmds,\n",
    " bx_errs, by_errs,\n",
    " des_accs, des_omegas, est_omegas,\n",
    " thrusts) = await tune_controller(\n",
    "    kp_pqr=np.array([1.0, 1.0, 10.0]),\n",
    "    ki_pos_z=2.0,\n",
    "    kp_pos_z=6.0,\n",
    "    kp_vel_z=6.0,\n",
    "    kp_pos_xy=0.1,\n",
    "    kp_vel_xy=0.0,\n",
    "    kp_yaw=0.0,\n",
    "    kp_bank=2.0,\n",
    "    n_episodes=2000,\n",
    ")"
   ]
  },
  {
   "cell_type": "code",
   "execution_count": 32,
   "id": "39307255",
   "metadata": {},
   "outputs": [
    {
     "data": {
      "image/png": "[encoded data removed]",
      "text/plain": [
       "<Figure size 640x480 with 1 Axes>"
      ]
     },
     "metadata": {},
     "output_type": "display_data"
    },
    {
     "data": {
      "image/png": "[encoded data removed]",
      "text/plain": [
       "<Figure size 640x480 with 1 Axes>"
      ]
     },
     "metadata": {},
     "output_type": "display_data"
    },
    {
     "data": {
      "image/png": "[encoded data removed]",
      "text/plain": [
       "<Figure size 640x480 with 1 Axes>"
      ]
     },
     "metadata": {},
     "output_type": "display_data"
    },
    {
     "data": {
      "image/png": "[encoded data removed]",
      "text/plain": [
       "<Figure size 640x480 with 1 Axes>"
      ]
     },
     "metadata": {},
     "output_type": "display_data"
    },
    {
     "data": {
      "image/png": "[encoded data removed]",
      "text/plain": [
       "<Figure size 640x480 with 1 Axes>"
      ]
     },
     "metadata": {},
     "output_type": "display_data"
    }
   ],
   "source": [
    "plt.title(\"x\")\n",
    "plt.plot(times, positions[:,0])\n",
    "plt.show()\n",
    "\n",
    "plt.title(\"des_accs[x]\")\n",
    "plt.plot(times, des_accs[:,0])\n",
    "plt.show()\n",
    "\n",
    "plt.title(\"des_omegas[x]\")\n",
    "plt.plot(times, des_omegas[:,0])\n",
    "plt.show()\n",
    "\n",
    "plt.title(\"y\")\n",
    "plt.plot(times, positions[:,1])\n",
    "plt.show()\n",
    "\n",
    "plt.title(\"des_omegas[y]\")\n",
    "plt.plot(times, des_omegas[:,1])\n",
    "plt.show()\n"
   ]
  },
  {
   "cell_type": "markdown",
   "id": "c995cc23",
   "metadata": {},
   "source": [
    "Reference implementation: https://github.com/martin0004/drone_control_system"
   ]
  },
  {
   "cell_type": "markdown",
   "id": "833c9125",
   "metadata": {},
   "source": []
  }
 ],
 "metadata": {
  "kernelspec": {
   "display_name": "jax",
   "language": "python",
   "name": "python3"
  },
  "language_info": {
   "codemirror_mode": {
    "name": "ipython",
    "version": 3
   },
   "file_extension": ".py",
   "mimetype": "text/x-python",
   "name": "python",
   "nbconvert_exporter": "python",
   "pygments_lexer": "ipython3",
   "version": "3.11.7"
  }
 },
 "nbformat": 4,
 "nbformat_minor": 5
}
