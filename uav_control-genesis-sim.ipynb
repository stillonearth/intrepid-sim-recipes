{
 "cells": [
  {
   "cell_type": "code",
   "execution_count": 1,
   "id": "151b1c34",
   "metadata": {},
   "outputs": [
    {
     "name": "stderr",
     "output_type": "stream",
     "text": [
      "[I 06/02/25 17:21:43.579 454005] [shell.py:_shell_pop_print@23] Graphical python shell detected, using wrapped sys.stdout\n"
     ]
    }
   ],
   "source": [
    "import numpy as np\n",
    "import genesis as gs\n",
    "import matplotlib.pyplot as plt\n",
    "\n",
    "from scipy.spatial.transform import Rotation as R\n",
    "\n",
    "from quadcopter_control.controller import QuadcopterController\n",
    "from tqdm import tqdm"
   ]
  },
  {
   "cell_type": "code",
   "execution_count": 10,
   "id": "3d901a42",
   "metadata": {},
   "outputs": [],
   "source": [
    "# Sim Constants\n",
    "\n",
    "DT_S = 1. / 60\n",
    "\n",
    "DRONE_MASS = 0.027\n",
    "NEWTON_TO_RPM = 14468.429183500699 / (9.81 * DRONE_MASS / 4)\n",
    "\n",
    "Ixx = 1.4e-5\n",
    "Iyy = 1.4e-5\n",
    "Izz = 2.17e-5\n",
    "\n",
    "MIN_THRUST = 0.26477955 / 4 * 0.8\n",
    "MAX_THRUST = 0.26477955 / 4 * 1.5"
   ]
  },
  {
   "cell_type": "code",
   "execution_count": 3,
   "id": "19ad90c0",
   "metadata": {},
   "outputs": [],
   "source": [
    "# Initialize Genesis\n",
    "\n",
    "gs.init(backend=gs.gpu, logging_level=\"error\")\n",
    "\n",
    "viewer_options = gs.options.ViewerOptions(\n",
    "    camera_pos=(2.5, 0.0, 1.5),\n",
    "    camera_lookat=(0.0, 0.0, 0.5),\n",
    "    camera_fov=30,\n",
    "    max_FPS=600,\n",
    ")\n",
    "\n",
    "scene = gs.Scene(\n",
    "    sim_options=gs.options.SimOptions(\n",
    "        dt=DT_S,\n",
    "    ),\n",
    "    viewer_options=viewer_options,\n",
    "    show_viewer=True,\n",
    ")\n",
    "\n",
    "plane = scene.add_entity(\n",
    "    gs.morphs.Plane(),\n",
    ")\n",
    "\n",
    "drone = scene.add_entity(\n",
    "    morph=gs.morphs.Drone(\n",
    "        file=\"urdf/drones/cf2x.urdf\",\n",
    "        pos=(0.0, 0, 0.02),\n",
    "    ),\n",
    ")\n",
    "\n",
    "scene.build()"
   ]
  },
  {
   "cell_type": "code",
   "execution_count": 11,
   "id": "ad3c0546",
   "metadata": {},
   "outputs": [],
   "source": [
    "def reset():\n",
    "    drone.set_pos(np.array([0, 0, 0.02]), zero_velocity=True)\n",
    "    drone.set_quat(np.array([1, 0, 0, 0]), zero_velocity=True)\n",
    "    drone.zero_all_dofs_velocity()\n",
    "    scene.step(update_visualizer=False)"
   ]
  },
  {
   "cell_type": "code",
   "execution_count": 21,
   "id": "61328f80",
   "metadata": {},
   "outputs": [],
   "source": [
    "def sim_step(motors):\n",
    "    # change motor order\n",
    "    motors = np.array([motors[0], motors[2], motors[3], motors[1]])\n",
    "\n",
    "    # scale\n",
    "    motors = motors * NEWTON_TO_RPM\n",
    "\n",
    "    drone.set_propellels_rpm(motors)\n",
    "    scene.step()\n",
    "\n",
    "    position = drone.get_pos().cpu().numpy()\n",
    "    velocity = drone.get_vel().cpu().numpy()\n",
    "    attitude = R.from_quat(drone.get_quat().cpu().numpy(), scalar_first=True)\n",
    "    omega    = drone.get_ang().cpu().numpy()\n",
    "\n",
    "    omega[0], omega[1], omega[2] = -omega[0], -omega[1], omega[2]\n",
    "\n",
    "    return {\n",
    "        'position': position,\n",
    "        'velocity': velocity,\n",
    "        'attitude': attitude,\n",
    "        'omega': omega\n",
    "    }"
   ]
  },
  {
   "cell_type": "code",
   "execution_count": 13,
   "id": "28aed621",
   "metadata": {},
   "outputs": [],
   "source": [
    "quadcopter_controller = QuadcopterController(\n",
    "    DT_S,\n",
    "    DRONE_MASS * 0.99,\n",
    "    Ixx, Iyy, Izz,\n",
    "    max_tilt_angle=0.7,\n",
    "    max_ascent_rate=5.0,\n",
    "    max_vel_xy=12,\n",
    "    max_accel_xy=1,\n",
    "    l=0.03,\n",
    "    min_motor_thrust=MIN_THRUST, \n",
    "    max_motor_thrust=MAX_THRUST,\n",
    ")"
   ]
  },
  {
   "cell_type": "code",
   "execution_count": 14,
   "id": "2bf6e759",
   "metadata": {},
   "outputs": [],
   "source": [
    "def tune_controller(\n",
    "        target={\n",
    "            \"position\": np.array([0, 0, 5]),\n",
    "            \"velocity\": np.zeros(3),\n",
    "            \"acceleration\": np.zeros(3),\n",
    "            \"attitude\": R.from_quat([0, 0, 0, 1]),\n",
    "        },\n",
    "        kp_pqr=np.array([95.0, 95.0, 6.0]),\n",
    "        kp_bank=0.0,\n",
    "        kp_pos_z=0.0,\n",
    "        kp_vel_z=0.0,\n",
    "        ki_pos_z=0.0,\n",
    "        kp_pos_xy=0.0,\n",
    "        kp_yaw=0.0,\n",
    "        kp_vel_xy=0.0,\n",
    "        kappa=1.0,\n",
    "        n_episodes=500,\n",
    "):\n",
    "    reset()\n",
    "\n",
    "    quadcopter_controller.integrated_altitude_error = 0.0\n",
    "    quadcopter_controller.set_gains(\n",
    "        kp_pqr=kp_pqr,\n",
    "        kp_bank=kp_bank,\n",
    "        kp_pos_z=kp_pos_z,\n",
    "        kp_vel_z=kp_vel_z,\n",
    "        ki_pos_z=ki_pos_z,\n",
    "        kp_pos_xy=kp_pos_xy,\n",
    "        kp_yaw=kp_yaw,\n",
    "        kp_vel_xy=kp_vel_xy,\n",
    "        kappa=kappa\n",
    "    )\n",
    "\n",
    "    times = []\n",
    "    positions = []\n",
    "    attitudes = []\n",
    "    motors_ = []\n",
    "    omegas = []\n",
    "    velocities = []\n",
    "\n",
    "    state = sim_step([0, 0, 0, 0])\n",
    "\n",
    "    t = 0\n",
    "    for i in tqdm(range(n_episodes)):\n",
    "\n",
    "        motors = quadcopter_controller.run_control(\n",
    "            target['position'],\n",
    "            target['velocity'],\n",
    "            target['acceleration'],\n",
    "            target['attitude'],\n",
    "            state['position'],\n",
    "            state['velocity'],\n",
    "            state['omega'],\n",
    "            state['attitude'],\n",
    "        )\n",
    "        motors_.append(motors)\n",
    "\n",
    "        # accelerations.append(state['acceleration'])\n",
    "        attitudes.append(state['attitude'].as_quat())\n",
    "        positions.append(state['position'])\n",
    "        omegas.append(state['omega'])\n",
    "        velocities.append(state['velocity'])\n",
    "        times.append(t)\n",
    "        state = sim_step(motors)\n",
    "\n",
    "        t += DT_S\n",
    "\n",
    "    return (\n",
    "        np.array(times),\n",
    "        np.array(positions),\n",
    "        np.array(velocities),\n",
    "        np.array(attitudes),\n",
    "        np.array(omegas),\n",
    "        np.array(motors_)\n",
    "    )"
   ]
  },
  {
   "cell_type": "code",
   "execution_count": 18,
   "id": "eff7fb72",
   "metadata": {},
   "outputs": [],
   "source": [
    "reset()\n",
    "target = {\n",
    "    \"position\": np.array([-5, 3, 10]),\n",
    "    \"velocity\": np.zeros(3),\n",
    "    \"acceleration\": np.zeros(3),\n",
    "    \"attitude\": R.from_quat([0, 0, 0, 1]),\n",
    "}"
   ]
  },
  {
   "cell_type": "code",
   "execution_count": 22,
   "id": "06292c55",
   "metadata": {},
   "outputs": [
    {
     "name": "stderr",
     "output_type": "stream",
     "text": [
      "100%|██████████| 3000/3000 [00:10<00:00, 278.34it/s]\n"
     ]
    }
   ],
   "source": [
    "(times, positions, velocities, attitudes, omegas, motors) =  tune_controller(\n",
    "    kp_pqr=np.array([25, 25, 5]),\n",
    "    ki_pos_z=2,\n",
    "    kp_pos_z=6,\n",
    "    kp_vel_z=12,\n",
    "    kp_pos_xy=8.0,\n",
    "    kp_vel_xy=8.0,\n",
    "    kp_yaw=1.0,\n",
    "    kp_bank=2.0,\n",
    "    n_episodes=3000,\n",
    "    target=target\n",
    ")"
   ]
  },
  {
   "cell_type": "code",
   "execution_count": 23,
   "id": "4522dbcb",
   "metadata": {},
   "outputs": [
    {
     "data": {
      "image/png": "[encoded data removed]",
      "text/plain": [
       "<Figure size 640x480 with 1 Axes>"
      ]
     },
     "metadata": {},
     "output_type": "display_data"
    },
    {
     "data": {
      "image/png": "[encoded data removed]",
      "text/plain": [
       "<Figure size 640x480 with 1 Axes>"
      ]
     },
     "metadata": {},
     "output_type": "display_data"
    },
    {
     "data": {
      "image/png": "[encoded data removed]",
      "text/plain": [
       "<Figure size 640x480 with 1 Axes>"
      ]
     },
     "metadata": {},
     "output_type": "display_data"
    }
   ],
   "source": [
    "plt.title(\"z\")\n",
    "plt.plot(positions[:, 2])\n",
    "plt.show()\n",
    "\n",
    "plt.title(\"x\")\n",
    "plt.plot(positions[:, 0])\n",
    "plt.show()\n",
    "\n",
    "plt.title(\"y\")\n",
    "plt.plot(positions[:, 1])\n",
    "plt.show()"
   ]
  },
  {
   "cell_type": "code",
   "execution_count": null,
   "id": "6818e5c2",
   "metadata": {},
   "outputs": [],
   "source": []
  }
 ],
 "metadata": {
  "kernelspec": {
   "display_name": "myenv",
   "language": "python",
   "name": "python3"
  },
  "language_info": {
   "codemirror_mode": {
    "name": "ipython",
    "version": 3
   },
   "file_extension": ".py",
   "mimetype": "text/x-python",
   "name": "python",
   "nbconvert_exporter": "python",
   "pygments_lexer": "ipython3",
   "version": "3.12.9"
  }
 },
 "nbformat": 4,
 "nbformat_minor": 5
}
