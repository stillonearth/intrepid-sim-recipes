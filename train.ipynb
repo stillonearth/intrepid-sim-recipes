{
 "cells": [
  {
   "cell_type": "code",
   "execution_count": 1,
   "metadata": {},
   "outputs": [],
   "source": [
    "from environment import VehicleController, WorldController"
   ]
  },
  {
   "cell_type": "code",
   "execution_count": 2,
   "metadata": {},
   "outputs": [
    {
     "name": "stdout",
     "output_type": "stream",
     "text": [
      "tick 0\n",
      "tick 0\n",
      "tick 1000000\n",
      "tick 2000000\n",
      "tick 3000000\n",
      "tick 4000000\n",
      "tick 5000000\n",
      "tick 6000000\n",
      "tick 7000000\n",
      "tick 8000000\n",
      "tick 9000000\n",
      "tick 10000000\n"
     ]
    }
   ],
   "source": [
    "world = WorldController()"
   ]
  },
  {
   "cell_type": "code",
   "execution_count": null,
   "metadata": {},
   "outputs": [
    {
     "ename": "AttributeError",
     "evalue": "'WorldController' object has no attribute 'robot'",
     "output_type": "error",
     "traceback": [
      "\u001b[0;31m---------------------------------------------------------------------------\u001b[0m",
      "\u001b[0;31mAttributeError\u001b[0m                            Traceback (most recent call last)",
      "Cell \u001b[0;32mIn[3], line 1\u001b[0m\n\u001b[0;32m----> 1\u001b[0m world\u001b[38;5;241m.\u001b[39mrobot\u001b[38;5;241m.\u001b[39mdespawn(world)\n",
      "\u001b[0;31mAttributeError\u001b[0m: 'WorldController' object has no attribute 'robot'"
     ]
    }
   ],
   "source": [
    "# world.robot.despawn(world)"
   ]
  },
  {
   "cell_type": "code",
   "execution_count": null,
   "metadata": {},
   "outputs": [],
   "source": []
  }
 ],
 "metadata": {
  "kernelspec": {
   "display_name": "jax",
   "language": "python",
   "name": "python3"
  },
  "language_info": {
   "codemirror_mode": {
    "name": "ipython",
    "version": 3
   },
   "file_extension": ".py",
   "mimetype": "text/x-python",
   "name": "python",
   "nbconvert_exporter": "python",
   "pygments_lexer": "ipython3",
   "version": "3.11.7"
  }
 },
 "nbformat": 4,
 "nbformat_minor": 2
}
