{
 "cells": [
  {
   "cell_type": "code",
   "execution_count": 2,
   "id": "6c6310c4",
   "metadata": {},
   "outputs": [],
   "source": [
    "from centrifuge import Client"
   ]
  },
  {
   "cell_type": "code",
   "execution_count": 3,
   "id": "7442e2d0",
   "metadata": {},
   "outputs": [],
   "source": [
    "client = Client(\"ws://localhost:9120/connection/websocket\")"
   ]
  },
  {
   "cell_type": "code",
   "execution_count": 4,
   "id": "8bf7e782",
   "metadata": {},
   "outputs": [],
   "source": [
    "await client.connect()"
   ]
  },
  {
   "cell_type": "code",
   "execution_count": 5,
   "id": "cbb8299c",
   "metadata": {},
   "outputs": [
    {
     "data": {
      "text/plain": [
       "RpcResult(data=None)"
      ]
     },
     "execution_count": 5,
     "metadata": {},
     "output_type": "execute_result"
    }
   ],
   "source": [
    "await client.rpc(\"session.restart\", None)"
   ]
  },
  {
   "cell_type": "code",
   "execution_count": 6,
   "id": "23a42730",
   "metadata": {},
   "outputs": [
    {
     "data": {
      "text/plain": [
       "RpcResult(data='27v1')"
      ]
     },
     "execution_count": 6,
     "metadata": {},
     "output_type": "execute_result"
    }
   ],
   "source": [
    "await client.rpc('map.spawn_uav', {\n",
    "            'robot_id': 1,\n",
    "            'position': {\n",
    "                'x': 0,\n",
    "                'y': 0,\n",
    "                'z': 0,\n",
    "            },\n",
    "        })"
   ]
  },
  {
   "cell_type": "code",
   "execution_count": 7,
   "id": "73efe73c",
   "metadata": {},
   "outputs": [
    {
     "ename": "ReplyError",
     "evalue": "Error 100: entity doesn't support actuator control (temporary: True)",
     "output_type": "error",
     "traceback": [
      "\u001b[0;31m---------------------------------------------------------------------------\u001b[0m",
      "\u001b[0;31mReplyError\u001b[0m                                Traceback (most recent call last)",
      "Cell \u001b[0;32mIn[7], line 1\u001b[0m\n\u001b[0;32m----> 1\u001b[0m \u001b[38;5;28;01mawait\u001b[39;00m client\u001b[38;5;241m.\u001b[39mrpc(\u001b[38;5;124m\"\u001b[39m\u001b[38;5;124mobject_\u001b[39m\u001b[38;5;132;01m{object}\u001b[39;00m\u001b[38;5;124m.actuator_control\u001b[39m\u001b[38;5;124m\"\u001b[39m\u001b[38;5;241m.\u001b[39mformat(\u001b[38;5;28mobject\u001b[39m\u001b[38;5;241m=\u001b[39m\u001b[38;5;124m\"\u001b[39m\u001b[38;5;124m27v1\u001b[39m\u001b[38;5;124m\"\u001b[39m), [\u001b[38;5;241m0.5\u001b[39m, \u001b[38;5;241m0.5\u001b[39m, \u001b[38;5;241m0.5\u001b[39m, \u001b[38;5;241m0.5\u001b[39m])\n",
      "File \u001b[0;32m~/anaconda3/envs/jax/lib/python3.11/site-packages/centrifuge/client.py:1076\u001b[0m, in \u001b[0;36mClient.rpc\u001b[0;34m(self, method, data, timeout)\u001b[0m\n\u001b[1;32m   1074\u001b[0m \u001b[38;5;28;01mawait\u001b[39;00m \u001b[38;5;28mself\u001b[39m\u001b[38;5;241m.\u001b[39m_send_commands([command])\n\u001b[1;32m   1075\u001b[0m reply \u001b[38;5;241m=\u001b[39m \u001b[38;5;28;01mawait\u001b[39;00m future\n\u001b[0;32m-> 1076\u001b[0m \u001b[38;5;28mself\u001b[39m\u001b[38;5;241m.\u001b[39m_check_reply_error(reply)\n\u001b[1;32m   1077\u001b[0m \u001b[38;5;28;01mreturn\u001b[39;00m RpcResult(\n\u001b[1;32m   1078\u001b[0m     data\u001b[38;5;241m=\u001b[39m\u001b[38;5;28mself\u001b[39m\u001b[38;5;241m.\u001b[39m_decode_data(reply[\u001b[38;5;124m\"\u001b[39m\u001b[38;5;124mrpc\u001b[39m\u001b[38;5;124m\"\u001b[39m]\u001b[38;5;241m.\u001b[39mget(\u001b[38;5;124m\"\u001b[39m\u001b[38;5;124mdata\u001b[39m\u001b[38;5;124m\"\u001b[39m)),\n\u001b[1;32m   1079\u001b[0m )\n",
      "File \u001b[0;32m~/anaconda3/envs/jax/lib/python3.11/site-packages/centrifuge/client.py:932\u001b[0m, in \u001b[0;36mClient._check_reply_error\u001b[0;34m(reply)\u001b[0m\n\u001b[1;32m    930\u001b[0m \u001b[38;5;28;01mif\u001b[39;00m reply\u001b[38;5;241m.\u001b[39mget(\u001b[38;5;124m\"\u001b[39m\u001b[38;5;124merror\u001b[39m\u001b[38;5;124m\"\u001b[39m):\n\u001b[1;32m    931\u001b[0m     error \u001b[38;5;241m=\u001b[39m reply[\u001b[38;5;124m\"\u001b[39m\u001b[38;5;124merror\u001b[39m\u001b[38;5;124m\"\u001b[39m]\n\u001b[0;32m--> 932\u001b[0m     \u001b[38;5;28;01mraise\u001b[39;00m ReplyError(error[\u001b[38;5;124m\"\u001b[39m\u001b[38;5;124mcode\u001b[39m\u001b[38;5;124m\"\u001b[39m], error[\u001b[38;5;124m\"\u001b[39m\u001b[38;5;124mmessage\u001b[39m\u001b[38;5;124m\"\u001b[39m], error\u001b[38;5;241m.\u001b[39mget(\u001b[38;5;124m\"\u001b[39m\u001b[38;5;124mtemporary\u001b[39m\u001b[38;5;124m\"\u001b[39m, \u001b[38;5;28;01mFalse\u001b[39;00m))\n",
      "\u001b[0;31mReplyError\u001b[0m: Error 100: entity doesn't support actuator control (temporary: True)"
     ]
    }
   ],
   "source": [
    "await client.rpc(\"object_{object}.actuator_control\".format(object=\"27v1\"), [0.5, 0.5, 0.5, 0.5])"
   ]
  },
  {
   "cell_type": "code",
   "execution_count": null,
   "id": "d09c3a4a",
   "metadata": {},
   "outputs": [],
   "source": []
  }
 ],
 "metadata": {
  "kernelspec": {
   "display_name": "jax",
   "language": "python",
   "name": "python3"
  },
  "language_info": {
   "codemirror_mode": {
    "name": "ipython",
    "version": 3
   },
   "file_extension": ".py",
   "mimetype": "text/x-python",
   "name": "python",
   "nbconvert_exporter": "python",
   "pygments_lexer": "ipython3",
   "version": "3.11.7"
  }
 },
 "nbformat": 4,
 "nbformat_minor": 5
}
