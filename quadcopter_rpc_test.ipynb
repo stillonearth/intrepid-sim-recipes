{
 "cells": [
  {
   "cell_type": "code",
   "execution_count": 1,
   "id": "beaf1dfe",
   "metadata": {},
   "outputs": [],
   "source": [
    "from intrepid_environment.quadcopter_environment import QuadcopterController"
   ]
  },
  {
   "cell_type": "code",
   "execution_count": 2,
   "id": "ac6b5383",
   "metadata": {},
   "outputs": [],
   "source": [
    "import nest_asyncio\n",
    "nest_asyncio.apply()"
   ]
  },
  {
   "cell_type": "code",
   "execution_count": 3,
   "id": "d602b220",
   "metadata": {},
   "outputs": [],
   "source": [
    "# Simulation frequency\n",
    "DT_MS = 100\n",
    "quadcopter_controller = QuadcopterController(DT_MS)"
   ]
  },
  {
   "cell_type": "markdown",
   "id": "a82caed6",
   "metadata": {},
   "source": [
    "Read quadcopter sensors."
   ]
  },
  {
   "cell_type": "code",
   "execution_count": 4,
   "id": "3ed12288",
   "metadata": {},
   "outputs": [
    {
     "data": {
      "text/plain": [
       "array([0., 0., 0.])"
      ]
     },
     "execution_count": 4,
     "metadata": {},
     "output_type": "execute_result"
    }
   ],
   "source": [
    "quadcopter_controller.position()"
   ]
  },
  {
   "cell_type": "code",
   "execution_count": 5,
   "id": "a74c04d5",
   "metadata": {},
   "outputs": [
    {
     "data": {
      "text/plain": [
       "array([-0., -0.,  0.])"
      ]
     },
     "execution_count": 5,
     "metadata": {},
     "output_type": "execute_result"
    }
   ],
   "source": [
    "quadcopter_controller.linear_velocity()"
   ]
  },
  {
   "cell_type": "code",
   "execution_count": 6,
   "id": "17870ac0",
   "metadata": {},
   "outputs": [
    {
     "data": {
      "text/plain": [
       "array([-0., -0.,  0.])"
      ]
     },
     "execution_count": 6,
     "metadata": {},
     "output_type": "execute_result"
    }
   ],
   "source": [
    "quadcopter_controller.acceleration()"
   ]
  },
  {
   "cell_type": "code",
   "execution_count": 7,
   "id": "8ed683e6",
   "metadata": {},
   "outputs": [
    {
     "data": {
      "text/plain": [
       "array([-0., -0.,  0.])"
      ]
     },
     "execution_count": 7,
     "metadata": {},
     "output_type": "execute_result"
    }
   ],
   "source": [
    "quadcopter_controller.rotation_angles()"
   ]
  },
  {
   "cell_type": "code",
   "execution_count": 8,
   "id": "4408d321",
   "metadata": {},
   "outputs": [
    {
     "data": {
      "text/plain": [
       "array([-0., -0.,  0.])"
      ]
     },
     "execution_count": 8,
     "metadata": {},
     "output_type": "execute_result"
    }
   ],
   "source": [
    "quadcopter_controller.angular_velocity()"
   ]
  },
  {
   "cell_type": "markdown",
   "id": "2a4631d4",
   "metadata": {},
   "source": [
    "Send motor commands."
   ]
  },
  {
   "cell_type": "code",
   "execution_count": 9,
   "id": "c4424277",
   "metadata": {},
   "outputs": [],
   "source": [
    "quadcopter_controller.control_motors(0.4, 0.7, 0.1, 0.33)"
   ]
  },
  {
   "cell_type": "markdown",
   "id": "10c88063",
   "metadata": {},
   "source": [
    "Control with random motor commands for 1000 timesteps (10 sec)"
   ]
  },
  {
   "cell_type": "code",
   "execution_count": 10,
   "id": "9ea1ce74",
   "metadata": {},
   "outputs": [
    {
     "name": "stdout",
     "output_type": "stream",
     "text": [
      "drone crashed\n"
     ]
    }
   ],
   "source": [
    "import numpy as np\n",
    "\n",
    "\n",
    "for _ in range(0, 1000):\n",
    "  thrust = np.random.uniform(0, 100, 4).tolist()\n",
    "  try:\n",
    "    quadcopter_controller.control_motors(*thrust)\n",
    "    quadcopter_controller.step()\n",
    "  except Exception as e:\n",
    "    print(\"drone crashed\")\n",
    "    break"
   ]
  }
 ],
 "metadata": {
  "kernelspec": {
   "display_name": "jax",
   "language": "python",
   "name": "python3"
  },
  "language_info": {
   "codemirror_mode": {
    "name": "ipython",
    "version": 3
   },
   "file_extension": ".py",
   "mimetype": "text/x-python",
   "name": "python",
   "nbconvert_exporter": "python",
   "pygments_lexer": "ipython3",
   "version": "3.11.7"
  }
 },
 "nbformat": 4,
 "nbformat_minor": 5
}
